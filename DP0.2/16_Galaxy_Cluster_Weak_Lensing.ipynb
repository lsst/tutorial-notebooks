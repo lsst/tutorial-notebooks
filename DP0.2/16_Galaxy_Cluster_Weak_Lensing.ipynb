{
 "cells": [
  {
   "cell_type": "markdown",
   "id": "548dece7-d479-4307-844c-ab93396f3813",
   "metadata": {},
   "source": [
    "# Galaxy cluster weak gravitational lensing analysis\n",
    "\n",
    "<img align=\"left\" src = https://noirlab.edu/public/media/archives/logos/svg/logo250.svg width=250 style=\"background-color:white; padding:10px\" alt=\"Rubin Observatory logo, a graphical representation of turning stars into data.\">\n",
    "\n",
    "<br>\n",
    "For the Rubin Science Platform at data.lsst.cloud. <br>\n",
    "Data Release: DP02 <br>\n",
    "Container Size: medium <br>\n",
    "LSST Science Pipelines version: Weekly 2025_09 <br>\n",
    "Last verified to run: 2025-03-15 <br>\n",
    "Contact author(s): Shenming Fu <br>"
   ]
  },
  {
   "cell_type": "markdown",
   "id": "8d18491e-849d-40f9-b538-f843dd3df052",
   "metadata": {},
   "source": [
    "**Description:** This notebook demonstrates how to query Data Preview 0 (DP0) data for galaxy cluster weak gravitational lensing analysis."
   ]
  },
  {
   "cell_type": "markdown",
   "id": "be30837a-e4ac-4993-938e-7358069dcb0b",
   "metadata": {},
   "source": [
    "**Skills:** Select background galaxies by color and make a mean shape profile."
   ]
  },
  {
   "cell_type": "markdown",
   "id": "e30e29e3-d61c-4c59-846d-6e1dcf47661b",
   "metadata": {},
   "source": [
    "**LSST Data Products:** Images (`deepCoadd`) and catalogs (`Object` table)."
   ]
  },
  {
   "cell_type": "markdown",
   "id": "36c38828-d573-4846-a3c0-3ab49d7c3a9e",
   "metadata": {},
   "source": [
    "**Packages:** lsst.daf.butler, lsst.rsp"
   ]
  },
  {
   "cell_type": "markdown",
   "id": "82a93e03-80aa-41a5-a48d-dbda31209251",
   "metadata": {},
   "source": [
    "**Credit:** This tutorial was originally developed by Shenming Fu, reviewed by Andrés A. Plazas Malagón, and in collaboration with the Rubin Community Science Team."
   ]
  },
  {
   "cell_type": "markdown",
   "id": "f71bd866-d5c3-4ffd-a42d-4379acf723b3",
   "metadata": {},
   "source": [
    "**Get Support:**\n",
    "Find DP0-related documentation and resources at <a href=\"https://dp0.lsst.io\">dp0.lsst.io</a>. Questions are welcome as new topics in the <a href=\"https://community.lsst.org/c/support/dp0\">Support - Data Preview 0 Category</a> of the Rubin Community Forum. Rubin staff will respond to all questions posted there."
   ]
  },
  {
   "cell_type": "markdown",
   "id": "984f8f89-15ea-4ab9-80af-66415f59dfbb",
   "metadata": {},
   "source": [
    "## 1. Introduction\n",
    "\n",
    "Galaxy clusters are the largest gravitionally bound objects in the Universe. According to the General Relatively, massive objects warp the spacetime, and light follows the curvature of spacetime. Thus, massive objects act like lenses that bend the path of the light emitted from distance sources. This effect is called \"gravitional lensing\". \n",
    "\n",
    "The large mass of a galaxy cluster coherently distorts the images of backgroud galaxies, and this distortion occurs over a large sky area around the cluster. The lensing effect on the shape of a single background galaxy far from the cluster center is small, but the lensing signal can be detected by averaging the shape of many background galaxies. This is because the original shapes of the galaxies are randomly oriented. This effect is called weak gravitational lensing (WL), which shows up in the statistics of a large sample of galaxy shapes. More detailed introduction to cluster WL can be found in review papers (e.g., [Bartelmann & Schneider 2001](https://ui.adsabs.harvard.edu/abs/2001PhR...340..291B/abstract); [Umetsu 2020](https://ui.adsabs.harvard.edu/abs/2020A%26ARv..28....7U/abstract)). \n",
    "\n",
    "Note that WL also happens between galaxies and when the light passes through the large-scale structure of the Universe (cosmic shear). Compared to galaxy-galaxy lensing and cosmic shear, the cluster WL signal is generally about 1 magnitude higher (at the level of 10 times). \n",
    "\n",
    "This notebook gives an example of detecting lensing signal of clusters using DP0 data."
   ]
  },
  {
   "cell_type": "markdown",
   "id": "6c367e76-bcb0-4415-a20c-0f50a4c5ce02",
   "metadata": {},
   "source": [
    "### 1.1. Import packages\n",
    "Import general packages, the LSST Science Pipelines packages for bulter and display, and Rubin Science Platform Table Access Protocol (TAP) package. "
   ]
  },
  {
   "cell_type": "code",
   "execution_count": null,
   "id": "44f14be7-bf70-433c-b960-d6d8fb54aae2",
   "metadata": {},
   "outputs": [],
   "source": [
    "import matplotlib.pyplot as plt\n",
    "\n",
    "import numpy as np\n",
    "from scipy.stats import binned_statistic, bootstrap\n",
    "from astropy.table import Table, vstack\n",
    "from astropy.coordinates import SkyCoord\n",
    "\n",
    "# LSST Science Pipelines (Stack) packages\n",
    "import lsst.daf.butler as dafButler\n",
    "import lsst.afw.display as afwDisplay\n",
    "\n",
    "from lsst.rsp import get_tap_service\n",
    "\n",
    "plt.style.use('tableau-colorblind10')\n",
    "afwDisplay.setDefaultBackend('matplotlib')"
   ]
  },
  {
   "cell_type": "markdown",
   "id": "0c1f586a-3db3-4ab6-83ac-72e3eeaa0540",
   "metadata": {},
   "source": [
    "### 1.2. Define functions\n",
    "Define a function to compute resampling.\n"
   ]
  },
  {
   "cell_type": "code",
   "execution_count": null,
   "id": "c7fcfc88-8fb2-4175-80ea-dc6313d5dbd0",
   "metadata": {},
   "outputs": [],
   "source": [
    "def get_stat(data, statistic=np.mean, confidence_level=0.682):\n",
    "    \"\"\"\n",
    "    Given the data, statistic, confidence_level,\n",
    "      compute the value and scatter of the statistic using bootstrapping.\n",
    "\n",
    "    Parameters\n",
    "    ----------\n",
    "    data: float\n",
    "            Numpy array.\n",
    "    statistic: float\n",
    "            Statistic such as np.mean, np.median.\n",
    "    confidence_level: float\n",
    "            Size of confidence interval.\n",
    "\n",
    "    Returns\n",
    "    -------\n",
    "    stat: float\n",
    "            Statistic value.\n",
    "    lerr: float\n",
    "            Lower error.\n",
    "    herr: float\n",
    "            Higher error.\n",
    "\n",
    "    \"\"\"\n",
    "\n",
    "    rng = np.random.default_rng()\n",
    "    res = bootstrap((data,),\n",
    "                    statistic=statistic,\n",
    "                    confidence_level=confidence_level,\n",
    "                    random_state=rng)\n",
    "    stat = np.mean(data)\n",
    "    lerr = stat - res.confidence_interval[0]\n",
    "    herr = res.confidence_interval[1] - stat\n",
    "    return stat, lerr, herr"
   ]
  },
  {
   "cell_type": "markdown",
   "id": "672d3972-1e9a-4e22-b80c-ae66c59a5bd9",
   "metadata": {},
   "source": [
    "## 2. Get the coadd object catalog around a cluster\n",
    "There is a known cluster at (55.749deg, -32.273deg) for Right Ascension (RA), DEClination (DEC). Make a cone search for primary objects with radius 15 arcmin using Table Access Protocol (TAP). \n",
    "More details about the TAP service can be found in the tutorial Notebook for TAP (DP02_02a Introduction to TAP). \n",
    "\n",
    "Select galaxies by extendedness, which is the difference between the Point Spread Function (PSF) photometry and the Composite-Model (CModel) photometry ([Abazajian et al. 2004](https://ui.adsabs.harvard.edu/abs/2004AJ....128..502A/abstract), [Bosch et al. 2018](https://ui.adsabs.harvard.edu/abs/2018PASJ...70S...5B/abstract)). CModel measures extended objects and is used for galaxy photometry generally. \n",
    "\n",
    "Use the `g` and `r` band color information to remove foreground galaxies, applying relevant flag cuts. Additionally, use the `r` band for shape analysis. Using the `r` band shapes is common in weak lensing studies. The main reason is the balance between seeing and sky brightness for shape measurement ([Fu et al. 2022](https://ui.adsabs.harvard.edu/abs/2022ApJ...933...84F)). Another reason is that Differential Chromatic Refraction (DCR) is weaker in redder bands, which reduces the PSF elongation along the zenith and makes the galaxy's pre-PSF shape easier to measure ([Plazas et al. 2012](https://ui.adsabs.harvard.edu/abs/2012PASP..124.1113P/abstract)). \n",
    "Also, apply quality cuts to the shape measurements of galaxies for WL analysis ([Mandelbaumet al. 2018](https://ui.adsabs.harvard.edu/abs/2018PASJ...70S..25M/abstract)). \n",
    "\n",
    "For simplicity, skip the use of photometric redshift (photo-z) in this notebook. While the photo-z information can help select background galaxies by redshift, background galaxies can also be selected directly by color. \n"
   ]
  },
  {
   "cell_type": "code",
   "execution_count": null,
   "id": "3ad25819-50e3-4c0b-b712-deb1a7cd5350",
   "metadata": {},
   "outputs": [],
   "source": [
    "service = get_tap_service(\"tap\")\n",
    "assert service is not None"
   ]
  },
  {
   "cell_type": "code",
   "execution_count": null,
   "id": "674fba05-f486-4d11-8087-1932bb9e8dd4",
   "metadata": {},
   "outputs": [],
   "source": [
    "center_ra = 55.749\n",
    "center_dec = -32.273\n",
    "radius = 15/60.\n",
    "\n",
    "str_center_coords = str(center_ra) + \", \" + str(center_dec)\n",
    "str_radius = str(radius)\n",
    "\n",
    "query = \"SELECT r_ra, r_decl, \"\\\n",
    "        \"r_cModelFlux, r_cModelFluxErr, g_cModelFlux, g_cModelFluxErr, \"\\\n",
    "        \"r_hsmShapeRegauss_e1, r_hsmShapeRegauss_e2, x, y \"\\\n",
    "        \"FROM dp02_dc2_catalogs.Object \"\\\n",
    "        \"WHERE CONTAINS(POINT('ICRS', coord_ra, coord_dec), \"\\\n",
    "        \"CIRCLE('ICRS', \" + str_center_coords + \", \" + str_radius + \")) = 1 \"\\\n",
    "        \"AND detect_isPrimary = 1 \"\\\n",
    "        \"AND r_extendedness = 1 \"\\\n",
    "        \"AND r_extendedness_flag = 0 \"\\\n",
    "        \"AND r_cModel_flag = 0 \"\\\n",
    "        \"AND g_cModel_flag = 0 \"\\\n",
    "        \"AND r_psfFlux_flag = 0 \"\\\n",
    "        \"AND r_centroid_flag = 0 \"\\\n",
    "        \"AND r_hsmShapeRegauss_sigma < 0.4 \"\\\n",
    "        \"AND r_blendedness < 0.42 \"\n",
    "\n",
    "\n",
    "print(query)"
   ]
  },
  {
   "cell_type": "markdown",
   "id": "824a3c76-b0ba-4aab-a4df-937718eb9814",
   "metadata": {},
   "source": [
    "Run the job."
   ]
  },
  {
   "cell_type": "code",
   "execution_count": null,
   "id": "a5cd6134-eb25-4c85-a16e-9379a0eda81b",
   "metadata": {},
   "outputs": [],
   "source": [
    "job = service.submit_job(query)\n",
    "job.run()\n",
    "job.wait(phases=['COMPLETED', 'ERROR'])\n",
    "print('Job phase is', job.phase)\n",
    "assert job.phase == 'COMPLETED'"
   ]
  },
  {
   "cell_type": "markdown",
   "id": "58652f65-bf94-4715-a891-9923f4440b8b",
   "metadata": {},
   "source": [
    "Finally, save the results into an astropy table."
   ]
  },
  {
   "cell_type": "code",
   "execution_count": null,
   "id": "c1dde450-4bb2-44cc-8bf8-6eb2be4568e7",
   "metadata": {},
   "outputs": [],
   "source": [
    "data = job.fetch_result().to_table()\n",
    "job.delete()"
   ]
  },
  {
   "cell_type": "markdown",
   "id": "2129c858-1600-4805-aec7-354702a0f244",
   "metadata": {},
   "source": [
    "Delete the variable."
   ]
  },
  {
   "cell_type": "code",
   "execution_count": null,
   "id": "f8437293-c4cc-4718-b0c0-c609a27f6b7f",
   "metadata": {},
   "outputs": [],
   "source": [
    "del query"
   ]
  },
  {
   "cell_type": "markdown",
   "id": "2ff7ecb6-d39d-4a79-b507-5cef1816def8",
   "metadata": {},
   "source": [
    "Apply some further cuts on the `g` and `r` band photometry to ensure the quality. First require the flux error to be positive to remove unphysical measurements."
   ]
  },
  {
   "cell_type": "code",
   "execution_count": null,
   "id": "96a77ad5-5386-45a9-b6ab-f6322473b5d9",
   "metadata": {},
   "outputs": [],
   "source": [
    "data = data[data['r_cModelFluxErr'] > 0]\n",
    "data = data[data['g_cModelFluxErr'] > 0]"
   ]
  },
  {
   "cell_type": "markdown",
   "id": "7d8a8d3d-2075-4814-a0c3-d3ed0cc5986f",
   "metadata": {},
   "source": [
    "Make selection based on signal-to-noise ratio (SNR). Make a typical 5-sigma cut on SNR to select well-detected objects."
   ]
  },
  {
   "cell_type": "code",
   "execution_count": null,
   "id": "31c7e73c-92d7-417b-b0d4-4035dc65c5d3",
   "metadata": {},
   "outputs": [],
   "source": [
    "r_SNR = data['r_cModelFlux'] / data['r_cModelFluxErr']\n",
    "g_SNR = data['g_cModelFlux'] / data['g_cModelFluxErr']\n",
    "\n",
    "sel = r_SNR > 5.\n",
    "sel &= g_SNR > 5."
   ]
  },
  {
   "cell_type": "markdown",
   "id": "1157b428-8753-4f82-95fc-a612afdf85b3",
   "metadata": {},
   "source": [
    "WL distorts galaxy shapes, which are described by ellipticity. The ellipticity is constructed from the second moments of the object's 2D flux distribution, corrected for PSF effects. \n",
    "The HSM shape measurement is available in the catalog. The details of HSM are described in the work of [Hirata and Seljak (2003)](https://ui.adsabs.harvard.edu/abs/2003MNRAS.343..459H/abstract) and [Mandelbaum et al. (2005)](https://ui.adsabs.harvard.edu/abs/2005MNRAS.361.1287M/abstract). \n",
    "\n",
    "Require the measured ellipticity to be within 2. This removes galaxies with very large measured ellipticities that are unphysical, but allows galaxies with measured ellipticities slightly larger than 1 caused by noise ([Mandelbaum et al. 2018](https://ui.adsabs.harvard.edu/abs/2018PASJ...70S..25M/abstract)). \n",
    "\n",
    "For HSM shapes, the mean ellipticity divided by 2 approximates the lensing shear. Between the measured shear and the true shear there is a small bias, which is caused by galaxy shape dispersion, measurement noise, pixelization, and other effects. Usually, a shear calibration corrects for this bias. However, accurately determining shear calibration parameters requires further image simulation, which is beyond the scope of this notebook. Thus, for demonstration, skip shear calibration but focus on studying the mean galaxy shape in this notebook."
   ]
  },
  {
   "cell_type": "code",
   "execution_count": null,
   "id": "0c356515-1c39-4e58-a5dd-25aff668c411",
   "metadata": {},
   "outputs": [],
   "source": [
    "e1 = data['r_hsmShapeRegauss_e1']\n",
    "e2 = data['r_hsmShapeRegauss_e2']\n",
    "sel &= (e1**2 + e2**2)**0.5 < 2.\n",
    "print(\"Fraction of large ellipticity: \", np.sum(~sel)/len(data))"
   ]
  },
  {
   "cell_type": "markdown",
   "id": "4912aafe-23ce-44e4-ad26-d2bfddbae895",
   "metadata": {},
   "source": [
    "Make the selection. "
   ]
  },
  {
   "cell_type": "code",
   "execution_count": null,
   "id": "c936baf1-6344-4356-9fda-f4536e98501a",
   "metadata": {},
   "outputs": [],
   "source": [
    "data_s = data[sel]"
   ]
  },
  {
   "cell_type": "markdown",
   "id": "99b69b92-a359-4459-99a7-a6dc4d6d1cbc",
   "metadata": {},
   "source": [
    "## 3. Select galaxies by color\n",
    "\n",
    "Create a `g-r` vs `r` color-magnitude diagram (CMD) of galaxies. Clusters generally show a red sequence (RS) in the CMD due to evolution -- those red galaxies are the oldest and reddest in the cluster ([Kodama and Arimoto 1997](https://ui.adsabs.harvard.edu/abs/1997A%26A...320...41K/abstract); [Gladders and Yee 2000](https://ui.adsabs.harvard.edu/abs/2000AJ....120.2148G/abstract)). Galaxies that are redder than the RS are background galaxies. Thus, use colors to select a sample of background galaxies, and a sample of bright cluster member galaxies -- they show different colors in the CMD. Here is also an example tutorial of using the Rubin Science Platform (RSP) Portal to study the RS ([Exploring Extended Object Populations with Histograms](https://dp0-2.lsst.io/tutorials-examples/portal-4.html)).\n",
    "\n",
    "First, convert flux into magnitude and compute the magnitude uncertainty, based on the tutorial notebook DP02_01 (Introduction to Jupyter Notebooks for Data Preview 0.2). Note, the derivation of the magnitude uncertainty comes from the difference of the magnitude equation. Because $m = -2.5 * log(F) + m0$, where $m0$ is the magnitude zero, $m$ is the magnitude, and $F$ is the flux. Then $dm = -2.5/ln(10) * dF / F$, and the SNR is $F / dF$. "
   ]
  },
  {
   "cell_type": "code",
   "execution_count": null,
   "id": "c161531a-02a0-474e-b03f-f20171c25242",
   "metadata": {},
   "outputs": [],
   "source": [
    "r_cModel = -2.5*np.log10(data_s['r_cModelFlux']) + 31.4\n",
    "g_cModel = -2.5*np.log10(data_s['g_cModelFlux']) + 31.4\n",
    "\n",
    "fac = 2.5 / np.log(10)\n",
    "r_cModel_err = fac / r_SNR[sel]"
   ]
  },
  {
   "cell_type": "markdown",
   "id": "a9899d12-32bd-4960-8aed-069e1faf79d4",
   "metadata": {},
   "source": [
    "Make the CMD. \n",
    "\n",
    "There is a concentration of galaxies at $g-r\\approx1.1$, when the galaxies have different brightness (`r` band magnitude). That concentration represents the RS. Select galaxies redder than that to get background galaxies, and allow some gap from the the RS because of magnitude measurement uncertainties. "
   ]
  },
  {
   "cell_type": "code",
   "execution_count": null,
   "id": "db0c92dc-29d6-4520-8e48-552b17e38312",
   "metadata": {},
   "outputs": [],
   "source": [
    "plt.figure()\n",
    "plt.scatter(r_cModel,\n",
    "            g_cModel - r_cModel,\n",
    "            s=0.03, c='k', marker='.')\n",
    "\n",
    "sel_rs = g_cModel - r_cModel > 1.0\n",
    "sel_rs &= g_cModel - r_cModel < 1.2\n",
    "sel_rs &= r_cModel < 23.\n",
    "\n",
    "plt.scatter(r_cModel[sel_rs],\n",
    "            (g_cModel - r_cModel)[sel_rs],\n",
    "            s=10, c='r', alpha=0.3,\n",
    "            label='red sequence', marker='^')\n",
    "\n",
    "sel_bg = g_cModel - r_cModel > 1.35\n",
    "\n",
    "plt.scatter(r_cModel[sel_bg],\n",
    "            (g_cModel - r_cModel)[sel_bg],\n",
    "            s=5, c='b', alpha=0.3,\n",
    "            label='background', marker='s')\n",
    "\n",
    "_ = plt.legend()\n",
    "\n",
    "plt.xlim(15, 27)\n",
    "plt.ylim(-1, 3.)\n",
    "plt.xlabel('r [mag]')\n",
    "plt.ylabel('g - r [mag]')\n",
    "plt.minorticks_on()"
   ]
  },
  {
   "cell_type": "markdown",
   "id": "5802b2bc-3ea2-4570-a351-da3292d1bf6e",
   "metadata": {},
   "source": [
    "> Figure 1: Color-magnitude of galaxies with markers showing the selected background galaxies and the bright red sequence galaxies. "
   ]
  },
  {
   "cell_type": "markdown",
   "id": "c27f219c-b7ef-40bc-9b54-c20a16536967",
   "metadata": {},
   "source": [
    "Check the relation between the `r` band magnitude and uncertainty, and compare that with SNR. In the figure, the uncertainty grows as the magnitude increases (i.e., the objects are fainter), which is expected."
   ]
  },
  {
   "cell_type": "code",
   "execution_count": null,
   "id": "3b07a765-0053-4072-a96b-863066844814",
   "metadata": {},
   "outputs": [],
   "source": [
    "plt.figure()\n",
    "\n",
    "plt.scatter(r_cModel,\n",
    "            r_cModel_err,\n",
    "            s=0.1, c='k')\n",
    "\n",
    "ls_list = ['-', '--', '-.']\n",
    "for i, SNR in enumerate([5, 10, 20]):\n",
    "    plt.axhline(fac / SNR, c='C%d'%i, label='SNR=%d'%SNR, ls=ls_list[i])\n",
    "\n",
    "plt.xlim(16, 28)\n",
    "plt.ylim(0, 0.25)\n",
    "\n",
    "plt.axvline(26, c='y', ls=':', label='mag=26')\n",
    "\n",
    "plt.xlabel('r [mag]')\n",
    "plt.ylabel('r_err [mag]')\n",
    "\n",
    "_ = plt.legend()"
   ]
  },
  {
   "cell_type": "markdown",
   "id": "0f290015-a720-47b2-a642-d99c731cda85",
   "metadata": {},
   "source": [
    "> Figure 2: r-band magnitude and uncertainty of galaxies."
   ]
  },
  {
   "cell_type": "markdown",
   "id": "81e50e3b-88c4-4845-8e4f-c83a2fecb412",
   "metadata": {},
   "source": [
    "Now, check the distribution of galaxies on the sky. Clearly, the RS galaxies have a concentration near the cluster center, but the background ones are uniformally distributed. "
   ]
  },
  {
   "cell_type": "code",
   "execution_count": null,
   "id": "f2e719ba-9b33-4bba-bd02-7053a2c9248e",
   "metadata": {},
   "outputs": [],
   "source": [
    "ra = data_s['r_ra']\n",
    "dec = data_s['r_decl']\n",
    "\n",
    "plt.figure(figsize=(5, 5))\n",
    "plt.scatter(ra[sel_rs], dec[sel_rs], s=10, c='r',\n",
    "            label=\"red sequence\", marker='^', alpha=0.5)\n",
    "plt.scatter(ra[sel_bg], dec[sel_bg], s=5, c='b',\n",
    "            label=\"background\", marker='s', alpha=0.5)\n",
    "plt.xlabel('RA [deg]')\n",
    "plt.ylabel('DEC [deg]')\n",
    "plt.gca().invert_xaxis()\n",
    "_ = plt.legend()"
   ]
  },
  {
   "cell_type": "markdown",
   "id": "4a6de724-9a8f-442d-8cb4-2a3d9b24d431",
   "metadata": {},
   "source": [
    "> Figure 3: Sky distribution of the selected background and red sequence galaxies."
   ]
  },
  {
   "cell_type": "markdown",
   "id": "0860beb7-7649-4ebf-ad9e-cabc3ca622c3",
   "metadata": {},
   "source": [
    "Also check the coadd image and see how the RS galaxies look like -- those bright large cluster galaxies do get selected. The image information comes from the tutorial notebook DP02_04a (Introduction to the Butler)."
   ]
  },
  {
   "cell_type": "code",
   "execution_count": null,
   "id": "f65d612f-5567-4c9c-81c7-081a2b73f1be",
   "metadata": {},
   "outputs": [],
   "source": [
    "config = 'dp02'\n",
    "collections = '2.2i/runs/DP0.2'\n",
    "butler = dafButler.Butler(config, collections=collections)\n",
    "\n",
    "datasetType = 'deepCoadd'\n",
    "dataId = {'tract': 4431, 'patch': 17, 'band': 'r'}\n",
    "coadd = butler.get(datasetType, dataId=dataId)"
   ]
  },
  {
   "cell_type": "code",
   "execution_count": null,
   "id": "fd373db3-2433-4b90-a0b3-3f016a50f797",
   "metadata": {},
   "outputs": [],
   "source": [
    "x = data_s['x']\n",
    "y = data_s['y']\n",
    "fig = plt.figure()\n",
    "display = afwDisplay.Display(frame=fig)\n",
    "display.scale('asinh', 'zscale')\n",
    "display.mtv(coadd.image)\n",
    "plt.scatter(x[sel_rs], y[sel_rs], ec='r', fc='none')\n",
    "plt.xlim(12000, 16000)\n",
    "plt.ylim(8000, 12000)\n",
    "plt.xlabel('x [pix]')\n",
    "plt.ylabel('y [pix]')"
   ]
  },
  {
   "cell_type": "markdown",
   "id": "68bd6bf5-a2bd-49fb-ba1e-14ea4dce541e",
   "metadata": {},
   "source": [
    "> Figure 4: Coadd r-band image with the selected RS galaxies."
   ]
  },
  {
   "cell_type": "code",
   "execution_count": null,
   "id": "23c35b53-1674-40c2-b94d-42c3cab48a4c",
   "metadata": {},
   "outputs": [],
   "source": [
    "del coadd"
   ]
  },
  {
   "cell_type": "markdown",
   "id": "077f62e7-53e3-48ad-af77-d721d2e2acc3",
   "metadata": {},
   "source": [
    "## 4. Lensing analysis\n",
    "\n",
    "Compute the tangential and cross ellipticities of background galaxies with respect to the cluster center. \n",
    "\n",
    "In the following formulae, $e_\\textrm{T}$ is the tangential ellipticity, $e_\\textrm{X}$ is the cross ellipticity, $\\varphi$ is the position angle towards the cluster center (top North and left East), $e_1$ and $e_2$ are the original ellipticity components. Note, in the formulae the position angle starts from the negative RA direction (West) and increases counterclockwise, but in Astropy the position angle starts from North. Thus, add $\\pi/2$ to the position angle computed by Astropy. \n",
    "\n",
    "$e_\\textrm{T}= - e_1 \\cos(2 \\varphi)- e_2 \\sin(2 \\varphi)$\n",
    "\n",
    "$e_\\textrm{X}= e_1 \\sin(2 \\varphi) - e_2 \\cos(2 \\varphi)$\n",
    "\n",
    "Here, the tangential direction is perpendicular to the line connecting the galaxy and the cluster center, while the cross direction is 45 degrees counterclockwise from the tangential direction.  \n",
    "\n",
    "Also, compute the radial distance in arcminutes. "
   ]
  },
  {
   "cell_type": "code",
   "execution_count": null,
   "id": "163b9436-7119-4588-b9a4-332baa0a2a11",
   "metadata": {},
   "outputs": [],
   "source": [
    "e1 = data_s['r_hsmShapeRegauss_e1']\n",
    "e2 = data_s['r_hsmShapeRegauss_e2']\n",
    "\n",
    "coord0 = SkyCoord(center_ra, center_dec, frame='icrs', unit='deg')\n",
    "coord1 = SkyCoord(ra, dec, frame='icrs', unit='deg')\n",
    "\n",
    "position_angle = coord0.position_angle(coord1).rad + np.pi/2.\n",
    "\n",
    "e_t = - e1 * np.cos(2.*position_angle) - e2 * np.sin(2.*position_angle)\n",
    "e_x = + e1 * np.sin(2.*position_angle) - e2 * np.cos(2.*position_angle)\n",
    "\n",
    "r = coord0.separation(coord1).arcmin"
   ]
  },
  {
   "cell_type": "markdown",
   "id": "a7879e76-a87f-4de9-9476-7889403fb5b4",
   "metadata": {},
   "source": [
    "Examine the distributions of the tangential and cross ellipticities. They both show Gaussian-like distributions, but the tangential ellipticity distribution has a mean slightly above zero, while the cross ellipticity distribution has a mean close to zero ([Kaiser 1995](https://ui.adsabs.harvard.edu/abs/1995ApJ...439L...1K/abstract); [Umetsu 2020](https://ui.adsabs.harvard.edu/abs/2020A%26ARv..28....7U/abstract))."
   ]
  },
  {
   "cell_type": "code",
   "execution_count": null,
   "id": "f59dfd2b-43cb-4cd6-8e5d-be7fe7dc5020",
   "metadata": {},
   "outputs": [],
   "source": [
    "bins = np.linspace(-1, 1, 30)\n",
    "mid = 0.5 * (bins[1:] + bins[:-1])\n",
    "\n",
    "plt.figure()\n",
    "\n",
    "n_e_t, _, im = plt.hist(e_t[sel_bg], bins=bins, histtype='step',\n",
    "                        density=True, label='e_t')\n",
    "n_e_x, _, im = plt.hist(e_x[sel_bg], bins=bins, histtype='step',\n",
    "                        density=True, ls='--', label='e_x')\n",
    "\n",
    "plt.axvline(np.mean(e_t[sel_bg]), c='C0', label='mean[e_t]')\n",
    "plt.axvline(np.mean(e_x[sel_bg]), c='C1', ls='--', label='mean[e_x]')\n",
    "\n",
    "plt.xlabel('ellipticity')\n",
    "plt.ylabel('count')\n",
    "\n",
    "_ = plt.legend()"
   ]
  },
  {
   "cell_type": "markdown",
   "id": "ed843f17-afa3-49a2-aa0c-a29698e928c8",
   "metadata": {},
   "source": [
    "> Figure 5: Distributions of the tangential ellipticities and the cross ellipticities of the selected background galaxies."
   ]
  },
  {
   "cell_type": "markdown",
   "id": "0a06b85d-e280-4c79-a3d1-04b3905e906f",
   "metadata": {},
   "source": [
    "The difference between two distributions shows a dipole feature as expected, because this is the difference between two Gaussian-like functions that only have a small offset of the peak. See also an example in the work of [Dell'Antonio et al. (2020)](https://ui.adsabs.harvard.edu/abs/2020ApJ...903...64D/abstract)."
   ]
  },
  {
   "cell_type": "code",
   "execution_count": null,
   "id": "ff90e181-3486-4246-b58a-559fc7e0851a",
   "metadata": {},
   "outputs": [],
   "source": [
    "plt.figure()\n",
    "plt.step(mid, n_e_t - n_e_x, where='mid')\n",
    "plt.axvline(0, c='k', ls=':')\n",
    "plt.xlabel('ellipticity')\n",
    "plt.ylabel('count difference')"
   ]
  },
  {
   "cell_type": "markdown",
   "id": "b6906929-1afa-4f5b-ab5a-fe4969d767cd",
   "metadata": {},
   "source": [
    "> Figure 6: Difference between the distributions of the tangential ellipticities and the cross ellipticities."
   ]
  },
  {
   "cell_type": "markdown",
   "id": "368408e6-1b97-4f02-8e62-109a3c61c6cf",
   "metadata": {},
   "source": [
    "Bin the data by radial distance to get the mean tangential and cross ellipticities. Note, these are ellipticity profiles rather than shear profiles. \n",
    "\n",
    "Estimate the error bar by the standard deviation divided by the square root of the number of data points ($std/\\sqrt{N}$). Here, the shape noise (which can be as large as the ellipticity itself) is usually about 10 times bigger than other sources of error (e.g., measurement error, large-scale structure). Therefore, using the statistical error is sufficient in this case, assuming each galaxy's shape is an independent measurement. See also the consistency with the resampling result below.\n",
    "\n",
    "When plotting the cross component result, shift the data point slightly for better visualization. \n",
    "\n",
    "This cluster has sufficient mass and an appropriate redshift to produce a significant lensing signal (mean tangential ellipticity). Additionally, the mean cross ellipticity is consistent with zero, indicating no significant systematics. "
   ]
  },
  {
   "cell_type": "code",
   "execution_count": null,
   "id": "969201e4-882b-4771-a6b9-9a64f9b65267",
   "metadata": {},
   "outputs": [],
   "source": [
    "r_max = np.max(r)\n",
    "print(r_max)\n",
    "\n",
    "bins = np.linspace(0, r_max, 7)\n",
    "mid = 0.5 * (bins[1:] + bins[:-1])\n",
    "\n",
    "e_t_mean, _, _ = binned_statistic(r[sel_bg], e_t[sel_bg], bins=bins)\n",
    "e_x_mean, _, _ = binned_statistic(r[sel_bg], e_x[sel_bg], bins=bins)\n",
    "\n",
    "e_t_std, _, _ = binned_statistic(r[sel_bg], e_t[sel_bg], bins=bins,\n",
    "                                 statistic='std')\n",
    "e_x_std, _, _ = binned_statistic(r[sel_bg], e_x[sel_bg], bins=bins,\n",
    "                                 statistic='std')\n",
    "\n",
    "count, _, _ = binned_statistic(r[sel_bg], e_t[sel_bg], bins=bins,\n",
    "                               statistic='count')\n",
    "\n",
    "e_t_err = e_t_std / count ** 0.5\n",
    "e_x_err = e_x_std / count ** 0.5\n",
    "\n",
    "plt.figure()\n",
    "plt.errorbar(mid, e_t_mean, e_t_err, fmt='o', label='e_t')\n",
    "plt.errorbar(mid+r_max*0.03, e_x_mean, e_x_err, fmt='x', label='e_x')\n",
    "plt.axhline(0, c='k', ls=':')\n",
    "plt.xlabel('r [arcmin]')\n",
    "plt.ylabel('<e_i>')\n",
    "\n",
    "_ = plt.legend()"
   ]
  },
  {
   "cell_type": "markdown",
   "id": "8b291098-4b92-43d5-bcc6-1f081888e6c9",
   "metadata": {},
   "source": [
    "> Figure 7: Mean shape profile with error bars estimated by statistical uncertainty."
   ]
  },
  {
   "cell_type": "markdown",
   "id": "76efa0bf-0d95-4adb-959a-1b2b7075657b",
   "metadata": {},
   "source": [
    "As mentioned earlier, there are other sources of error in addition to shape noise. For example, the background large-scale structure can introduce correlated noise between radial bins. To fully catch all kinds of error, consider using resampling to estimate the intrinsic scatter of the measurement. \n",
    "\n",
    "Thus, also use bootstrapping to estimate the error bars. Bootstrapping is a resampling method, which randomly picks sources in the bin with replacement to create a new sample that has the same size as the original. The mean ellipticity of the new sample is recorded, and this process is repeated many times. The scatter of these resampled means is then used as the error bar. \n",
    "\n",
    "The result is very similar to the previous one, because other types of error are much smaller than the shape noise."
   ]
  },
  {
   "cell_type": "code",
   "execution_count": null,
   "id": "fcd67b81-1b7e-4e77-bc8a-bb278a816694",
   "metadata": {},
   "outputs": [],
   "source": [
    "inds = np.digitize(r[sel_bg], bins)\n",
    "\n",
    "e_t_mean_list = []\n",
    "e_t_lerr_list = []\n",
    "e_t_herr_list = []\n",
    "\n",
    "e_x_mean_list = []\n",
    "e_x_lerr_list = []\n",
    "e_x_herr_list = []\n",
    "\n",
    "for i in range(1, len(bins)):\n",
    "    sel = inds == i\n",
    "    mean, lerr, herr = get_stat(np.ma.getdata(e_t[sel_bg][sel]))\n",
    "    e_t_mean_list.append(mean)\n",
    "    e_t_lerr_list.append(lerr)\n",
    "    e_t_herr_list.append(herr)\n",
    "\n",
    "    mean, lerr, herr = get_stat(np.ma.getdata(e_x[sel_bg][sel]))\n",
    "    e_x_mean_list.append(mean)\n",
    "    e_x_lerr_list.append(lerr)\n",
    "    e_x_herr_list.append(herr)\n"
   ]
  },
  {
   "cell_type": "code",
   "execution_count": null,
   "id": "6f0e53f3-740a-47a7-9db5-1435346a75d2",
   "metadata": {},
   "outputs": [],
   "source": [
    "plt.figure()\n",
    "plt.errorbar(mid, e_t_mean_list, [e_t_lerr_list, e_t_herr_list],\n",
    "             fmt='o', label='e_t')\n",
    "plt.errorbar(mid+r_max*0.03, e_x_mean_list, [e_x_lerr_list, e_x_herr_list],\n",
    "             fmt='x', label='e_x')\n",
    "plt.axhline(0, c='k', ls=':')\n",
    "plt.xlabel('r [arcmin]')\n",
    "plt.ylabel('<e_i>')\n",
    "_ = plt.legend()"
   ]
  },
  {
   "cell_type": "markdown",
   "id": "91433e59-1607-4f87-ba0f-d8e8e35296c0",
   "metadata": {},
   "source": [
    "> Figure 8: Mean shape profile with error bars estimated by bootstrapping."
   ]
  },
  {
   "cell_type": "markdown",
   "id": "831dc083-f3eb-4091-bd1a-43b87ef15436",
   "metadata": {},
   "source": [
    "##  5. Exercises for the learner\n",
    "1. Use a large cutout (see the notebook DP02_03a, Image Display and Manipulation) to obtain a big coadd image, instead of using the Butler in this case.\n",
    "2. Similar to the analysis of background sources here, test the shape distribution of cluster member galaxies, using the RS selection described above. Both the mean tangential and cross ellipticities are expected to be zero, because there is no lensing effect on cluster galaxies. The member galaxies may exist a small alightment due to gravity (instrinsic alignment), but this effect is much smaller than lensing.\n",
    "3. Test other clusters in the DP02 data."
   ]
  },
  {
   "cell_type": "markdown",
   "id": "60618899-15f6-4f1c-a8fb-30fba30acc6c",
   "metadata": {},
   "source": [
    "Note: It is encouraged that researchers join the LSST Dark Energy Science Collaboration (DESC) to carry out cosmological studies using the Rubin data."
   ]
  }
 ],
 "metadata": {
  "kernelspec": {
   "display_name": "LSST",
   "language": "python",
   "name": "lsst"
  },
  "language_info": {
   "codemirror_mode": {
    "name": "ipython",
    "version": 3
   },
   "file_extension": ".py",
   "mimetype": "text/x-python",
   "name": "python",
   "nbconvert_exporter": "python",
   "pygments_lexer": "ipython3",
   "version": "3.12.9"
  }
 },
 "nbformat": 4,
 "nbformat_minor": 5
}
