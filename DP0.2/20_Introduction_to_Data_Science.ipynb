{
 "cells": [
  {
   "cell_type": "markdown",
   "id": "5eb2606b-2724-43be-83bb-fb4df67d0b35",
   "metadata": {},
   "source": [
    "# Introduction to Data Science\n",
    "<img align=\"left\" src = https://project.lsst.org/sites/default/files/Rubin-O-Logo_0.png width=250 style=\"padding: 10px\"> \n",
    "<br>\n",
    "Contact author(s): Becky Nevin, Brian Nord<br>\n",
    "Last verified to run: 2025-05-06 <br>\n",
    "LSST Science Pipelines version: Weekly 2025_09 <br>\n",
    "Container size: small <br>\n",
    "Targeted learning level: intermediate <br>"
   ]
  },
  {
   "cell_type": "code",
   "execution_count": null,
   "id": "4a4e60f3-a825-4dcc-8cd5-37ed43b7373b",
   "metadata": {},
   "outputs": [],
   "source": [
    "%load_ext pycodestyle_magic\n",
    "%flake8_on\n",
    "import logging\n",
    "logging.getLogger(\"flake8\").setLevel(logging.FATAL)"
   ]
  },
  {
   "cell_type": "markdown",
   "id": "05e4d2c6-9774-48db-930e-58536bd69de0",
   "metadata": {},
   "source": [
    "**Description:** This notebook guides a PI through the process of using python's data science and machine learning libraries to explore data from complex ADQL queries with the TAP service. The goal is to build a predictive model to estimate missing $r-$band Kron Flux values when the other bands are available, and visualize the results and quantify the model performance."
   ]
  },
  {
   "cell_type": "markdown",
   "id": "242eb338-4d88-4a17-8e35-20d80774ec1b",
   "metadata": {},
   "source": [
    "**Skills:** Use of data science and machine learning tools such as scikit-learn, pandas, and seaborn."
   ]
  },
  {
   "cell_type": "markdown",
   "id": "76ffcb7f-a070-47b7-8545-f10813ff78ae",
   "metadata": {},
   "source": [
    "**LSST Data Products:** Object, Forcedsource, and CcdVisit tables."
   ]
  },
  {
   "cell_type": "markdown",
   "id": "bf4d0080-92f9-4a67-a829-5a772e428ac4",
   "metadata": {},
   "source": [
    "**Packages:** lsst.rsp, pandas, scikit-learn, seaborn"
   ]
  },
  {
   "cell_type": "markdown",
   "id": "e354c692-b8b4-425f-bcbe-a35221a9993a",
   "metadata": {},
   "source": [
    "**Credits:** Developed by Becky Nevin in collaboration with Melissa Graham, Brian Nord, and the Rubin Community Science Team for DP0.2. Based on notebooks developed by Leanne Guy (TAP query) and Alex Drlica-Wagner and Melissa Graham (Butler query).\n",
    "Please consider acknowledging them if this notebook is used for the preparation of journal articles, software releases, or other notebooks."
   ]
  },
  {
   "cell_type": "markdown",
   "id": "2e3e438c-a028-417f-a21f-1d31c5946376",
   "metadata": {},
   "source": [
    "**Get Support:**\n",
    "Find DP0-related documentation and resources at <a href=\"https://dp0.lsst.io\">dp0.lsst.io</a>. Questions are welcome as new topics in the <a href=\"https://community.lsst.org/c/support/dp0\">Support - Data Preview 0 Category</a> of the Rubin Community Forum. Rubin staff will respond to all questions posted there."
   ]
  },
  {
   "cell_type": "markdown",
   "id": "ca5378d1-00fe-44ad-be88-5f1a0a85b404",
   "metadata": {},
   "source": [
    "## 1. Introduction\n",
    "\n",
    "This notebook provides an intermediate-level demonstration of how to use the Table Access Protocol (TAP) server and ADQL (Astronomy Data Query Language) to query and retrieve data from the DP0.2 catalogs.\n",
    "\n",
    "TAP provides standardized access to catalog data for discovery, search, and retrieval.\n",
    "Full <a href=\"http://www.ivoa.net/documents/TAP\">documentation for TAP</a> is provided by the International Virtual Observatory Alliance (IVOA).\n",
    "ADQL is similar to SQL (Structured Query Langage).\n",
    "The <a href=\"http://www.ivoa.net/documents/latest/ADQL.html\">documentation for ADQL</a> includes more information about syntax and keywords.\n",
    "Note that not all ADQL functionality is supported yet in the DP0-era RSP.\n",
    "\n",
    "**See the recommendations for TAP queries in DP0.2 tutorial 02a \"Introduction to the TAP Service\".**\n",
    "\n",
    "The [documentation for Data Preview 0.2](https://dp0-2.lsst.io/) includes definitions\n",
    "of the data products, descriptions of catalog contents, and ADQL recipes.\n",
    "\n",
    "### 1.1. Package imports\n",
    "\n",
    "Import general python packages, the Rubin TAP service utilities, and various scikit-learn utilities."
   ]
  },
  {
   "cell_type": "code",
   "execution_count": 1,
   "id": "3f4900a4-3358-472a-b9ba-c42e3f2f0771",
   "metadata": {
    "execution": {
     "iopub.execute_input": "2025-05-07T22:05:03.838119Z",
     "iopub.status.busy": "2025-05-07T22:05:03.837815Z",
     "iopub.status.idle": "2025-05-07T22:05:07.659466Z",
     "shell.execute_reply": "2025-05-07T22:05:07.658406Z",
     "shell.execute_reply.started": "2025-05-07T22:05:03.838088Z"
    }
   },
   "outputs": [],
   "source": [
    "import numpy as np\n",
    "import matplotlib.pyplot as plt\n",
    "import seaborn as sns\n",
    "import pandas\n",
    "\n",
    "from astropy import units as u\n",
    "from astropy.coordinates import SkyCoord\n",
    "\n",
    "from sklearn.model_selection import train_test_split\n",
    "from sklearn.preprocessing import StandardScaler\n",
    "from sklearn.linear_model import LinearRegression\n",
    "from sklearn.metrics import mean_squared_error\n",
    "from sklearn.ensemble import RandomForestRegressor\n",
    "\n",
    "from lsst.rsp import get_tap_service, retrieve_query"
   ]
  },
  {
   "cell_type": "markdown",
   "id": "90251edc-e77a-4f2c-aef3-935381faebc9",
   "metadata": {},
   "source": [
    "Set up seaborn to use a friendly palette."
   ]
  },
  {
   "cell_type": "code",
   "execution_count": 2,
   "id": "94acc9f6-2033-4ace-aefd-d036a35f4221",
   "metadata": {
    "execution": {
     "iopub.execute_input": "2025-05-07T22:05:07.664107Z",
     "iopub.status.busy": "2025-05-07T22:05:07.663771Z",
     "iopub.status.idle": "2025-05-07T22:05:07.669508Z",
     "shell.execute_reply": "2025-05-07T22:05:07.668536Z",
     "shell.execute_reply.started": "2025-05-07T22:05:07.664073Z"
    }
   },
   "outputs": [],
   "source": [
    "sns.set_style(\"whitegrid\")\n",
    "palette = sns.color_palette(\"colorblind\")\n",
    "sns.set_palette(palette)"
   ]
  },
  {
   "cell_type": "markdown",
   "id": "ca1e28f4-805e-4480-a7c6-0473b7e2b088",
   "metadata": {},
   "source": [
    "### 1.2. Define functions and parameters\n",
    "\n",
    "Instantiate the TAP service."
   ]
  },
  {
   "cell_type": "code",
   "execution_count": 3,
   "id": "caf56589-100a-4481-8f24-5f5058b6671f",
   "metadata": {
    "execution": {
     "iopub.execute_input": "2025-05-07T22:05:07.673906Z",
     "iopub.status.busy": "2025-05-07T22:05:07.673591Z",
     "iopub.status.idle": "2025-05-07T22:05:07.724463Z",
     "shell.execute_reply": "2025-05-07T22:05:07.723437Z",
     "shell.execute_reply.started": "2025-05-07T22:05:07.673877Z"
    }
   },
   "outputs": [],
   "source": [
    "service = get_tap_service(\"tap\")\n",
    "assert service is not None"
   ]
  },
  {
   "cell_type": "markdown",
   "id": "9eb0f20e-6c28-404f-8032-acc00f73405a",
   "metadata": {},
   "source": [
    "Set the maximum number of rows to display from pandas."
   ]
  },
  {
   "cell_type": "code",
   "execution_count": 4,
   "id": "2b7b6002-2457-4c20-a03e-6bfa24a0aa27",
   "metadata": {
    "execution": {
     "iopub.execute_input": "2025-05-07T22:05:07.785841Z",
     "iopub.status.busy": "2025-05-07T22:05:07.785517Z",
     "iopub.status.idle": "2025-05-07T22:05:07.790060Z",
     "shell.execute_reply": "2025-05-07T22:05:07.789215Z",
     "shell.execute_reply.started": "2025-05-07T22:05:07.785810Z"
    }
   },
   "outputs": [],
   "source": [
    "pandas.set_option(\"display.max_rows\", 6)"
   ]
  },
  {
   "cell_type": "markdown",
   "id": "cd325fe4-6c7c-4803-ad79-f30d7edc23e3",
   "metadata": {},
   "source": [
    "## 2. Query for Kron fluxes around extended (galaxy) objects.\n",
    "I forget why I chose this specific statistic for the demo.\n",
    "\n",
    "Kron radius: A radius that is calculated using the light profile of the object, typically as the first moment (i.e., a weighted average of radius with brightness) of the light distribution.\n",
    "\n",
    "Kron flux: The total flux measured within a certain multiple (often 2.5×) of the Kron radius, typically capturing about 90–95% of the total light for extended sources like galaxies."
   ]
  },
  {
   "cell_type": "markdown",
   "id": "6b4f495d-1215-421d-bdb0-bc32fec92c25",
   "metadata": {},
   "source": [
    "Define the coordinates and radius to use for the example queries in Sections 2 and 3."
   ]
  },
  {
   "cell_type": "code",
   "execution_count": 5,
   "id": "7ddd0344-b354-45a0-9e5a-755149c9bc54",
   "metadata": {
    "execution": {
     "iopub.execute_input": "2025-05-07T22:05:10.643647Z",
     "iopub.status.busy": "2025-05-07T22:05:10.643208Z",
     "iopub.status.idle": "2025-05-07T22:05:10.648607Z",
     "shell.execute_reply": "2025-05-07T22:05:10.647556Z",
     "shell.execute_reply.started": "2025-05-07T22:05:10.643609Z"
    }
   },
   "outputs": [],
   "source": [
    "center_ra = 62\n",
    "center_dec = -37\n",
    "radius = 0.1\n",
    "\n",
    "str_center_coords = str(center_ra) + \", \" + str(center_dec)\n",
    "str_radius = str(radius)"
   ]
  },
  {
   "cell_type": "markdown",
   "id": "dd80babb-ee05-49e9-9f9c-923d5c0cee31",
   "metadata": {},
   "source": [
    "Start with the same query as used in the beginner TAP tutorial notebook 02a."
   ]
  },
  {
   "cell_type": "code",
   "execution_count": 6,
   "id": "985e3b62-8065-42ec-a40c-1232c4c45f17",
   "metadata": {
    "execution": {
     "iopub.execute_input": "2025-05-07T22:05:11.807873Z",
     "iopub.status.busy": "2025-05-07T22:05:11.807426Z",
     "iopub.status.idle": "2025-05-07T22:05:11.813478Z",
     "shell.execute_reply": "2025-05-07T22:05:11.812520Z",
     "shell.execute_reply.started": "2025-05-07T22:05:11.807835Z"
    }
   },
   "outputs": [
    {
     "name": "stdout",
     "output_type": "stream",
     "text": [
      "SELECT coord_ra, coord_dec, g_kronFlux, g_kronFlux_flag, r_kronFlux, r_kronFlux_flag, i_kronFlux, i_kronFlux_flag FROM dp02_dc2_catalogs.Object WHERE CONTAINS(POINT('ICRS', coord_ra, coord_dec), CIRCLE('ICRS', 62, -37, 0.1)) = 1 AND detect_isPrimary = 1 AND g_extendedness = 1\n"
     ]
    }
   ],
   "source": [
    "query = \"SELECT coord_ra, coord_dec, g_kronFlux, g_kronFlux_flag, \"\\\n",
    "        \"r_kronFlux, r_kronFlux_flag, i_kronFlux, i_kronFlux_flag \"\\\n",
    "        \"FROM dp02_dc2_catalogs.Object \"\\\n",
    "        \"WHERE CONTAINS(POINT('ICRS', coord_ra, coord_dec), \"\\\n",
    "        \"CIRCLE('ICRS', \" + str_center_coords + \", \" + str_radius + \")) = 1 \"\\\n",
    "        \"AND detect_isPrimary = 1 AND g_extendedness = 1\"\n",
    "print(query)"
   ]
  },
  {
   "cell_type": "markdown",
   "id": "f024085b-0f7f-45c6-8184-41b528c15396",
   "metadata": {},
   "source": [
    "Run the query job asynchronously."
   ]
  },
  {
   "cell_type": "code",
   "execution_count": 7,
   "id": "c02adc91-5f5e-418b-87a3-cba8beba7dd2",
   "metadata": {
    "execution": {
     "iopub.execute_input": "2025-05-07T22:05:12.604063Z",
     "iopub.status.busy": "2025-05-07T22:05:12.603619Z",
     "iopub.status.idle": "2025-05-07T22:05:13.791167Z",
     "shell.execute_reply": "2025-05-07T22:05:13.790094Z",
     "shell.execute_reply.started": "2025-05-07T22:05:12.604025Z"
    }
   },
   "outputs": [
    {
     "name": "stdout",
     "output_type": "stream",
     "text": [
      "Job phase is COMPLETED\n"
     ]
    }
   ],
   "source": [
    "job = service.submit_job(query)\n",
    "job.run()\n",
    "job.wait(phases=[\"COMPLETED\", \"ERROR\"])\n",
    "print(\"Job phase is\", job.phase)"
   ]
  },
  {
   "cell_type": "markdown",
   "id": "80b28a39-bd12-49d6-9cce-f8ddfc31296c",
   "metadata": {},
   "source": [
    "## 3. Explore the data using a `pandas` DataFrame object.\n",
    "From the `pandas` docs:\n",
    "> A DataFrame is a two-dimensional, size-mutable, heterogeneous tabular data structure with labeled axes (rows and columns)."
   ]
  },
  {
   "cell_type": "markdown",
   "id": "07d1cfb1-589b-402b-8b8f-c2c70652b6c6",
   "metadata": {},
   "source": [
    "Return the results as a `pandas` dataframe, and then delete the query to save space."
   ]
  },
  {
   "cell_type": "code",
   "execution_count": 8,
   "id": "8cd2f538-c2d7-44ca-ab4d-825120b8f2e7",
   "metadata": {
    "execution": {
     "iopub.execute_input": "2025-05-07T22:05:14.347205Z",
     "iopub.status.busy": "2025-05-07T22:05:14.346714Z",
     "iopub.status.idle": "2025-05-07T22:05:15.261252Z",
     "shell.execute_reply": "2025-05-07T22:05:15.260192Z",
     "shell.execute_reply.started": "2025-05-07T22:05:14.347162Z"
    }
   },
   "outputs": [],
   "source": [
    "results = job.fetch_result().to_table().to_pandas()\n",
    "job.delete()\n",
    "del query"
   ]
  },
  {
   "cell_type": "markdown",
   "id": "27888222-8fca-4620-a838-9260b0f5f47f",
   "metadata": {},
   "source": [
    "Display `results`."
   ]
  },
  {
   "cell_type": "code",
   "execution_count": 9,
   "id": "ee4d121e-6b4d-4371-afae-4f7587b95d51",
   "metadata": {
    "execution": {
     "iopub.execute_input": "2025-05-07T22:05:15.389946Z",
     "iopub.status.busy": "2025-05-07T22:05:15.389502Z",
     "iopub.status.idle": "2025-05-07T22:05:15.413383Z",
     "shell.execute_reply": "2025-05-07T22:05:15.412410Z",
     "shell.execute_reply.started": "2025-05-07T22:05:15.389907Z"
    }
   },
   "outputs": [
    {
     "data": {
      "text/html": [
       "<div>\n",
       "<style scoped>\n",
       "    .dataframe tbody tr th:only-of-type {\n",
       "        vertical-align: middle;\n",
       "    }\n",
       "\n",
       "    .dataframe tbody tr th {\n",
       "        vertical-align: top;\n",
       "    }\n",
       "\n",
       "    .dataframe thead th {\n",
       "        text-align: right;\n",
       "    }\n",
       "</style>\n",
       "<table border=\"1\" class=\"dataframe\">\n",
       "  <thead>\n",
       "    <tr style=\"text-align: right;\">\n",
       "      <th></th>\n",
       "      <th>coord_ra</th>\n",
       "      <th>coord_dec</th>\n",
       "      <th>g_kronFlux</th>\n",
       "      <th>g_kronFlux_flag</th>\n",
       "      <th>r_kronFlux</th>\n",
       "      <th>r_kronFlux_flag</th>\n",
       "      <th>i_kronFlux</th>\n",
       "      <th>i_kronFlux_flag</th>\n",
       "    </tr>\n",
       "  </thead>\n",
       "  <tbody>\n",
       "    <tr>\n",
       "      <th>0</th>\n",
       "      <td>62.018897</td>\n",
       "      <td>-37.095671</td>\n",
       "      <td>71.568352</td>\n",
       "      <td>True</td>\n",
       "      <td>91.185588</td>\n",
       "      <td>True</td>\n",
       "      <td>624.454022</td>\n",
       "      <td>True</td>\n",
       "    </tr>\n",
       "    <tr>\n",
       "      <th>1</th>\n",
       "      <td>62.020999</td>\n",
       "      <td>-37.093227</td>\n",
       "      <td>174.729861</td>\n",
       "      <td>False</td>\n",
       "      <td>110.922305</td>\n",
       "      <td>False</td>\n",
       "      <td>52.040203</td>\n",
       "      <td>True</td>\n",
       "    </tr>\n",
       "    <tr>\n",
       "      <th>2</th>\n",
       "      <td>62.000430</td>\n",
       "      <td>-37.093196</td>\n",
       "      <td>131.680920</td>\n",
       "      <td>False</td>\n",
       "      <td>137.655812</td>\n",
       "      <td>False</td>\n",
       "      <td>136.174616</td>\n",
       "      <td>True</td>\n",
       "    </tr>\n",
       "    <tr>\n",
       "      <th>...</th>\n",
       "      <td>...</td>\n",
       "      <td>...</td>\n",
       "      <td>...</td>\n",
       "      <td>...</td>\n",
       "      <td>...</td>\n",
       "      <td>...</td>\n",
       "      <td>...</td>\n",
       "      <td>...</td>\n",
       "    </tr>\n",
       "    <tr>\n",
       "      <th>11561</th>\n",
       "      <td>61.950427</td>\n",
       "      <td>-36.946586</td>\n",
       "      <td>51.054369</td>\n",
       "      <td>True</td>\n",
       "      <td>175.646973</td>\n",
       "      <td>False</td>\n",
       "      <td>123.073904</td>\n",
       "      <td>True</td>\n",
       "    </tr>\n",
       "    <tr>\n",
       "      <th>11562</th>\n",
       "      <td>61.976752</td>\n",
       "      <td>-36.904225</td>\n",
       "      <td>199.039503</td>\n",
       "      <td>False</td>\n",
       "      <td>187.972452</td>\n",
       "      <td>False</td>\n",
       "      <td>115.825734</td>\n",
       "      <td>False</td>\n",
       "    </tr>\n",
       "    <tr>\n",
       "      <th>11563</th>\n",
       "      <td>61.932319</td>\n",
       "      <td>-36.941077</td>\n",
       "      <td>266.123377</td>\n",
       "      <td>False</td>\n",
       "      <td>218.853195</td>\n",
       "      <td>False</td>\n",
       "      <td>481.650950</td>\n",
       "      <td>True</td>\n",
       "    </tr>\n",
       "  </tbody>\n",
       "</table>\n",
       "<p>11564 rows × 8 columns</p>\n",
       "</div>"
      ],
      "text/plain": [
       "        coord_ra  coord_dec  g_kronFlux  g_kronFlux_flag  r_kronFlux  \\\n",
       "0      62.018897 -37.095671   71.568352             True   91.185588   \n",
       "1      62.020999 -37.093227  174.729861            False  110.922305   \n",
       "2      62.000430 -37.093196  131.680920            False  137.655812   \n",
       "...          ...        ...         ...              ...         ...   \n",
       "11561  61.950427 -36.946586   51.054369             True  175.646973   \n",
       "11562  61.976752 -36.904225  199.039503            False  187.972452   \n",
       "11563  61.932319 -36.941077  266.123377            False  218.853195   \n",
       "\n",
       "       r_kronFlux_flag  i_kronFlux  i_kronFlux_flag  \n",
       "0                 True  624.454022             True  \n",
       "1                False   52.040203             True  \n",
       "2                False  136.174616             True  \n",
       "...                ...         ...              ...  \n",
       "11561            False  123.073904             True  \n",
       "11562            False  115.825734            False  \n",
       "11563            False  481.650950             True  \n",
       "\n",
       "[11564 rows x 8 columns]"
      ]
     },
     "execution_count": 9,
     "metadata": {},
     "output_type": "execute_result"
    }
   ],
   "source": [
    "results"
   ]
  },
  {
   "cell_type": "code",
   "execution_count": 10,
   "id": "db2168fe-593a-423d-b2f4-26ac0db60e8c",
   "metadata": {
    "execution": {
     "iopub.execute_input": "2025-05-07T22:05:15.818183Z",
     "iopub.status.busy": "2025-05-07T22:05:15.817048Z",
     "iopub.status.idle": "2025-05-07T22:05:15.823850Z",
     "shell.execute_reply": "2025-05-07T22:05:15.822948Z",
     "shell.execute_reply.started": "2025-05-07T22:05:15.818117Z"
    }
   },
   "outputs": [
    {
     "data": {
      "text/plain": [
       "pandas.core.frame.DataFrame"
      ]
     },
     "execution_count": 10,
     "metadata": {},
     "output_type": "execute_result"
    }
   ],
   "source": [
    "type(results)"
   ]
  },
  {
   "cell_type": "markdown",
   "id": "9c59c4e8-90bd-4aa8-8ce2-9a14c09988a0",
   "metadata": {},
   "source": [
    "There's a lot of options for investigating DataFrame objects. Some options are inspection- and summary-oriented, such as the `.head()`, `.tail()`, and `.describe()` attributes.\n",
    "\n",
    "Check these out now. `.head()` and `.tail()` show the first and last five rows, respectively, but can be modified to print out a different number of rows. `.describe()` provides statistics of the distribution of values in each column, including the mean and standard deviation."
   ]
  },
  {
   "cell_type": "code",
   "execution_count": 11,
   "id": "eec25f58-d3f3-4ef4-b3e2-ab105c4718fd",
   "metadata": {
    "execution": {
     "iopub.execute_input": "2025-05-07T22:05:17.628778Z",
     "iopub.status.busy": "2025-05-07T22:05:17.627960Z",
     "iopub.status.idle": "2025-05-07T22:05:17.667654Z",
     "shell.execute_reply": "2025-05-07T22:05:17.666625Z",
     "shell.execute_reply.started": "2025-05-07T22:05:17.628732Z"
    }
   },
   "outputs": [
    {
     "name": "stdout",
     "output_type": "stream",
     "text": [
      "    coord_ra  coord_dec  g_kronFlux  g_kronFlux_flag  r_kronFlux  \\\n",
      "0  62.018897 -37.095671   71.568352             True   91.185588   \n",
      "1  62.020999 -37.093227  174.729861            False  110.922305   \n",
      "2  62.000430 -37.093196  131.680920            False  137.655812   \n",
      "3  62.015568 -37.092868  372.665560            False  171.582869   \n",
      "4  62.002969 -37.092762  247.219720            False  153.138653   \n",
      "\n",
      "   r_kronFlux_flag  i_kronFlux  i_kronFlux_flag  \n",
      "0             True  624.454022             True  \n",
      "1            False   52.040203             True  \n",
      "2            False  136.174616             True  \n",
      "3            False  211.338418             True  \n",
      "4             True  184.829166             True  \n",
      "        coord_ra  coord_dec  g_kronFlux  g_kronFlux_flag  r_kronFlux  \\\n",
      "11554  61.913511 -36.960012  158.939682            False         NaN   \n",
      "11555  61.986424 -36.950292  125.535210            False   71.749436   \n",
      "11556  61.942562 -36.951137  108.966860            False  135.301872   \n",
      "...          ...        ...         ...              ...         ...   \n",
      "11561  61.950427 -36.946586   51.054369             True  175.646973   \n",
      "11562  61.976752 -36.904225  199.039503            False  187.972452   \n",
      "11563  61.932319 -36.941077  266.123377            False  218.853195   \n",
      "\n",
      "       r_kronFlux_flag  i_kronFlux  i_kronFlux_flag  \n",
      "11554             True  102.094474             True  \n",
      "11555             True         NaN             True  \n",
      "11556            False  191.964068             True  \n",
      "...                ...         ...              ...  \n",
      "11561            False  123.073904             True  \n",
      "11562            False  115.825734            False  \n",
      "11563            False  481.650950             True  \n",
      "\n",
      "[10 rows x 8 columns]\n",
      "           coord_ra     coord_dec     g_kronFlux    r_kronFlux    i_kronFlux\n",
      "count  11564.000000  11564.000000   11447.000000  1.145300e+04  1.129200e+04\n",
      "mean      61.999517    -37.001530     761.468963  1.368137e+03  2.071233e+03\n",
      "std        0.062390      0.050868   13194.742739  2.395294e+04  3.258561e+04\n",
      "...             ...           ...            ...           ...           ...\n",
      "50%       61.999039    -37.001694     182.963268  2.409297e+02  3.517374e+02\n",
      "75%       62.049891    -36.960187     340.536311  4.811457e+02  7.569082e+02\n",
      "max       62.124349    -36.900195  782163.585831  1.957761e+06  2.870998e+06\n",
      "\n",
      "[8 rows x 5 columns]\n"
     ]
    }
   ],
   "source": [
    "print(results.head())\n",
    "print(results.tail(10))\n",
    "print(results.describe())"
   ]
  },
  {
   "cell_type": "markdown",
   "id": "1b37fc18-e00b-4ef2-8d18-85d823d60d9e",
   "metadata": {},
   "source": [
    "## 4. Visualize using `seaborn`\n",
    "Use the boxplot tool from `seaborn` to visualize the distribution of the values in each column of the DataFrame."
   ]
  },
  {
   "cell_type": "code",
   "execution_count": 12,
   "id": "4fc9b578-2be4-4fb2-8d74-ebca809ea99f",
   "metadata": {
    "execution": {
     "iopub.execute_input": "2025-05-07T22:05:18.635581Z",
     "iopub.status.busy": "2025-05-07T22:05:18.635131Z",
     "iopub.status.idle": "2025-05-07T22:05:19.692427Z",
     "shell.execute_reply": "2025-05-07T22:05:19.691484Z",
     "shell.execute_reply.started": "2025-05-07T22:05:18.635542Z"
    }
   },
   "outputs": [
    {
     "data": {
      "image/png": "[encoded data removed]",
      "text/plain": [
       "<Figure size 800x600 with 1 Axes>"
      ]
     },
     "metadata": {},
     "output_type": "display_data"
    }
   ],
   "source": [
    "plt.figure(figsize=(8, 6))\n",
    "sns.boxplot(data=results)\n",
    "plt.title('Box Plot of Data Distributions')\n",
    "plt.xlabel('Feature')\n",
    "plt.ylabel('Value')\n",
    "plt.xticks(rotation=90)\n",
    "plt.show()"
   ]
  },
  {
   "cell_type": "markdown",
   "id": "ef5f20de-0fd6-4ba1-9cab-9d59cd05df99",
   "metadata": {},
   "source": [
    "The outliers are dominant in the visualization. Hide these and also only plot the kron Flux values."
   ]
  },
  {
   "cell_type": "code",
   "execution_count": 13,
   "id": "bacf5114-6a64-4100-8eb6-f1d9ddc36f89",
   "metadata": {
    "execution": {
     "iopub.execute_input": "2025-05-07T22:05:34.059685Z",
     "iopub.status.busy": "2025-05-07T22:05:34.059225Z",
     "iopub.status.idle": "2025-05-07T22:05:34.518113Z",
     "shell.execute_reply": "2025-05-07T22:05:34.517180Z",
     "shell.execute_reply.started": "2025-05-07T22:05:34.059647Z"
    }
   },
   "outputs": [
    {
     "data": {
      "image/png": "[encoded data removed]",
      "text/plain": [
       "<Figure size 800x600 with 1 Axes>"
      ]
     },
     "metadata": {},
     "output_type": "display_data"
    }
   ],
   "source": [
    "plt.figure(figsize=(8, 6))\n",
    "sns.boxplot(data=results[['g_kronFlux','r_kronFlux','i_kronFlux']], showfliers=False)\n",
    "plt.title('Box Plot of Data Distributions')\n",
    "plt.xlabel('Feature')\n",
    "plt.ylabel('Value')\n",
    "plt.xticks(rotation=90)\n",
    "plt.show()"
   ]
  },
  {
   "cell_type": "markdown",
   "id": "75d6336b-1068-46cf-8105-b945fd18020e",
   "metadata": {},
   "source": [
    "Boxplots show a box and whiskers.\n",
    "- The \"box\" is the interquartile range (IQR), which is the 25th percentile of the distribution of a value to the 75th percentile.\n",
    "- The horizontal line inside the box is the median of the distribution.\n",
    "- The whisker extends from the IQR to 1.5*IQR away from the edge of the box.\n",
    "- Points outside the whisker are considered outliers (hidden here).\n"
   ]
  },
  {
   "cell_type": "markdown",
   "id": "448bec6a-15e1-49b5-a52e-bdd743ff207a",
   "metadata": {},
   "source": [
    "Use `seaborn`'s violinplot tool to visualize the distribution for these same Kron flux values."
   ]
  },
  {
   "cell_type": "code",
   "execution_count": 14,
   "id": "39521ac6-0bec-42e7-9062-8fc9ce5edc55",
   "metadata": {
    "execution": {
     "iopub.execute_input": "2025-05-07T22:05:47.181972Z",
     "iopub.status.busy": "2025-05-07T22:05:47.180976Z",
     "iopub.status.idle": "2025-05-07T22:05:47.818553Z",
     "shell.execute_reply": "2025-05-07T22:05:47.817379Z",
     "shell.execute_reply.started": "2025-05-07T22:05:47.181926Z"
    }
   },
   "outputs": [
    {
     "data": {
      "image/png": "[encoded data removed]",
      "text/plain": [
       "<Figure size 800x600 with 1 Axes>"
      ]
     },
     "metadata": {},
     "output_type": "display_data"
    }
   ],
   "source": [
    "plt.figure(figsize=(8, 6))\n",
    "filtered_results = results[['g_kronFlux', 'r_kronFlux', 'i_kronFlux']].apply(lambda x: x[(x > x.quantile(0.05)) & (x < x.quantile(0.95))])\n",
    "sns.violinplot(data=filtered_results,\n",
    "              cut=0)\n",
    "plt.title('Box Plot of Data Distributions')\n",
    "plt.xlabel('Feature')\n",
    "plt.ylabel('Value')\n",
    "plt.xticks(rotation=90)\n",
    "plt.show()"
   ]
  },
  {
   "cell_type": "markdown",
   "id": "4f2c50a8-098e-4230-b122-3880c8bb1883",
   "metadata": {},
   "source": [
    "A violinplot gives a lot of the same information as a boxplot, in fact, there are little boxplots within the violinplot; the horizontal white line is the median, the thicker grey box is the IQR and the thin line shows the 1.5*IQR span. A violinplot also uses a kernel density extimator to visualize the distribution of each feature. These plots reveal that most of the data are clustered around relatively low values for all of the Kron fluxes."
   ]
  },
  {
   "cell_type": "markdown",
   "id": "3ec470a9-8db0-403a-89ba-32e0dd9bef15",
   "metadata": {},
   "source": [
    "## 5. Clean the data: Investigate the fluxes and associated flags"
   ]
  },
  {
   "cell_type": "markdown",
   "id": "18dba188-ea4c-47e9-8faf-62e3552add1e",
   "metadata": {},
   "source": [
    "Use `pandas` to investigate if there are any flags on the `kronFlux` measurement. The `.value_counts()` method will show the number of True and False columns, where True are rows for which the `g_kronFlux` measurement was flagged for a variety of reasons. There are many other columns that investigate specific reasons why this measurement is untrustworthy; the `g_kronFlux_flag` is a way to combine all of the individual flags."
   ]
  },
  {
   "cell_type": "code",
   "execution_count": 15,
   "id": "0be4535d-cc89-45ef-98e9-591b9f459fae",
   "metadata": {
    "execution": {
     "iopub.execute_input": "2025-05-07T22:05:52.420724Z",
     "iopub.status.busy": "2025-05-07T22:05:52.420299Z",
     "iopub.status.idle": "2025-05-07T22:05:52.429670Z",
     "shell.execute_reply": "2025-05-07T22:05:52.428773Z",
     "shell.execute_reply.started": "2025-05-07T22:05:52.420687Z"
    }
   },
   "outputs": [
    {
     "data": {
      "text/plain": [
       "g_kronFlux_flag\n",
       "False    10728\n",
       "True       836\n",
       "Name: count, dtype: int64"
      ]
     },
     "execution_count": 15,
     "metadata": {},
     "output_type": "execute_result"
    }
   ],
   "source": [
    "results['g_kronFlux_flag'].value_counts()"
   ]
  },
  {
   "cell_type": "markdown",
   "id": "24e94c30-66b3-4b9c-b79b-bcf024d5f214",
   "metadata": {},
   "source": [
    "Okay what about the `r_kronFlux` measurement?"
   ]
  },
  {
   "cell_type": "code",
   "execution_count": 16,
   "id": "0e66ccb2-3922-471b-8c15-7fb055d02a10",
   "metadata": {
    "execution": {
     "iopub.execute_input": "2025-05-07T22:05:56.102177Z",
     "iopub.status.busy": "2025-05-07T22:05:56.101688Z",
     "iopub.status.idle": "2025-05-07T22:05:56.110977Z",
     "shell.execute_reply": "2025-05-07T22:05:56.110054Z",
     "shell.execute_reply.started": "2025-05-07T22:05:56.102091Z"
    }
   },
   "outputs": [
    {
     "data": {
      "text/plain": [
       "r_kronFlux_flag\n",
       "False    10723\n",
       "True       841\n",
       "Name: count, dtype: int64"
      ]
     },
     "execution_count": 16,
     "metadata": {},
     "output_type": "execute_result"
    }
   ],
   "source": [
    "results['r_kronFlux_flag'].value_counts()"
   ]
  },
  {
   "cell_type": "markdown",
   "id": "fa7a4ce1-7bd4-47f8-a480-188b2c70579a",
   "metadata": {},
   "source": [
    "Perform an intersection to see if the flagged entries overlap between these two photometric bands."
   ]
  },
  {
   "cell_type": "code",
   "execution_count": 17,
   "id": "06786c33-2563-4237-9d0f-22d6308c0d7b",
   "metadata": {
    "execution": {
     "iopub.execute_input": "2025-05-07T22:05:57.819779Z",
     "iopub.status.busy": "2025-05-07T22:05:57.818811Z",
     "iopub.status.idle": "2025-05-07T22:05:57.875856Z",
     "shell.execute_reply": "2025-05-07T22:05:57.874913Z",
     "shell.execute_reply.started": "2025-05-07T22:05:57.819738Z"
    }
   },
   "outputs": [
    {
     "name": "stdout",
     "output_type": "stream",
     "text": [
      "        coord_ra  coord_dec  g_kronFlux  g_kronFlux_flag  r_kronFlux  \\\n",
      "0      62.018897 -37.095671   71.568352             True   91.185588   \n",
      "12     62.020649 -37.085250  164.458389             True   83.719543   \n",
      "44     62.050118 -37.076587   90.446302             True  127.674283   \n",
      "...          ...        ...         ...              ...         ...   \n",
      "11539  61.964568 -36.904478         NaN             True  414.809809   \n",
      "11547  61.885858 -36.962398   51.079756             True  138.740430   \n",
      "11560  61.975756 -36.903597   66.317754             True  114.603682   \n",
      "\n",
      "       r_kronFlux_flag  i_kronFlux  i_kronFlux_flag  \n",
      "0                 True  624.454022             True  \n",
      "12                True   39.636459             True  \n",
      "44                True  455.773111             True  \n",
      "...                ...         ...              ...  \n",
      "11539             True   85.175780            False  \n",
      "11547             True         NaN             True  \n",
      "11560             True  199.928482             True  \n",
      "\n",
      "[328 rows x 8 columns]\n"
     ]
    }
   ],
   "source": [
    "r_values = set(results['r_kronFlux_flag'].unique())\n",
    "g_values = set(results['g_kronFlux_flag'].unique())\n",
    "\n",
    "overlap = r_values & g_values\n",
    "\n",
    "overlap_true_rows = results[\n",
    "    (results['r_kronFlux_flag'].isin(overlap)) & \n",
    "    (results['g_kronFlux_flag'].isin(overlap)) & \n",
    "    (results['r_kronFlux_flag'] == True) & \n",
    "    (results['g_kronFlux_flag'] == True)\n",
    "]\n",
    "\n",
    "print(overlap_true_rows)"
   ]
  },
  {
   "cell_type": "markdown",
   "id": "ec13b104-ad8d-4bd6-8a93-b6d1d57b921e",
   "metadata": {},
   "source": [
    "There are six overlapping rows, meaning that in six cases, both photometric bands are flagged. Since the task at hand is a prediction one between three bands ($g$, $r$, and $i$) the bigger concern is the cases where any of these three Kron fluxes are flagged. Exclude rows where this is the case and build an \"unflagged\" DataFrame."
   ]
  },
  {
   "cell_type": "code",
   "execution_count": 46,
   "id": "e6294681-9c60-4ec6-805c-d378300acaa3",
   "metadata": {
    "execution": {
     "iopub.execute_input": "2025-05-07T22:18:46.381756Z",
     "iopub.status.busy": "2025-05-07T22:18:46.381328Z",
     "iopub.status.idle": "2025-05-07T22:18:46.389065Z",
     "shell.execute_reply": "2025-05-07T22:18:46.388134Z",
     "shell.execute_reply.started": "2025-05-07T22:18:46.381719Z"
    }
   },
   "outputs": [],
   "source": [
    "unflagged_df = results[\n",
    "    (results['r_kronFlux_flag'] == False) & \n",
    "    (results['g_kronFlux_flag'] == False) &\n",
    "    (results['i_kronFlux_flag'] == False)\n",
    "]"
   ]
  },
  {
   "cell_type": "markdown",
   "id": "38a84cda-eedb-4238-9d27-f91cb9f56531",
   "metadata": {},
   "source": [
    "Visualize the relationship between $g$ and $r$ in this unflagged DataFrame."
   ]
  },
  {
   "cell_type": "code",
   "execution_count": 47,
   "id": "61a66274-c3e1-4e41-b743-649fc00d69b7",
   "metadata": {
    "execution": {
     "iopub.execute_input": "2025-05-07T22:18:47.505342Z",
     "iopub.status.busy": "2025-05-07T22:18:47.504870Z",
     "iopub.status.idle": "2025-05-07T22:18:47.852980Z",
     "shell.execute_reply": "2025-05-07T22:18:47.852034Z",
     "shell.execute_reply.started": "2025-05-07T22:18:47.505305Z"
    }
   },
   "outputs": [
    {
     "data": {
      "image/png": "[encoded data removed]",
      "text/plain": [
       "<Figure size 640x480 with 1 Axes>"
      ]
     },
     "metadata": {},
     "output_type": "display_data"
    }
   ],
   "source": [
    "plt.scatter(unflagged_df['g_kronFlux'], unflagged_df['r_kronFlux'])\n",
    "plt.xlabel(r'$g-$band kronFlux [nJy]')\n",
    "plt.ylabel(r'$r-$band kronFlux [nJy]');"
   ]
  },
  {
   "cell_type": "markdown",
   "id": "1b76242e-6a0d-4f0c-ac35-fa27d4fef24a",
   "metadata": {},
   "source": [
    "Zoom in."
   ]
  },
  {
   "cell_type": "code",
   "execution_count": 49,
   "id": "5afedb17-6478-4f2b-bdfc-38e73cd4a65e",
   "metadata": {
    "execution": {
     "iopub.execute_input": "2025-05-07T22:19:01.573175Z",
     "iopub.status.busy": "2025-05-07T22:19:01.572728Z",
     "iopub.status.idle": "2025-05-07T22:19:01.860892Z",
     "shell.execute_reply": "2025-05-07T22:19:01.859964Z",
     "shell.execute_reply.started": "2025-05-07T22:19:01.573120Z"
    }
   },
   "outputs": [
    {
     "data": {
      "image/png": "[encoded data removed]",
      "text/plain": [
       "<Figure size 640x480 with 1 Axes>"
      ]
     },
     "metadata": {},
     "output_type": "display_data"
    }
   ],
   "source": [
    "plt.scatter(unflagged_df['g_kronFlux'], unflagged_df['r_kronFlux'])\n",
    "plt.xlabel(r'$g-$band kronFlux [nJy]')\n",
    "plt.ylabel(r'$r-$band kronFlux [nJy]')\n",
    "plt.xlim([0,30000])\n",
    "plt.ylim([0,0.5e5]);"
   ]
  },
  {
   "cell_type": "markdown",
   "id": "2f503394-3816-4d31-9cf0-9de88e229f87",
   "metadata": {},
   "source": [
    "The relationship between $g-$ and $r-$band Kron fluxes looks roughly linear, so we should be able to do some predictive work here."
   ]
  },
  {
   "cell_type": "markdown",
   "id": "ca8c22a0-485a-4525-af2f-1e4c8bf74cd0",
   "metadata": {},
   "source": [
    "Another thing to check before we start predicting is if there are any nans in these Series."
   ]
  },
  {
   "cell_type": "code",
   "execution_count": 50,
   "id": "01fcf2a8-7f85-4ec0-8ebe-b69b76da7294",
   "metadata": {
    "execution": {
     "iopub.execute_input": "2025-05-07T22:19:15.820758Z",
     "iopub.status.busy": "2025-05-07T22:19:15.819249Z",
     "iopub.status.idle": "2025-05-07T22:19:15.827303Z",
     "shell.execute_reply": "2025-05-07T22:19:15.826279Z",
     "shell.execute_reply.started": "2025-05-07T22:19:15.820711Z"
    }
   },
   "outputs": [
    {
     "name": "stdout",
     "output_type": "stream",
     "text": [
      "False False\n"
     ]
    }
   ],
   "source": [
    "print(unflagged_df['g_kronFlux'].isna().any(), unflagged_df['r_kronFlux'].isna().any())"
   ]
  },
  {
   "cell_type": "markdown",
   "id": "62479245-028e-4709-9c46-bc244463176c",
   "metadata": {},
   "source": [
    "Both outputs should be `False`."
   ]
  },
  {
   "cell_type": "markdown",
   "id": "2309022c-3530-4f3c-9f7a-7d51f3537afe",
   "metadata": {},
   "source": [
    "Another important step is to check for negative (or zero) values in these data; they are fluxes so they should not be negative or equal to zero. First, count the number of these values in each of the $g-$ and $r-$band Series. (A Series is a single row of a DataFrame)."
   ]
  },
  {
   "cell_type": "code",
   "execution_count": 56,
   "id": "47a125c4-77fa-4712-be40-241318966774",
   "metadata": {
    "execution": {
     "iopub.execute_input": "2025-05-07T22:22:48.108026Z",
     "iopub.status.busy": "2025-05-07T22:22:48.107233Z",
     "iopub.status.idle": "2025-05-07T22:22:48.114869Z",
     "shell.execute_reply": "2025-05-07T22:22:48.113914Z",
     "shell.execute_reply.started": "2025-05-07T22:22:48.107973Z"
    }
   },
   "outputs": [
    {
     "name": "stdout",
     "output_type": "stream",
     "text": [
      "Negative or zero values in g_kronFlux: 23\n",
      "Negative or zero values in r_kronFlux: 12\n"
     ]
    }
   ],
   "source": [
    "neg_g = (unflagged_df['g_kronFlux'] <= 0).sum()\n",
    "neg_r = (unflagged_df['r_kronFlux'] <= 0).sum()\n",
    "\n",
    "print(f\"Negative or zero values in g_kronFlux: {neg_g}\")\n",
    "print(f\"Negative or zero values in r_kronFlux: {neg_r}\")"
   ]
  },
  {
   "cell_type": "markdown",
   "id": "7a5d982a-939d-4e84-afbb-abe48975d502",
   "metadata": {},
   "source": [
    "Uh oh! This is a big problem, let's mask all rows of the dataframe where any individual flux measurement is negative, making a \"clean\" DataFrame."
   ]
  },
  {
   "cell_type": "code",
   "execution_count": 67,
   "id": "ffbe5670-6de4-4a92-99f7-4e480789b596",
   "metadata": {
    "execution": {
     "iopub.execute_input": "2025-05-07T22:24:58.138609Z",
     "iopub.status.busy": "2025-05-07T22:24:58.138075Z",
     "iopub.status.idle": "2025-05-07T22:24:58.146798Z",
     "shell.execute_reply": "2025-05-07T22:24:58.145796Z",
     "shell.execute_reply.started": "2025-05-07T22:24:58.138568Z"
    }
   },
   "outputs": [],
   "source": [
    "mask = (unflagged_df['g_kronFlux'] > 0) & (unflagged_df['r_kronFlux'] > 0) & (unflagged_df['i_kronFlux'] > 0)\n",
    "clean_df = unflagged_df[mask]"
   ]
  },
  {
   "cell_type": "code",
   "execution_count": 68,
   "id": "782e7e2e-372e-4fcb-b837-a19a3bc83511",
   "metadata": {
    "execution": {
     "iopub.execute_input": "2025-05-07T22:25:00.453158Z",
     "iopub.status.busy": "2025-05-07T22:25:00.452694Z",
     "iopub.status.idle": "2025-05-07T22:25:00.460363Z",
     "shell.execute_reply": "2025-05-07T22:25:00.459402Z",
     "shell.execute_reply.started": "2025-05-07T22:25:00.453102Z"
    }
   },
   "outputs": [
    {
     "name": "stdout",
     "output_type": "stream",
     "text": [
      "Negative or zero values in g_kronFlux: 0\n",
      "Negative or zero values in r_kronFlux: 0\n"
     ]
    }
   ],
   "source": [
    "neg_g = (clean_df['g_kronFlux'] <= 0).sum()\n",
    "neg_r = (clean_df['r_kronFlux'] <= 0).sum()\n",
    "print(f\"Negative or zero values in g_kronFlux: {neg_g}\")\n",
    "print(f\"Negative or zero values in r_kronFlux: {neg_r}\")"
   ]
  },
  {
   "cell_type": "markdown",
   "id": "4704605a-4665-4ccc-bd7e-cefaf5e09828",
   "metadata": {},
   "source": [
    "## 6. Prepare the training and test sets\n",
    "The goal is to predict the $r-$band Kron flux using the $g-$band Kron flux. The first step is to define the training and validation data."
   ]
  },
  {
   "cell_type": "code",
   "execution_count": 69,
   "id": "fc90feca-ede1-44b0-929b-2fec1ddf5ad4",
   "metadata": {
    "execution": {
     "iopub.execute_input": "2025-05-07T22:25:02.790270Z",
     "iopub.status.busy": "2025-05-07T22:25:02.789792Z",
     "iopub.status.idle": "2025-05-07T22:25:02.799574Z",
     "shell.execute_reply": "2025-05-07T22:25:02.798501Z",
     "shell.execute_reply.started": "2025-05-07T22:25:02.790231Z"
    }
   },
   "outputs": [],
   "source": [
    "X_train, X_test, y_train, y_test = train_test_split(\n",
    "    clean_df['g_kronFlux'].to_frame(), clean_df['r_kronFlux'].to_frame(), test_size=0.2, random_state=42)"
   ]
  },
  {
   "cell_type": "markdown",
   "id": "37d77db2-1a91-4696-831f-d426f3ca7539",
   "metadata": {},
   "source": [
    "The `.to_frame()` argument is required to input the X data as a 2D shape, as expected by `scikit-learn`."
   ]
  },
  {
   "cell_type": "markdown",
   "id": "ecb487df-ce82-4d2d-9821-64620e1e922b",
   "metadata": {},
   "source": [
    "It's practice to use a standard scaler when training machine learning models. Transform the training and test data."
   ]
  },
  {
   "cell_type": "code",
   "execution_count": 77,
   "id": "f09a28c9-f868-4cfa-a309-c53b26193e01",
   "metadata": {
    "execution": {
     "iopub.execute_input": "2025-05-07T22:25:38.851010Z",
     "iopub.status.busy": "2025-05-07T22:25:38.850578Z",
     "iopub.status.idle": "2025-05-07T22:25:38.876912Z",
     "shell.execute_reply": "2025-05-07T22:25:38.875876Z",
     "shell.execute_reply.started": "2025-05-07T22:25:38.850972Z"
    }
   },
   "outputs": [],
   "source": [
    "from sklearn.model_selection import train_test_split\n",
    "from sklearn.preprocessing import FunctionTransformer, StandardScaler\n",
    "from sklearn.pipeline import make_pipeline\n",
    "import numpy as np\n",
    "\n",
    "# Split data first\n",
    "X_train, X_test, y_train, y_test = train_test_split(\n",
    "    clean_df['g_kronFlux'].to_frame(), \n",
    "    clean_df['r_kronFlux'].to_frame(), \n",
    "    test_size=0.2, \n",
    "    random_state=42\n",
    ")\n",
    "\n",
    "# Define log + standard scaler for X\n",
    "X_scaler = make_pipeline(\n",
    "    FunctionTransformer(lambda x: np.log1p(x)),\n",
    "    StandardScaler()\n",
    ")\n",
    "\n",
    "# Define log + standard scaler for y\n",
    "y_scaler = make_pipeline(\n",
    "    FunctionTransformer(lambda x: np.log1p(x)),\n",
    "    StandardScaler()\n",
    ")\n",
    "\n",
    "# Fit and transform\n",
    "X_train_scaled = X_scaler.fit_transform(X_train)\n",
    "X_test_scaled = X_scaler.transform(X_test)\n",
    "\n",
    "y_train_scaled = y_scaler.fit_transform(y_train)\n",
    "y_test_scaled = y_scaler.transform(y_test)\n"
   ]
  },
  {
   "cell_type": "code",
   "execution_count": 71,
   "id": "2c8db726-4e7b-4bd8-ab46-31f25eacdf32",
   "metadata": {
    "execution": {
     "iopub.execute_input": "2025-05-07T22:25:08.817908Z",
     "iopub.status.busy": "2025-05-07T22:25:08.816938Z",
     "iopub.status.idle": "2025-05-07T22:25:08.822746Z",
     "shell.execute_reply": "2025-05-07T22:25:08.821802Z",
     "shell.execute_reply.started": "2025-05-07T22:25:08.817865Z"
    }
   },
   "outputs": [
    {
     "name": "stdout",
     "output_type": "stream",
     "text": [
      "(7690, 1)\n"
     ]
    }
   ],
   "source": [
    "print(np.shape(X_train_scaled))"
   ]
  },
  {
   "cell_type": "code",
   "execution_count": 78,
   "id": "085dae46-aedd-44f2-9830-ef6cfb788cbc",
   "metadata": {
    "execution": {
     "iopub.execute_input": "2025-05-07T22:25:42.550666Z",
     "iopub.status.busy": "2025-05-07T22:25:42.549834Z",
     "iopub.status.idle": "2025-05-07T22:25:42.555160Z",
     "shell.execute_reply": "2025-05-07T22:25:42.554213Z",
     "shell.execute_reply.started": "2025-05-07T22:25:42.550625Z"
    }
   },
   "outputs": [],
   "source": [
    "X_train = X_train_scaled\n",
    "X_test = X_test_scaled\n",
    "y_train = y_train_scaled\n",
    "y_test = y_test_scaled"
   ]
  },
  {
   "cell_type": "code",
   "execution_count": null,
   "id": "8e675e27-74f0-43e8-91af-8652e2710609",
   "metadata": {},
   "outputs": [],
   "source": [
    "scaler = StandardScaler()\n",
    "X_train = scaler.fit_transform(X_train)\n",
    "X_test = scaler.transform(X_test)"
   ]
  },
  {
   "cell_type": "markdown",
   "id": "f27ee6f3-713e-4b60-a905-5d04dc7950d8",
   "metadata": {},
   "source": [
    "The values of the training and test set should be scaled between values of 0 and 1 by default. Check this using a `seaborn` histogram."
   ]
  },
  {
   "cell_type": "code",
   "execution_count": 79,
   "id": "3ee4e732-8688-47fa-b62f-27cb4b9ee9ca",
   "metadata": {
    "execution": {
     "iopub.execute_input": "2025-05-07T22:25:44.500430Z",
     "iopub.status.busy": "2025-05-07T22:25:44.500004Z",
     "iopub.status.idle": "2025-05-07T22:25:44.712500Z",
     "shell.execute_reply": "2025-05-07T22:25:44.711570Z",
     "shell.execute_reply.started": "2025-05-07T22:25:44.500395Z"
    }
   },
   "outputs": [
    {
     "name": "stderr",
     "output_type": "stream",
     "text": [
      "/tmp/ipykernel_25995/1236112267.py:1: RuntimeWarning: invalid value encountered in log\n",
      "  plt.hist(np.log(X_train_scaled.flatten()));\n"
     ]
    },
    {
     "data": {
      "image/png": "[encoded data removed]",
      "text/plain": [
       "<Figure size 640x480 with 1 Axes>"
      ]
     },
     "metadata": {},
     "output_type": "display_data"
    }
   ],
   "source": [
    "plt.hist(np.log(X_train_scaled.flatten()));"
   ]
  },
  {
   "cell_type": "code",
   "execution_count": 80,
   "id": "40eaabc7-8c97-47dc-9de2-2b505aa32624",
   "metadata": {
    "execution": {
     "iopub.execute_input": "2025-05-07T22:25:45.996991Z",
     "iopub.status.busy": "2025-05-07T22:25:45.996231Z",
     "iopub.status.idle": "2025-05-07T22:25:46.204265Z",
     "shell.execute_reply": "2025-05-07T22:25:46.203327Z",
     "shell.execute_reply.started": "2025-05-07T22:25:45.996946Z"
    }
   },
   "outputs": [
    {
     "name": "stderr",
     "output_type": "stream",
     "text": [
      "/tmp/ipykernel_25995/2542126211.py:1: RuntimeWarning: invalid value encountered in log\n",
      "  plt.hist(np.log(y_train_scaled.flatten()));\n"
     ]
    },
    {
     "data": {
      "image/png": "[encoded data removed]",
      "text/plain": [
       "<Figure size 640x480 with 1 Axes>"
      ]
     },
     "metadata": {},
     "output_type": "display_data"
    }
   ],
   "source": [
    "plt.hist(np.log(y_train_scaled.flatten()));"
   ]
  },
  {
   "cell_type": "markdown",
   "id": "6011b2e6-5197-4475-8eb4-3a8841b3bd28",
   "metadata": {},
   "source": [
    "## 7. Model (using `scikit-learn`)"
   ]
  },
  {
   "cell_type": "markdown",
   "id": "48c8d648-288f-4635-a961-248f127fe524",
   "metadata": {},
   "source": [
    "## 7.1 Start with a linear regression"
   ]
  },
  {
   "cell_type": "code",
   "execution_count": 81,
   "id": "9a0c0864-ca7a-43fa-9d18-7c873a8ca7a0",
   "metadata": {
    "execution": {
     "iopub.execute_input": "2025-05-07T22:25:48.716313Z",
     "iopub.status.busy": "2025-05-07T22:25:48.715834Z",
     "iopub.status.idle": "2025-05-07T22:25:48.722991Z",
     "shell.execute_reply": "2025-05-07T22:25:48.722098Z",
     "shell.execute_reply.started": "2025-05-07T22:25:48.716274Z"
    }
   },
   "outputs": [
    {
     "data": {
      "text/plain": [
       "np.False_"
      ]
     },
     "execution_count": 81,
     "metadata": {},
     "output_type": "execute_result"
    }
   ],
   "source": [
    "np.isnan(X_train).any()"
   ]
  },
  {
   "cell_type": "code",
   "execution_count": 82,
   "id": "e02ca479-6105-442b-9879-2eb215dc4d66",
   "metadata": {
    "execution": {
     "iopub.execute_input": "2025-05-07T22:25:50.087748Z",
     "iopub.status.busy": "2025-05-07T22:25:50.087091Z",
     "iopub.status.idle": "2025-05-07T22:25:50.101293Z",
     "shell.execute_reply": "2025-05-07T22:25:50.100353Z",
     "shell.execute_reply.started": "2025-05-07T22:25:50.087710Z"
    }
   },
   "outputs": [
    {
     "data": {
      "text/html": [
       "<style>#sk-container-id-1 {\n",
       "  /* Definition of color scheme common for light and dark mode */\n",
       "  --sklearn-color-text: #000;\n",
       "  --sklearn-color-text-muted: #666;\n",
       "  --sklearn-color-line: gray;\n",
       "  /* Definition of color scheme for unfitted estimators */\n",
       "  --sklearn-color-unfitted-level-0: #fff5e6;\n",
       "  --sklearn-color-unfitted-level-1: #f6e4d2;\n",
       "  --sklearn-color-unfitted-level-2: #ffe0b3;\n",
       "  --sklearn-color-unfitted-level-3: chocolate;\n",
       "  /* Definition of color scheme for fitted estimators */\n",
       "  --sklearn-color-fitted-level-0: #f0f8ff;\n",
       "  --sklearn-color-fitted-level-1: #d4ebff;\n",
       "  --sklearn-color-fitted-level-2: #b3dbfd;\n",
       "  --sklearn-color-fitted-level-3: cornflowerblue;\n",
       "\n",
       "  /* Specific color for light theme */\n",
       "  --sklearn-color-text-on-default-background: var(--sg-text-color, var(--theme-code-foreground, var(--jp-content-font-color1, black)));\n",
       "  --sklearn-color-background: var(--sg-background-color, var(--theme-background, var(--jp-layout-color0, white)));\n",
       "  --sklearn-color-border-box: var(--sg-text-color, var(--theme-code-foreground, var(--jp-content-font-color1, black)));\n",
       "  --sklearn-color-icon: #696969;\n",
       "\n",
       "  @media (prefers-color-scheme: dark) {\n",
       "    /* Redefinition of color scheme for dark theme */\n",
       "    --sklearn-color-text-on-default-background: var(--sg-text-color, var(--theme-code-foreground, var(--jp-content-font-color1, white)));\n",
       "    --sklearn-color-background: var(--sg-background-color, var(--theme-background, var(--jp-layout-color0, #111)));\n",
       "    --sklearn-color-border-box: var(--sg-text-color, var(--theme-code-foreground, var(--jp-content-font-color1, white)));\n",
       "    --sklearn-color-icon: #878787;\n",
       "  }\n",
       "}\n",
       "\n",
       "#sk-container-id-1 {\n",
       "  color: var(--sklearn-color-text);\n",
       "}\n",
       "\n",
       "#sk-container-id-1 pre {\n",
       "  padding: 0;\n",
       "}\n",
       "\n",
       "#sk-container-id-1 input.sk-hidden--visually {\n",
       "  border: 0;\n",
       "  clip: rect(1px 1px 1px 1px);\n",
       "  clip: rect(1px, 1px, 1px, 1px);\n",
       "  height: 1px;\n",
       "  margin: -1px;\n",
       "  overflow: hidden;\n",
       "  padding: 0;\n",
       "  position: absolute;\n",
       "  width: 1px;\n",
       "}\n",
       "\n",
       "#sk-container-id-1 div.sk-dashed-wrapped {\n",
       "  border: 1px dashed var(--sklearn-color-line);\n",
       "  margin: 0 0.4em 0.5em 0.4em;\n",
       "  box-sizing: border-box;\n",
       "  padding-bottom: 0.4em;\n",
       "  background-color: var(--sklearn-color-background);\n",
       "}\n",
       "\n",
       "#sk-container-id-1 div.sk-container {\n",
       "  /* jupyter's `normalize.less` sets `[hidden] { display: none; }`\n",
       "     but bootstrap.min.css set `[hidden] { display: none !important; }`\n",
       "     so we also need the `!important` here to be able to override the\n",
       "     default hidden behavior on the sphinx rendered scikit-learn.org.\n",
       "     See: https://github.com/scikit-learn/scikit-learn/issues/21755 */\n",
       "  display: inline-block !important;\n",
       "  position: relative;\n",
       "}\n",
       "\n",
       "#sk-container-id-1 div.sk-text-repr-fallback {\n",
       "  display: none;\n",
       "}\n",
       "\n",
       "div.sk-parallel-item,\n",
       "div.sk-serial,\n",
       "div.sk-item {\n",
       "  /* draw centered vertical line to link estimators */\n",
       "  background-image: linear-gradient(var(--sklearn-color-text-on-default-background), var(--sklearn-color-text-on-default-background));\n",
       "  background-size: 2px 100%;\n",
       "  background-repeat: no-repeat;\n",
       "  background-position: center center;\n",
       "}\n",
       "\n",
       "/* Parallel-specific style estimator block */\n",
       "\n",
       "#sk-container-id-1 div.sk-parallel-item::after {\n",
       "  content: \"\";\n",
       "  width: 100%;\n",
       "  border-bottom: 2px solid var(--sklearn-color-text-on-default-background);\n",
       "  flex-grow: 1;\n",
       "}\n",
       "\n",
       "#sk-container-id-1 div.sk-parallel {\n",
       "  display: flex;\n",
       "  align-items: stretch;\n",
       "  justify-content: center;\n",
       "  background-color: var(--sklearn-color-background);\n",
       "  position: relative;\n",
       "}\n",
       "\n",
       "#sk-container-id-1 div.sk-parallel-item {\n",
       "  display: flex;\n",
       "  flex-direction: column;\n",
       "}\n",
       "\n",
       "#sk-container-id-1 div.sk-parallel-item:first-child::after {\n",
       "  align-self: flex-end;\n",
       "  width: 50%;\n",
       "}\n",
       "\n",
       "#sk-container-id-1 div.sk-parallel-item:last-child::after {\n",
       "  align-self: flex-start;\n",
       "  width: 50%;\n",
       "}\n",
       "\n",
       "#sk-container-id-1 div.sk-parallel-item:only-child::after {\n",
       "  width: 0;\n",
       "}\n",
       "\n",
       "/* Serial-specific style estimator block */\n",
       "\n",
       "#sk-container-id-1 div.sk-serial {\n",
       "  display: flex;\n",
       "  flex-direction: column;\n",
       "  align-items: center;\n",
       "  background-color: var(--sklearn-color-background);\n",
       "  padding-right: 1em;\n",
       "  padding-left: 1em;\n",
       "}\n",
       "\n",
       "\n",
       "/* Toggleable style: style used for estimator/Pipeline/ColumnTransformer box that is\n",
       "clickable and can be expanded/collapsed.\n",
       "- Pipeline and ColumnTransformer use this feature and define the default style\n",
       "- Estimators will overwrite some part of the style using the `sk-estimator` class\n",
       "*/\n",
       "\n",
       "/* Pipeline and ColumnTransformer style (default) */\n",
       "\n",
       "#sk-container-id-1 div.sk-toggleable {\n",
       "  /* Default theme specific background. It is overwritten whether we have a\n",
       "  specific estimator or a Pipeline/ColumnTransformer */\n",
       "  background-color: var(--sklearn-color-background);\n",
       "}\n",
       "\n",
       "/* Toggleable label */\n",
       "#sk-container-id-1 label.sk-toggleable__label {\n",
       "  cursor: pointer;\n",
       "  display: flex;\n",
       "  width: 100%;\n",
       "  margin-bottom: 0;\n",
       "  padding: 0.5em;\n",
       "  box-sizing: border-box;\n",
       "  text-align: center;\n",
       "  align-items: start;\n",
       "  justify-content: space-between;\n",
       "  gap: 0.5em;\n",
       "}\n",
       "\n",
       "#sk-container-id-1 label.sk-toggleable__label .caption {\n",
       "  font-size: 0.6rem;\n",
       "  font-weight: lighter;\n",
       "  color: var(--sklearn-color-text-muted);\n",
       "}\n",
       "\n",
       "#sk-container-id-1 label.sk-toggleable__label-arrow:before {\n",
       "  /* Arrow on the left of the label */\n",
       "  content: \"▸\";\n",
       "  float: left;\n",
       "  margin-right: 0.25em;\n",
       "  color: var(--sklearn-color-icon);\n",
       "}\n",
       "\n",
       "#sk-container-id-1 label.sk-toggleable__label-arrow:hover:before {\n",
       "  color: var(--sklearn-color-text);\n",
       "}\n",
       "\n",
       "/* Toggleable content - dropdown */\n",
       "\n",
       "#sk-container-id-1 div.sk-toggleable__content {\n",
       "  max-height: 0;\n",
       "  max-width: 0;\n",
       "  overflow: hidden;\n",
       "  text-align: left;\n",
       "  /* unfitted */\n",
       "  background-color: var(--sklearn-color-unfitted-level-0);\n",
       "}\n",
       "\n",
       "#sk-container-id-1 div.sk-toggleable__content.fitted {\n",
       "  /* fitted */\n",
       "  background-color: var(--sklearn-color-fitted-level-0);\n",
       "}\n",
       "\n",
       "#sk-container-id-1 div.sk-toggleable__content pre {\n",
       "  margin: 0.2em;\n",
       "  border-radius: 0.25em;\n",
       "  color: var(--sklearn-color-text);\n",
       "  /* unfitted */\n",
       "  background-color: var(--sklearn-color-unfitted-level-0);\n",
       "}\n",
       "\n",
       "#sk-container-id-1 div.sk-toggleable__content.fitted pre {\n",
       "  /* unfitted */\n",
       "  background-color: var(--sklearn-color-fitted-level-0);\n",
       "}\n",
       "\n",
       "#sk-container-id-1 input.sk-toggleable__control:checked~div.sk-toggleable__content {\n",
       "  /* Expand drop-down */\n",
       "  max-height: 200px;\n",
       "  max-width: 100%;\n",
       "  overflow: auto;\n",
       "}\n",
       "\n",
       "#sk-container-id-1 input.sk-toggleable__control:checked~label.sk-toggleable__label-arrow:before {\n",
       "  content: \"▾\";\n",
       "}\n",
       "\n",
       "/* Pipeline/ColumnTransformer-specific style */\n",
       "\n",
       "#sk-container-id-1 div.sk-label input.sk-toggleable__control:checked~label.sk-toggleable__label {\n",
       "  color: var(--sklearn-color-text);\n",
       "  background-color: var(--sklearn-color-unfitted-level-2);\n",
       "}\n",
       "\n",
       "#sk-container-id-1 div.sk-label.fitted input.sk-toggleable__control:checked~label.sk-toggleable__label {\n",
       "  background-color: var(--sklearn-color-fitted-level-2);\n",
       "}\n",
       "\n",
       "/* Estimator-specific style */\n",
       "\n",
       "/* Colorize estimator box */\n",
       "#sk-container-id-1 div.sk-estimator input.sk-toggleable__control:checked~label.sk-toggleable__label {\n",
       "  /* unfitted */\n",
       "  background-color: var(--sklearn-color-unfitted-level-2);\n",
       "}\n",
       "\n",
       "#sk-container-id-1 div.sk-estimator.fitted input.sk-toggleable__control:checked~label.sk-toggleable__label {\n",
       "  /* fitted */\n",
       "  background-color: var(--sklearn-color-fitted-level-2);\n",
       "}\n",
       "\n",
       "#sk-container-id-1 div.sk-label label.sk-toggleable__label,\n",
       "#sk-container-id-1 div.sk-label label {\n",
       "  /* The background is the default theme color */\n",
       "  color: var(--sklearn-color-text-on-default-background);\n",
       "}\n",
       "\n",
       "/* On hover, darken the color of the background */\n",
       "#sk-container-id-1 div.sk-label:hover label.sk-toggleable__label {\n",
       "  color: var(--sklearn-color-text);\n",
       "  background-color: var(--sklearn-color-unfitted-level-2);\n",
       "}\n",
       "\n",
       "/* Label box, darken color on hover, fitted */\n",
       "#sk-container-id-1 div.sk-label.fitted:hover label.sk-toggleable__label.fitted {\n",
       "  color: var(--sklearn-color-text);\n",
       "  background-color: var(--sklearn-color-fitted-level-2);\n",
       "}\n",
       "\n",
       "/* Estimator label */\n",
       "\n",
       "#sk-container-id-1 div.sk-label label {\n",
       "  font-family: monospace;\n",
       "  font-weight: bold;\n",
       "  display: inline-block;\n",
       "  line-height: 1.2em;\n",
       "}\n",
       "\n",
       "#sk-container-id-1 div.sk-label-container {\n",
       "  text-align: center;\n",
       "}\n",
       "\n",
       "/* Estimator-specific */\n",
       "#sk-container-id-1 div.sk-estimator {\n",
       "  font-family: monospace;\n",
       "  border: 1px dotted var(--sklearn-color-border-box);\n",
       "  border-radius: 0.25em;\n",
       "  box-sizing: border-box;\n",
       "  margin-bottom: 0.5em;\n",
       "  /* unfitted */\n",
       "  background-color: var(--sklearn-color-unfitted-level-0);\n",
       "}\n",
       "\n",
       "#sk-container-id-1 div.sk-estimator.fitted {\n",
       "  /* fitted */\n",
       "  background-color: var(--sklearn-color-fitted-level-0);\n",
       "}\n",
       "\n",
       "/* on hover */\n",
       "#sk-container-id-1 div.sk-estimator:hover {\n",
       "  /* unfitted */\n",
       "  background-color: var(--sklearn-color-unfitted-level-2);\n",
       "}\n",
       "\n",
       "#sk-container-id-1 div.sk-estimator.fitted:hover {\n",
       "  /* fitted */\n",
       "  background-color: var(--sklearn-color-fitted-level-2);\n",
       "}\n",
       "\n",
       "/* Specification for estimator info (e.g. \"i\" and \"?\") */\n",
       "\n",
       "/* Common style for \"i\" and \"?\" */\n",
       "\n",
       ".sk-estimator-doc-link,\n",
       "a:link.sk-estimator-doc-link,\n",
       "a:visited.sk-estimator-doc-link {\n",
       "  float: right;\n",
       "  font-size: smaller;\n",
       "  line-height: 1em;\n",
       "  font-family: monospace;\n",
       "  background-color: var(--sklearn-color-background);\n",
       "  border-radius: 1em;\n",
       "  height: 1em;\n",
       "  width: 1em;\n",
       "  text-decoration: none !important;\n",
       "  margin-left: 0.5em;\n",
       "  text-align: center;\n",
       "  /* unfitted */\n",
       "  border: var(--sklearn-color-unfitted-level-1) 1pt solid;\n",
       "  color: var(--sklearn-color-unfitted-level-1);\n",
       "}\n",
       "\n",
       ".sk-estimator-doc-link.fitted,\n",
       "a:link.sk-estimator-doc-link.fitted,\n",
       "a:visited.sk-estimator-doc-link.fitted {\n",
       "  /* fitted */\n",
       "  border: var(--sklearn-color-fitted-level-1) 1pt solid;\n",
       "  color: var(--sklearn-color-fitted-level-1);\n",
       "}\n",
       "\n",
       "/* On hover */\n",
       "div.sk-estimator:hover .sk-estimator-doc-link:hover,\n",
       ".sk-estimator-doc-link:hover,\n",
       "div.sk-label-container:hover .sk-estimator-doc-link:hover,\n",
       ".sk-estimator-doc-link:hover {\n",
       "  /* unfitted */\n",
       "  background-color: var(--sklearn-color-unfitted-level-3);\n",
       "  color: var(--sklearn-color-background);\n",
       "  text-decoration: none;\n",
       "}\n",
       "\n",
       "div.sk-estimator.fitted:hover .sk-estimator-doc-link.fitted:hover,\n",
       ".sk-estimator-doc-link.fitted:hover,\n",
       "div.sk-label-container:hover .sk-estimator-doc-link.fitted:hover,\n",
       ".sk-estimator-doc-link.fitted:hover {\n",
       "  /* fitted */\n",
       "  background-color: var(--sklearn-color-fitted-level-3);\n",
       "  color: var(--sklearn-color-background);\n",
       "  text-decoration: none;\n",
       "}\n",
       "\n",
       "/* Span, style for the box shown on hovering the info icon */\n",
       ".sk-estimator-doc-link span {\n",
       "  display: none;\n",
       "  z-index: 9999;\n",
       "  position: relative;\n",
       "  font-weight: normal;\n",
       "  right: .2ex;\n",
       "  padding: .5ex;\n",
       "  margin: .5ex;\n",
       "  width: min-content;\n",
       "  min-width: 20ex;\n",
       "  max-width: 50ex;\n",
       "  color: var(--sklearn-color-text);\n",
       "  box-shadow: 2pt 2pt 4pt #999;\n",
       "  /* unfitted */\n",
       "  background: var(--sklearn-color-unfitted-level-0);\n",
       "  border: .5pt solid var(--sklearn-color-unfitted-level-3);\n",
       "}\n",
       "\n",
       ".sk-estimator-doc-link.fitted span {\n",
       "  /* fitted */\n",
       "  background: var(--sklearn-color-fitted-level-0);\n",
       "  border: var(--sklearn-color-fitted-level-3);\n",
       "}\n",
       "\n",
       ".sk-estimator-doc-link:hover span {\n",
       "  display: block;\n",
       "}\n",
       "\n",
       "/* \"?\"-specific style due to the `<a>` HTML tag */\n",
       "\n",
       "#sk-container-id-1 a.estimator_doc_link {\n",
       "  float: right;\n",
       "  font-size: 1rem;\n",
       "  line-height: 1em;\n",
       "  font-family: monospace;\n",
       "  background-color: var(--sklearn-color-background);\n",
       "  border-radius: 1rem;\n",
       "  height: 1rem;\n",
       "  width: 1rem;\n",
       "  text-decoration: none;\n",
       "  /* unfitted */\n",
       "  color: var(--sklearn-color-unfitted-level-1);\n",
       "  border: var(--sklearn-color-unfitted-level-1) 1pt solid;\n",
       "}\n",
       "\n",
       "#sk-container-id-1 a.estimator_doc_link.fitted {\n",
       "  /* fitted */\n",
       "  border: var(--sklearn-color-fitted-level-1) 1pt solid;\n",
       "  color: var(--sklearn-color-fitted-level-1);\n",
       "}\n",
       "\n",
       "/* On hover */\n",
       "#sk-container-id-1 a.estimator_doc_link:hover {\n",
       "  /* unfitted */\n",
       "  background-color: var(--sklearn-color-unfitted-level-3);\n",
       "  color: var(--sklearn-color-background);\n",
       "  text-decoration: none;\n",
       "}\n",
       "\n",
       "#sk-container-id-1 a.estimator_doc_link.fitted:hover {\n",
       "  /* fitted */\n",
       "  background-color: var(--sklearn-color-fitted-level-3);\n",
       "}\n",
       "</style><div id=\"sk-container-id-1\" class=\"sk-top-container\"><div class=\"sk-text-repr-fallback\"><pre>LinearRegression()</pre><b>In a Jupyter environment, please rerun this cell to show the HTML representation or trust the notebook. <br />On GitHub, the HTML representation is unable to render, please try loading this page with nbviewer.org.</b></div><div class=\"sk-container\" hidden><div class=\"sk-item\"><div class=\"sk-estimator fitted sk-toggleable\"><input class=\"sk-toggleable__control sk-hidden--visually\" id=\"sk-estimator-id-1\" type=\"checkbox\" checked><label for=\"sk-estimator-id-1\" class=\"sk-toggleable__label fitted sk-toggleable__label-arrow\"><div><div>LinearRegression</div></div><div><a class=\"sk-estimator-doc-link fitted\" rel=\"noreferrer\" target=\"_blank\" href=\"https://scikit-learn.org/1.6/modules/generated/sklearn.linear_model.LinearRegression.html\">?<span>Documentation for LinearRegression</span></a><span class=\"sk-estimator-doc-link fitted\">i<span>Fitted</span></span></div></label><div class=\"sk-toggleable__content fitted\"><pre>LinearRegression()</pre></div> </div></div></div></div>"
      ],
      "text/plain": [
       "LinearRegression()"
      ]
     },
     "execution_count": 82,
     "metadata": {},
     "output_type": "execute_result"
    }
   ],
   "source": [
    "model = LinearRegression()\n",
    "model.fit(X_train, y_train)"
   ]
  },
  {
   "cell_type": "code",
   "execution_count": 83,
   "id": "aca8064a-c94f-4792-86b3-62ec2130471b",
   "metadata": {
    "execution": {
     "iopub.execute_input": "2025-05-07T22:25:53.440319Z",
     "iopub.status.busy": "2025-05-07T22:25:53.439863Z",
     "iopub.status.idle": "2025-05-07T22:25:53.447572Z",
     "shell.execute_reply": "2025-05-07T22:25:53.446653Z",
     "shell.execute_reply.started": "2025-05-07T22:25:53.440277Z"
    }
   },
   "outputs": [
    {
     "name": "stdout",
     "output_type": "stream",
     "text": [
      "MSE: 0.26954356602486723\n"
     ]
    }
   ],
   "source": [
    "y_pred = model.predict(X_test)\n",
    "mse = mean_squared_error(y_test, y_pred)\n",
    "print(\"MSE:\", mse)"
   ]
  },
  {
   "cell_type": "markdown",
   "id": "c9086695-43c6-49e5-a751-bcabc275172d",
   "metadata": {},
   "source": [
    "Plot how the predicted values compare to the true values."
   ]
  },
  {
   "cell_type": "code",
   "execution_count": 85,
   "id": "ee8bd887-928e-4a41-bd77-149b344ab238",
   "metadata": {
    "execution": {
     "iopub.execute_input": "2025-05-07T22:26:08.176359Z",
     "iopub.status.busy": "2025-05-07T22:26:08.175337Z",
     "iopub.status.idle": "2025-05-07T22:26:08.399256Z",
     "shell.execute_reply": "2025-05-07T22:26:08.398296Z",
     "shell.execute_reply.started": "2025-05-07T22:26:08.176315Z"
    }
   },
   "outputs": [
    {
     "data": {
      "image/png": "[encoded data removed]",
      "text/plain": [
       "<Figure size 640x480 with 1 Axes>"
      ]
     },
     "metadata": {},
     "output_type": "display_data"
    }
   ],
   "source": [
    "plt.clf()\n",
    "plt.scatter(y_test, y_pred)\n",
    "#plt.plot([0,1e6],[0,1e6], color='black', ls='--')\n",
    "plt.xlabel('True')\n",
    "plt.ylabel('Predicted');\n",
    "#plt.xlim([0,2e4])\n",
    "#plt.ylim([0,2e4]);"
   ]
  },
  {
   "cell_type": "markdown",
   "id": "1de26eb9-e7cf-4e94-bf14-0fda5d8efe18",
   "metadata": {},
   "source": [
    "## 7.2 Improve the model with more features\n",
    "Let's see if this will improve with more predictive values, this time including the i band information."
   ]
  },
  {
   "cell_type": "code",
   "execution_count": null,
   "id": "d80e56eb-6e3d-4110-bee6-3681ee4a923b",
   "metadata": {},
   "outputs": [],
   "source": [
    "# Train-test split\n",
    "X_train, X_test, y_train, y_test = train_test_split(\n",
    "    clean[['g_kronFlux', 'i_kronFlux']],  # Use these two features\n",
    "    clean['r_kronFlux'],                 # Target variable\n",
    "    test_size=0.2,\n",
    "    random_state=42\n",
    ")\n",
    "\n",
    "# Standardize the features\n",
    "scaler = StandardScaler()\n",
    "X_train = scaler.fit_transform(X_train)\n",
    "X_test = scaler.transform(X_test)\n",
    "\n",
    "# Train the model\n",
    "model = LinearRegression()\n",
    "model.fit(X_train, y_train)\n",
    "\n",
    "# Make predictions\n",
    "y_pred = model.predict(X_test)\n",
    "\n",
    "# Evaluate the model\n",
    "mse = mean_squared_error(y_test, y_pred)\n",
    "print(\"MSE:\", mse)\n",
    "\n",
    "# Scatter plot: True vs Predicted\n",
    "plt.clf()\n",
    "plt.scatter(y_test, y_pred)\n",
    "plt.plot([0, 1e6], [0, 1e6], color='black', ls='--')\n",
    "plt.xlabel('True')\n",
    "plt.ylabel('Predicted')\n",
    "plt.xlim([0, 2e4])\n",
    "plt.ylim([0, 2e4])\n",
    "plt.show()"
   ]
  },
  {
   "cell_type": "markdown",
   "id": "30cd4c78-35e5-4459-84bf-9642068da002",
   "metadata": {},
   "source": [
    "Test for the reader: try to improve this further by including more features."
   ]
  },
  {
   "cell_type": "markdown",
   "id": "89e92033-ff41-4662-b5aa-ece41c216a07",
   "metadata": {},
   "source": [
    "## 7.3 Random forest regressor\n",
    "These are great"
   ]
  },
  {
   "cell_type": "code",
   "execution_count": null,
   "id": "efb56f9d-6487-444d-b283-6d60c1694948",
   "metadata": {},
   "outputs": [],
   "source": [
    "model = RandomForestRegressor()\n",
    "model.fit(X_train, y_train)\n",
    "\n",
    "# Make predictions\n",
    "y_pred = model.predict(X_test)\n",
    "\n",
    "# Evaluate the model\n",
    "mse = mean_squared_error(y_test, y_pred)\n",
    "print(\"MSE:\", mse)\n",
    "\n",
    "# Scatter plot: True vs Predicted\n",
    "plt.clf()\n",
    "plt.scatter(y_test, y_pred)\n",
    "plt.plot([0, 1e6], [0, 1e6], color='black', ls='--')\n",
    "plt.xlabel('True')\n",
    "plt.ylabel('Predicted')\n",
    "plt.xlim([0, 2e4])\n",
    "plt.ylim([0, 2e4])\n",
    "plt.show()"
   ]
  },
  {
   "cell_type": "markdown",
   "id": "4ed0b4e6-904a-4af8-8bfe-cad402de09a4",
   "metadata": {},
   "source": [
    "## 8. Hyperparameter tuning\n",
    "With any `scikit-learn` model, it's possible to tune the hyperparameters to achieve better performance."
   ]
  },
  {
   "cell_type": "code",
   "execution_count": null,
   "id": "e6420904-44bb-40cf-8ce0-92b22a802e59",
   "metadata": {},
   "outputs": [],
   "source": [
    "from sklearn.model_selection import GridSearchCV\n",
    "param_grid = {'n_estimators': [1, 10, 50, 100, 200, 1000, 10000]} # default 100 for n_estimators\n",
    "\n",
    "# Create GridSearchCV object\n",
    "grid = GridSearchCV(model, param_grid, cv=5)\n",
    "\n",
    "grid.fit(X_train, y_train)\n",
    "\n",
    "# Get the best parameters\n",
    "print(grid.best_params_)"
   ]
  },
  {
   "cell_type": "markdown",
   "id": "8445ad22-4275-4a56-ace7-ce1a678dd900",
   "metadata": {},
   "source": [
    "### 8.2 Now retrieve the best fit model"
   ]
  },
  {
   "cell_type": "code",
   "execution_count": null,
   "id": "89167a5d-e835-4f8d-8d57-ac82f0df6239",
   "metadata": {},
   "outputs": [],
   "source": [
    "best_model = grid.best_estimator_\n",
    "print(\"Best Model:\", best_model)\n",
    "y_pred = best_model.predict(X_test)\n",
    "plt.clf()\n",
    "plt.scatter(y_test, y_pred)\n",
    "plt.plot([0, 1e6], [0, 1e6], color='black', ls='--')\n",
    "plt.xlabel('True')\n",
    "plt.ylabel('Predicted')\n",
    "plt.xlim([0, 2e4])\n",
    "plt.ylim([0, 2e4])\n",
    "plt.show()\n",
    "\n",
    "mse = mean_squared_error(y_test, y_pred)\n",
    "print(\"MSE:\", mse)"
   ]
  },
  {
   "cell_type": "markdown",
   "id": "d5c33bd9-b95e-4ec8-a44d-cf3f219339e8",
   "metadata": {},
   "source": [
    "## 9. Other available `scikit-learn` choices\n",
    "The below two cells explore available options from `scikit-learn` for regression metrics and regression models, respectively. The metric cell is truncated with a `break` statement to only print details of the first metric. The model cell demonstrates printing the class information for the `RandomForestRegressor` class."
   ]
  },
  {
   "cell_type": "code",
   "execution_count": null,
   "id": "5adca7ed-eb36-4e8b-99e3-3b66833fb3e3",
   "metadata": {},
   "outputs": [],
   "source": [
    "import sklearn.metrics as metrics\n",
    "import inspect\n",
    "regression_metrics = [\n",
    "    name for name, obj in inspect.getmembers(metrics)\n",
    "    if inspect.isfunction(obj)\n",
    "    and ('regression' in (obj.__doc__ or '').lower() or 'error' in (obj.__doc__ or '').lower())\n",
    "    and 'classification' not in (obj.__doc__ or '').lower()\n",
    "]\n",
    "print(regression_metrics)\n",
    "\n",
    "\n",
    "# Print the filtered metrics and their documentation\n",
    "for metric in regression_metrics:\n",
    "    metric_func = getattr(metrics, metric)\n",
    "    if metric == \"mean_tweedie_deviance\":\n",
    "        print(f\"--- {metric} ---\")\n",
    "        help(metric_func)\n",
    "        print(\"=\"*80)"
   ]
  },
  {
   "cell_type": "code",
   "execution_count": null,
   "id": "de4a41f7-9f4f-4662-9302-2da7d68df434",
   "metadata": {},
   "outputs": [],
   "source": [
    "from sklearn.utils import all_estimators\n",
    "\n",
    "# Get all regression models\n",
    "regressors = all_estimators(type_filter='regressor')\n",
    "\n",
    "# Print the names of all available regression models\n",
    "for name, estimator in regressors:\n",
    "    print(name)\n",
    "\n",
    "for name, estimator in regressors:\n",
    "    if name == \"RandomForestRegressor\":\n",
    "        print(help(estimator))"
   ]
  },
  {
   "cell_type": "code",
   "execution_count": null,
   "id": "be44f0da-e766-4bd0-9312-4b1977397c8d",
   "metadata": {},
   "outputs": [],
   "source": []
  }
 ],
 "metadata": {
  "kernelspec": {
   "display_name": "LSST",
   "language": "python",
   "name": "lsst"
  },
  "language_info": {
   "codemirror_mode": {
    "name": "ipython",
    "version": 3
   },
   "file_extension": ".py",
   "mimetype": "text/x-python",
   "name": "python",
   "nbconvert_exporter": "python",
   "pygments_lexer": "ipython3",
   "version": "3.12.9"
  }
 },
 "nbformat": 4,
 "nbformat_minor": 5
}
