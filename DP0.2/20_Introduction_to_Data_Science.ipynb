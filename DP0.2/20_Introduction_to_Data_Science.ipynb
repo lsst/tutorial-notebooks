{
 "cells": [
  {
   "cell_type": "markdown",
   "id": "5eb2606b-2724-43be-83bb-fb4df67d0b35",
   "metadata": {},
   "source": [
    "# Introduction to Data Science\n",
    "<img align=\"left\" src = https://project.lsst.org/sites/default/files/Rubin-O-Logo_0.png width=250 style=\"padding: 10px\"> \n",
    "<br>\n",
    "Contact author(s): Becky Nevin, Brian Nord<br>\n",
    "Last verified to run: 2025-05-06 <br>\n",
    "LSST Science Pipelines version: Weekly 2025_09 <br>\n",
    "Container size: small <br>\n",
    "Targeted learning level: intermediate <br>"
   ]
  },
  {
   "cell_type": "code",
   "execution_count": null,
   "id": "4a4e60f3-a825-4dcc-8cd5-37ed43b7373b",
   "metadata": {},
   "outputs": [],
   "source": [
    "%load_ext pycodestyle_magic\n",
    "%flake8_on\n",
    "import logging\n",
    "logging.getLogger(\"flake8\").setLevel(logging.FATAL)"
   ]
  },
  {
   "cell_type": "markdown",
   "id": "05e4d2c6-9774-48db-930e-58536bd69de0",
   "metadata": {},
   "source": [
    "**Description:** This notebook guides a PI through the process of using python's data science and machine learning libraries to explore data from complex ADQL queries with the TAP service. The goal is to build a predictive model to estimate missing $r-$band Kron Flux values when the other bands are available, and visualize the results and quantify the model performance."
   ]
  },
  {
   "cell_type": "markdown",
   "id": "242eb338-4d88-4a17-8e35-20d80774ec1b",
   "metadata": {},
   "source": [
    "**Skills:** Use of data science and machine learning tools such as scikit-learn, pandas, and seaborn."
   ]
  },
  {
   "cell_type": "markdown",
   "id": "76ffcb7f-a070-47b7-8545-f10813ff78ae",
   "metadata": {},
   "source": [
    "**LSST Data Products:** Object, Forcedsource, and CcdVisit tables."
   ]
  },
  {
   "cell_type": "markdown",
   "id": "bf4d0080-92f9-4a67-a829-5a772e428ac4",
   "metadata": {},
   "source": [
    "**Packages:** lsst.rsp, pandas, scikit-learn, seaborn"
   ]
  },
  {
   "cell_type": "markdown",
   "id": "e354c692-b8b4-425f-bcbe-a35221a9993a",
   "metadata": {},
   "source": [
    "**Credits:** Developed by Becky Nevin in collaboration with Melissa Graham, Brian Nord, and the Rubin Community Science Team for DP0.2. Based on notebooks developed by Leanne Guy (TAP query) and Alex Drlica-Wagner and Melissa Graham (Butler query).\n",
    "Please consider acknowledging them if this notebook is used for the preparation of journal articles, software releases, or other notebooks."
   ]
  },
  {
   "cell_type": "markdown",
   "id": "2e3e438c-a028-417f-a21f-1d31c5946376",
   "metadata": {},
   "source": [
    "**Get Support:**\n",
    "Find DP0-related documentation and resources at <a href=\"https://dp0.lsst.io\">dp0.lsst.io</a>. Questions are welcome as new topics in the <a href=\"https://community.lsst.org/c/support/dp0\">Support - Data Preview 0 Category</a> of the Rubin Community Forum. Rubin staff will respond to all questions posted there."
   ]
  },
  {
   "cell_type": "markdown",
   "id": "ca5378d1-00fe-44ad-be88-5f1a0a85b404",
   "metadata": {},
   "source": [
    "## 1. Introduction\n",
    "\n",
    "This notebook provides an intermediate-level demonstration of how to use the Table Access Protocol (TAP) server and ADQL (Astronomy Data Query Language) to query and retrieve data from the DP0.2 catalogs.\n",
    "\n",
    "TAP provides standardized access to catalog data for discovery, search, and retrieval.\n",
    "Full <a href=\"http://www.ivoa.net/documents/TAP\">documentation for TAP</a> is provided by the International Virtual Observatory Alliance (IVOA).\n",
    "ADQL is similar to SQL (Structured Query Langage).\n",
    "The <a href=\"http://www.ivoa.net/documents/latest/ADQL.html\">documentation for ADQL</a> includes more information about syntax and keywords.\n",
    "Note that not all ADQL functionality is supported yet in the DP0-era RSP.\n",
    "\n",
    "**See the recommendations for TAP queries in DP0.2 tutorial 02a \"Introduction to the TAP Service\".**\n",
    "\n",
    "The [documentation for Data Preview 0.2](https://dp0-2.lsst.io/) includes definitions\n",
    "of the data products, descriptions of catalog contents, and ADQL recipes.\n",
    "\n",
    "### 1.1. Package imports\n",
    "\n",
    "Import general python packages, the Rubin TAP service utilities, and various scikit-learn utilities."
   ]
  },
  {
   "cell_type": "code",
   "execution_count": 4,
   "id": "3f4900a4-3358-472a-b9ba-c42e3f2f0771",
   "metadata": {
    "execution": {
     "iopub.execute_input": "2025-05-06T18:35:45.512630Z",
     "iopub.status.busy": "2025-05-06T18:35:45.512130Z",
     "iopub.status.idle": "2025-05-06T18:35:45.518945Z",
     "shell.execute_reply": "2025-05-06T18:35:45.517910Z",
     "shell.execute_reply.started": "2025-05-06T18:35:45.512594Z"
    }
   },
   "outputs": [],
   "source": [
    "import numpy as np\n",
    "import matplotlib.pyplot as plt\n",
    "import seaborn as sns\n",
    "import pandas\n",
    "\n",
    "from astropy import units as u\n",
    "from astropy.coordinates import SkyCoord\n",
    "\n",
    "from sklearn.model_selection import train_test_split\n",
    "from sklearn.preprocessing import StandardScaler\n",
    "from sklearn.linear_model import LinearRegression\n",
    "from sklearn.metrics import mean_squared_error\n",
    "from sklearn.ensemble import RandomForestRegressor\n",
    "\n",
    "from lsst.rsp import get_tap_service, retrieve_query"
   ]
  },
  {
   "cell_type": "markdown",
   "id": "90251edc-e77a-4f2c-aef3-935381faebc9",
   "metadata": {},
   "source": [
    "Set up seaborn to use 538's aesthetics.\n",
    "\n",
    "**This is probably not what we want to the rtn-045 default plotting settings though...**"
   ]
  },
  {
   "cell_type": "code",
   "execution_count": 5,
   "id": "94acc9f6-2033-4ace-aefd-d036a35f4221",
   "metadata": {
    "execution": {
     "iopub.execute_input": "2025-05-06T18:35:46.040743Z",
     "iopub.status.busy": "2025-05-06T18:35:46.039669Z",
     "iopub.status.idle": "2025-05-06T18:35:46.046641Z",
     "shell.execute_reply": "2025-05-06T18:35:46.045592Z",
     "shell.execute_reply.started": "2025-05-06T18:35:46.040696Z"
    }
   },
   "outputs": [],
   "source": [
    "sns.set_style('whitegrid')\n",
    "plt.style.use('fivethirtyeight')\n",
    "palette = sns.color_palette(\"muted\")  # Choose a desired palette\n",
    "sns.set_palette(palette)"
   ]
  },
  {
   "cell_type": "markdown",
   "id": "ca1e28f4-805e-4480-a7c6-0473b7e2b088",
   "metadata": {},
   "source": [
    "### 1.2. Define functions and parameters\n",
    "\n",
    "Instantiate the TAP service."
   ]
  },
  {
   "cell_type": "code",
   "execution_count": 6,
   "id": "caf56589-100a-4481-8f24-5f5058b6671f",
   "metadata": {
    "execution": {
     "iopub.execute_input": "2025-05-06T18:35:48.293168Z",
     "iopub.status.busy": "2025-05-06T18:35:48.292706Z",
     "iopub.status.idle": "2025-05-06T18:35:48.342930Z",
     "shell.execute_reply": "2025-05-06T18:35:48.341849Z",
     "shell.execute_reply.started": "2025-05-06T18:35:48.293110Z"
    }
   },
   "outputs": [],
   "source": [
    "service = get_tap_service(\"tap\")\n",
    "assert service is not None"
   ]
  },
  {
   "cell_type": "markdown",
   "id": "9eb0f20e-6c28-404f-8032-acc00f73405a",
   "metadata": {},
   "source": [
    "Set the maximum number of rows to display from pandas."
   ]
  },
  {
   "cell_type": "code",
   "execution_count": 7,
   "id": "2b7b6002-2457-4c20-a03e-6bfa24a0aa27",
   "metadata": {
    "execution": {
     "iopub.execute_input": "2025-05-06T18:35:49.263865Z",
     "iopub.status.busy": "2025-05-06T18:35:49.263456Z",
     "iopub.status.idle": "2025-05-06T18:35:49.268590Z",
     "shell.execute_reply": "2025-05-06T18:35:49.267634Z",
     "shell.execute_reply.started": "2025-05-06T18:35:49.263831Z"
    }
   },
   "outputs": [],
   "source": [
    "pandas.set_option('display.max_rows', 6)"
   ]
  },
  {
   "cell_type": "markdown",
   "id": "cd325fe4-6c7c-4803-ad79-f30d7edc23e3",
   "metadata": {},
   "source": [
    "## 2. Query for Kron fluxes around extended (galaxy) objects.\n",
    "I forget why I chose this specific statistic for the demo.\n",
    "\n",
    "Kron radius: A radius that is calculated using the light profile of the object, typically as the first moment (i.e., a weighted average of radius with brightness) of the light distribution.\n",
    "\n",
    "Kron flux: The total flux measured within a certain multiple (often 2.5×) of the Kron radius, typically capturing about 90–95% of the total light for extended sources like galaxies."
   ]
  },
  {
   "cell_type": "markdown",
   "id": "6b4f495d-1215-421d-bdb0-bc32fec92c25",
   "metadata": {},
   "source": [
    "Define the coordinates and radius to use for the example queries in Sections 2 and 3."
   ]
  },
  {
   "cell_type": "code",
   "execution_count": 8,
   "id": "7ddd0344-b354-45a0-9e5a-755149c9bc54",
   "metadata": {
    "execution": {
     "iopub.execute_input": "2025-05-06T18:35:50.088253Z",
     "iopub.status.busy": "2025-05-06T18:35:50.087804Z",
     "iopub.status.idle": "2025-05-06T18:35:50.093373Z",
     "shell.execute_reply": "2025-05-06T18:35:50.092357Z",
     "shell.execute_reply.started": "2025-05-06T18:35:50.088219Z"
    }
   },
   "outputs": [],
   "source": [
    "center_ra = 62\n",
    "center_dec = -37\n",
    "radius = 0.1\n",
    "\n",
    "str_center_coords = str(center_ra) + \", \" + str(center_dec)\n",
    "str_radius = str(radius)"
   ]
  },
  {
   "cell_type": "markdown",
   "id": "dd80babb-ee05-49e9-9f9c-923d5c0cee31",
   "metadata": {},
   "source": [
    "Start with the same query as used in the beginner TAP tutorial notebook 02a."
   ]
  },
  {
   "cell_type": "code",
   "execution_count": 9,
   "id": "985e3b62-8065-42ec-a40c-1232c4c45f17",
   "metadata": {
    "execution": {
     "iopub.execute_input": "2025-05-06T18:35:50.657816Z",
     "iopub.status.busy": "2025-05-06T18:35:50.656791Z",
     "iopub.status.idle": "2025-05-06T18:35:50.662469Z",
     "shell.execute_reply": "2025-05-06T18:35:50.661520Z",
     "shell.execute_reply.started": "2025-05-06T18:35:50.657774Z"
    }
   },
   "outputs": [
    {
     "name": "stdout",
     "output_type": "stream",
     "text": [
      "SELECT coord_ra, coord_dec, g_kronFlux, g_kronFlux_flag, r_kronFlux, r_kronFlux_flag, i_kronFlux, i_kronFlux_flag FROM dp02_dc2_catalogs.Object WHERE CONTAINS(POINT('ICRS', coord_ra, coord_dec), CIRCLE('ICRS', 62, -37, 0.1)) = 1 AND detect_isPrimary = 1 AND g_extendedness = 1\n"
     ]
    }
   ],
   "source": [
    "query = \"SELECT coord_ra, coord_dec, g_kronFlux, g_kronFlux_flag, \"\\\n",
    "        \"r_kronFlux, r_kronFlux_flag, i_kronFlux, i_kronFlux_flag \"\\\n",
    "        \"FROM dp02_dc2_catalogs.Object \"\\\n",
    "        \"WHERE CONTAINS(POINT('ICRS', coord_ra, coord_dec), \"\\\n",
    "        \"CIRCLE('ICRS', \" + str_center_coords + \", \" + str_radius + \")) = 1 \"\\\n",
    "        \"AND detect_isPrimary = 1 AND g_extendedness = 1\"\n",
    "print(query)"
   ]
  },
  {
   "cell_type": "markdown",
   "id": "f024085b-0f7f-45c6-8184-41b528c15396",
   "metadata": {},
   "source": [
    "Run the query job asynchronously."
   ]
  },
  {
   "cell_type": "code",
   "execution_count": 10,
   "id": "c02adc91-5f5e-418b-87a3-cba8beba7dd2",
   "metadata": {
    "execution": {
     "iopub.execute_input": "2025-05-06T18:35:51.312186Z",
     "iopub.status.busy": "2025-05-06T18:35:51.311703Z",
     "iopub.status.idle": "2025-05-06T18:35:58.580103Z",
     "shell.execute_reply": "2025-05-06T18:35:58.578888Z",
     "shell.execute_reply.started": "2025-05-06T18:35:51.312127Z"
    }
   },
   "outputs": [
    {
     "name": "stdout",
     "output_type": "stream",
     "text": [
      "Job phase is COMPLETED\n"
     ]
    }
   ],
   "source": [
    "job = service.submit_job(query)\n",
    "job.run()\n",
    "job.wait(phases=['COMPLETED', 'ERROR'])\n",
    "print('Job phase is', job.phase)"
   ]
  },
  {
   "cell_type": "markdown",
   "id": "80b28a39-bd12-49d6-9cce-f8ddfc31296c",
   "metadata": {},
   "source": [
    "## 3. Explore the data using a `pandas` DataFrame object.\n",
    "From the `pandas` docs:\n",
    "> A DataFrame is a two-dimensional, size-mutable, heterogeneous tabular data structure with labeled axes (rows and columns)."
   ]
  },
  {
   "cell_type": "markdown",
   "id": "07d1cfb1-589b-402b-8b8f-c2c70652b6c6",
   "metadata": {},
   "source": [
    "Return the results as a `pandas` dataframe, and then delete the query to save space."
   ]
  },
  {
   "cell_type": "code",
   "execution_count": 11,
   "id": "8cd2f538-c2d7-44ca-ab4d-825120b8f2e7",
   "metadata": {
    "execution": {
     "iopub.execute_input": "2025-05-06T18:35:58.582107Z",
     "iopub.status.busy": "2025-05-06T18:35:58.581718Z",
     "iopub.status.idle": "2025-05-06T18:35:59.419620Z",
     "shell.execute_reply": "2025-05-06T18:35:59.418605Z",
     "shell.execute_reply.started": "2025-05-06T18:35:58.582071Z"
    }
   },
   "outputs": [],
   "source": [
    "results = job.fetch_result().to_table().to_pandas()\n",
    "job.delete()\n",
    "del query"
   ]
  },
  {
   "cell_type": "markdown",
   "id": "27888222-8fca-4620-a838-9260b0f5f47f",
   "metadata": {},
   "source": [
    "Display `results`."
   ]
  },
  {
   "cell_type": "code",
   "execution_count": 12,
   "id": "ee4d121e-6b4d-4371-afae-4f7587b95d51",
   "metadata": {
    "execution": {
     "iopub.execute_input": "2025-05-06T18:35:59.421059Z",
     "iopub.status.busy": "2025-05-06T18:35:59.420677Z",
     "iopub.status.idle": "2025-05-06T18:35:59.443855Z",
     "shell.execute_reply": "2025-05-06T18:35:59.442812Z",
     "shell.execute_reply.started": "2025-05-06T18:35:59.421027Z"
    }
   },
   "outputs": [
    {
     "data": {
      "text/html": [
       "<div>\n",
       "<style scoped>\n",
       "    .dataframe tbody tr th:only-of-type {\n",
       "        vertical-align: middle;\n",
       "    }\n",
       "\n",
       "    .dataframe tbody tr th {\n",
       "        vertical-align: top;\n",
       "    }\n",
       "\n",
       "    .dataframe thead th {\n",
       "        text-align: right;\n",
       "    }\n",
       "</style>\n",
       "<table border=\"1\" class=\"dataframe\">\n",
       "  <thead>\n",
       "    <tr style=\"text-align: right;\">\n",
       "      <th></th>\n",
       "      <th>coord_ra</th>\n",
       "      <th>coord_dec</th>\n",
       "      <th>g_kronFlux</th>\n",
       "      <th>g_kronFlux_flag</th>\n",
       "      <th>r_kronFlux</th>\n",
       "      <th>r_kronFlux_flag</th>\n",
       "      <th>i_kronFlux</th>\n",
       "      <th>i_kronFlux_flag</th>\n",
       "    </tr>\n",
       "  </thead>\n",
       "  <tbody>\n",
       "    <tr>\n",
       "      <th>0</th>\n",
       "      <td>62.006797</td>\n",
       "      <td>-36.902082</td>\n",
       "      <td>1071.714409</td>\n",
       "      <td>False</td>\n",
       "      <td>4245.695538</td>\n",
       "      <td>False</td>\n",
       "      <td>10922.722964</td>\n",
       "      <td>False</td>\n",
       "    </tr>\n",
       "    <tr>\n",
       "      <th>1</th>\n",
       "      <td>62.003768</td>\n",
       "      <td>-36.902438</td>\n",
       "      <td>566.877720</td>\n",
       "      <td>False</td>\n",
       "      <td>787.147920</td>\n",
       "      <td>False</td>\n",
       "      <td>1182.026506</td>\n",
       "      <td>False</td>\n",
       "    </tr>\n",
       "    <tr>\n",
       "      <th>2</th>\n",
       "      <td>62.008572</td>\n",
       "      <td>-36.902418</td>\n",
       "      <td>174.862476</td>\n",
       "      <td>False</td>\n",
       "      <td>520.394736</td>\n",
       "      <td>False</td>\n",
       "      <td>1266.903601</td>\n",
       "      <td>False</td>\n",
       "    </tr>\n",
       "    <tr>\n",
       "      <th>...</th>\n",
       "      <td>...</td>\n",
       "      <td>...</td>\n",
       "      <td>...</td>\n",
       "      <td>...</td>\n",
       "      <td>...</td>\n",
       "      <td>...</td>\n",
       "      <td>...</td>\n",
       "      <td>...</td>\n",
       "    </tr>\n",
       "    <tr>\n",
       "      <th>11561</th>\n",
       "      <td>61.991017</td>\n",
       "      <td>-37.082362</td>\n",
       "      <td>493.321470</td>\n",
       "      <td>False</td>\n",
       "      <td>648.269883</td>\n",
       "      <td>False</td>\n",
       "      <td>908.325375</td>\n",
       "      <td>False</td>\n",
       "    </tr>\n",
       "    <tr>\n",
       "      <th>11562</th>\n",
       "      <td>61.950309</td>\n",
       "      <td>-37.085180</td>\n",
       "      <td>116.922498</td>\n",
       "      <td>False</td>\n",
       "      <td>117.440266</td>\n",
       "      <td>False</td>\n",
       "      <td>54.748117</td>\n",
       "      <td>False</td>\n",
       "    </tr>\n",
       "    <tr>\n",
       "      <th>11563</th>\n",
       "      <td>61.951738</td>\n",
       "      <td>-37.085393</td>\n",
       "      <td>146.265527</td>\n",
       "      <td>False</td>\n",
       "      <td>260.318371</td>\n",
       "      <td>False</td>\n",
       "      <td>208.302958</td>\n",
       "      <td>False</td>\n",
       "    </tr>\n",
       "  </tbody>\n",
       "</table>\n",
       "<p>11564 rows × 8 columns</p>\n",
       "</div>"
      ],
      "text/plain": [
       "        coord_ra  coord_dec   g_kronFlux  g_kronFlux_flag   r_kronFlux  \\\n",
       "0      62.006797 -36.902082  1071.714409            False  4245.695538   \n",
       "1      62.003768 -36.902438   566.877720            False   787.147920   \n",
       "2      62.008572 -36.902418   174.862476            False   520.394736   \n",
       "...          ...        ...          ...              ...          ...   \n",
       "11561  61.991017 -37.082362   493.321470            False   648.269883   \n",
       "11562  61.950309 -37.085180   116.922498            False   117.440266   \n",
       "11563  61.951738 -37.085393   146.265527            False   260.318371   \n",
       "\n",
       "       r_kronFlux_flag    i_kronFlux  i_kronFlux_flag  \n",
       "0                False  10922.722964            False  \n",
       "1                False   1182.026506            False  \n",
       "2                False   1266.903601            False  \n",
       "...                ...           ...              ...  \n",
       "11561            False    908.325375            False  \n",
       "11562            False     54.748117            False  \n",
       "11563            False    208.302958            False  \n",
       "\n",
       "[11564 rows x 8 columns]"
      ]
     },
     "execution_count": 12,
     "metadata": {},
     "output_type": "execute_result"
    }
   ],
   "source": [
    "results"
   ]
  },
  {
   "cell_type": "code",
   "execution_count": 13,
   "id": "db2168fe-593a-423d-b2f4-26ac0db60e8c",
   "metadata": {
    "execution": {
     "iopub.execute_input": "2025-05-06T18:35:59.446322Z",
     "iopub.status.busy": "2025-05-06T18:35:59.445927Z",
     "iopub.status.idle": "2025-05-06T18:35:59.452311Z",
     "shell.execute_reply": "2025-05-06T18:35:59.451395Z",
     "shell.execute_reply.started": "2025-05-06T18:35:59.446285Z"
    }
   },
   "outputs": [
    {
     "data": {
      "text/plain": [
       "pandas.core.frame.DataFrame"
      ]
     },
     "execution_count": 13,
     "metadata": {},
     "output_type": "execute_result"
    }
   ],
   "source": [
    "type(results)"
   ]
  },
  {
   "cell_type": "markdown",
   "id": "9c59c4e8-90bd-4aa8-8ce2-9a14c09988a0",
   "metadata": {},
   "source": [
    "There's a lot of options for investigating DataFrame objects. Some options are inspection- and summary-oriented, such as the `.head()`, `.tail()`, and `.describe()` attributes.\n",
    "\n",
    "Check these out now. `.head()` and `.tail()` show the first and last five rows, respectively, but can be modified to print out a different number of rows. `.describe()` provides statistics of the distribution of values in each column, including the mean and standard deviation."
   ]
  },
  {
   "cell_type": "code",
   "execution_count": 14,
   "id": "eec25f58-d3f3-4ef4-b3e2-ab105c4718fd",
   "metadata": {
    "execution": {
     "iopub.execute_input": "2025-05-06T18:35:59.453572Z",
     "iopub.status.busy": "2025-05-06T18:35:59.453238Z",
     "iopub.status.idle": "2025-05-06T18:35:59.498466Z",
     "shell.execute_reply": "2025-05-06T18:35:59.497510Z",
     "shell.execute_reply.started": "2025-05-06T18:35:59.453542Z"
    }
   },
   "outputs": [
    {
     "name": "stdout",
     "output_type": "stream",
     "text": [
      "    coord_ra  coord_dec   g_kronFlux  g_kronFlux_flag   r_kronFlux  \\\n",
      "0  62.006797 -36.902082  1071.714409            False  4245.695538   \n",
      "1  62.003768 -36.902438   566.877720            False   787.147920   \n",
      "2  62.008572 -36.902418   174.862476            False   520.394736   \n",
      "3  62.008889 -36.902797   549.459095            False   504.405489   \n",
      "4  62.005342 -36.903529   191.838094            False   511.872678   \n",
      "\n",
      "   r_kronFlux_flag    i_kronFlux  i_kronFlux_flag  \n",
      "0            False  10922.722964            False  \n",
      "1            False   1182.026506            False  \n",
      "2            False   1266.903601            False  \n",
      "3            False    553.084499            False  \n",
      "4            False    909.234224            False  \n",
      "        coord_ra  coord_dec  g_kronFlux  g_kronFlux_flag   r_kronFlux  \\\n",
      "11554  61.986579 -37.083734  484.161319            False  1139.300737   \n",
      "11555  61.988051 -37.085378  108.308183            False   634.252111   \n",
      "11556  61.985760 -37.082797  203.076232            False   714.794069   \n",
      "...          ...        ...         ...              ...          ...   \n",
      "11561  61.991017 -37.082362  493.321470            False   648.269883   \n",
      "11562  61.950309 -37.085180  116.922498            False   117.440266   \n",
      "11563  61.951738 -37.085393  146.265527            False   260.318371   \n",
      "\n",
      "       r_kronFlux_flag   i_kronFlux  i_kronFlux_flag  \n",
      "11554            False  2663.259351            False  \n",
      "11555            False  1487.625610            False  \n",
      "11556            False  1734.816947            False  \n",
      "...                ...          ...              ...  \n",
      "11561            False   908.325375            False  \n",
      "11562            False    54.748117            False  \n",
      "11563            False   208.302958            False  \n",
      "\n",
      "[10 rows x 8 columns]\n",
      "           coord_ra     coord_dec     g_kronFlux    r_kronFlux    i_kronFlux\n",
      "count  11564.000000  11564.000000   11447.000000  1.145300e+04  1.129200e+04\n",
      "mean      61.999517    -37.001530     761.468963  1.368137e+03  2.071233e+03\n",
      "std        0.062390      0.050868   13194.742739  2.395294e+04  3.258561e+04\n",
      "...             ...           ...            ...           ...           ...\n",
      "50%       61.999039    -37.001694     182.963268  2.409297e+02  3.517374e+02\n",
      "75%       62.049891    -36.960187     340.536311  4.811457e+02  7.569082e+02\n",
      "max       62.124349    -36.900195  782163.585831  1.957761e+06  2.870998e+06\n",
      "\n",
      "[8 rows x 5 columns]\n"
     ]
    }
   ],
   "source": [
    "print(results.head())\n",
    "print(results.tail(10))\n",
    "print(results.describe())"
   ]
  },
  {
   "cell_type": "markdown",
   "id": "1b37fc18-e00b-4ef2-8d18-85d823d60d9e",
   "metadata": {},
   "source": [
    "## 4. Visualize using `seaborn`\n",
    "Use the boxplot tool from `seaborn` to visualize the distribution of the values in each column of the DataFrame."
   ]
  },
  {
   "cell_type": "code",
   "execution_count": 15,
   "id": "4fc9b578-2be4-4fb2-8d74-ebca809ea99f",
   "metadata": {
    "execution": {
     "iopub.execute_input": "2025-05-06T18:35:59.499899Z",
     "iopub.status.busy": "2025-05-06T18:35:59.499560Z",
     "iopub.status.idle": "2025-05-06T18:36:00.808262Z",
     "shell.execute_reply": "2025-05-06T18:36:00.807256Z",
     "shell.execute_reply.started": "2025-05-06T18:35:59.499865Z"
    }
   },
   "outputs": [
    {
     "data": {
      "image/png": "[encoded data removed]",
      "text/plain": [
       "<Figure size 800x600 with 1 Axes>"
      ]
     },
     "metadata": {},
     "output_type": "display_data"
    }
   ],
   "source": [
    "plt.figure(figsize=(8, 6))\n",
    "sns.boxplot(data=results)\n",
    "plt.title('Box Plot of Data Distributions')\n",
    "plt.xlabel('Feature')\n",
    "plt.ylabel('Value')\n",
    "plt.xticks(rotation=90)\n",
    "plt.show()"
   ]
  },
  {
   "cell_type": "markdown",
   "id": "ef5f20de-0fd6-4ba1-9cab-9d59cd05df99",
   "metadata": {},
   "source": [
    "The outliers are dominant in the visualization. Hide these and also only plot the kron Flux values."
   ]
  },
  {
   "cell_type": "code",
   "execution_count": 16,
   "id": "bacf5114-6a64-4100-8eb6-f1d9ddc36f89",
   "metadata": {
    "execution": {
     "iopub.execute_input": "2025-05-06T18:36:00.809919Z",
     "iopub.status.busy": "2025-05-06T18:36:00.809540Z",
     "iopub.status.idle": "2025-05-06T18:36:01.278574Z",
     "shell.execute_reply": "2025-05-06T18:36:01.277570Z",
     "shell.execute_reply.started": "2025-05-06T18:36:00.809879Z"
    }
   },
   "outputs": [
    {
     "data": {
      "image/png": "[encoded data removed]",
      "text/plain": [
       "<Figure size 800x600 with 1 Axes>"
      ]
     },
     "metadata": {},
     "output_type": "display_data"
    }
   ],
   "source": [
    "plt.figure(figsize=(8, 6))\n",
    "sns.boxplot(data=results[['g_kronFlux','r_kronFlux','i_kronFlux']], showfliers=False)\n",
    "plt.title('Box Plot of Data Distributions')\n",
    "plt.xlabel('Feature')\n",
    "plt.ylabel('Value')\n",
    "plt.xticks(rotation=90)\n",
    "plt.show()"
   ]
  },
  {
   "cell_type": "markdown",
   "id": "75d6336b-1068-46cf-8105-b945fd18020e",
   "metadata": {},
   "source": [
    "Boxplots show a box and whiskers.\n",
    "- The \"box\" is the interquartile range (IQR), which is the 25th percentile of the distribution of a value to the 75th percentile.\n",
    "- The horizontal line inside the box is the median of the distribution.\n",
    "- The whisker extends from the IQR to 1.5*IQR away from the edge of the box.\n",
    "- Points outside the whisker are considered outliers (hidden here).\n"
   ]
  },
  {
   "cell_type": "markdown",
   "id": "448bec6a-15e1-49b5-a52e-bdd743ff207a",
   "metadata": {},
   "source": [
    "Use `seaborn`'s violinplot tool to visualize the distribution for these same Kron flux values."
   ]
  },
  {
   "cell_type": "code",
   "execution_count": 17,
   "id": "39521ac6-0bec-42e7-9062-8fc9ce5edc55",
   "metadata": {
    "execution": {
     "iopub.execute_input": "2025-05-06T18:36:16.376938Z",
     "iopub.status.busy": "2025-05-06T18:36:16.376088Z",
     "iopub.status.idle": "2025-05-06T18:36:16.912995Z",
     "shell.execute_reply": "2025-05-06T18:36:16.911929Z",
     "shell.execute_reply.started": "2025-05-06T18:36:16.376896Z"
    }
   },
   "outputs": [
    {
     "data": {
      "image/png": "[encoded data removed]",
      "text/plain": [
       "<Figure size 800x600 with 1 Axes>"
      ]
     },
     "metadata": {},
     "output_type": "display_data"
    }
   ],
   "source": [
    "plt.figure(figsize=(8, 6))\n",
    "filtered_results = results[['g_kronFlux', 'r_kronFlux', 'i_kronFlux']].apply(lambda x: x[(x > x.quantile(0.05)) & (x < x.quantile(0.95))])\n",
    "sns.violinplot(data=filtered_results,\n",
    "              cut=0)\n",
    "plt.title('Box Plot of Data Distributions')\n",
    "plt.xlabel('Feature')\n",
    "plt.ylabel('Value')\n",
    "plt.xticks(rotation=90)\n",
    "plt.show()"
   ]
  },
  {
   "cell_type": "markdown",
   "id": "4f2c50a8-098e-4230-b122-3880c8bb1883",
   "metadata": {},
   "source": [
    "A violinplot gives a lot of the same information as a boxplot, in fact, there are little boxplots within the violinplot; the horizontal white line is the median, the thicker grey box is the IQR and the thin line shows the 1.5*IQR span. A violinplot also uses a kernel density extimator to visualize the distribution of each feature. These plots reveal that most of the data are clustered around relatively low values for all of the Kron fluxes."
   ]
  },
  {
   "cell_type": "markdown",
   "id": "3ec470a9-8db0-403a-89ba-32e0dd9bef15",
   "metadata": {},
   "source": [
    "## 5. Investigate the fluxes and associated flags"
   ]
  },
  {
   "cell_type": "markdown",
   "id": "18dba188-ea4c-47e9-8faf-62e3552add1e",
   "metadata": {},
   "source": [
    "Use `pandas` to investigate if there are any flags on the `kronFlux` measurement. The `.value_counts()` method will show the number of True and False columns, where True are rows for which the `g_kronFlux` measurement was flagged for a variety of reasons. There are many other columns that investigate specific reasons why this measurement is untrustworthy; the `g_kronFlux_flag` is a way to combine all of the individual flags."
   ]
  },
  {
   "cell_type": "code",
   "execution_count": 18,
   "id": "0be4535d-cc89-45ef-98e9-591b9f459fae",
   "metadata": {
    "execution": {
     "iopub.execute_input": "2025-05-06T18:36:23.116189Z",
     "iopub.status.busy": "2025-05-06T18:36:23.115686Z",
     "iopub.status.idle": "2025-05-06T18:36:23.129177Z",
     "shell.execute_reply": "2025-05-06T18:36:23.128278Z",
     "shell.execute_reply.started": "2025-05-06T18:36:23.116116Z"
    }
   },
   "outputs": [
    {
     "data": {
      "text/plain": [
       "r_kronFlux_flag\n",
       "False    10723\n",
       "True       841\n",
       "Name: count, dtype: int64"
      ]
     },
     "execution_count": 18,
     "metadata": {},
     "output_type": "execute_result"
    }
   ],
   "source": [
    "results['r_kronFlux_flag'].value_counts()"
   ]
  },
  {
   "cell_type": "markdown",
   "id": "af623422-c6cf-4c21-8971-5599c60ea8d7",
   "metadata": {
    "execution": {
     "iopub.execute_input": "2024-11-15T18:24:36.531474Z",
     "iopub.status.busy": "2024-11-15T18:24:36.531192Z",
     "iopub.status.idle": "2024-11-15T18:24:36.547424Z",
     "shell.execute_reply": "2024-11-15T18:24:36.546685Z",
     "shell.execute_reply.started": "2024-11-15T18:24:36.531443Z"
    }
   },
   "source": [
    "Compare the value of the `r_kronFlux` between flagged and unflagged cases. First use `numpy`'s histogram function to look at the values of the flagged and unflagged $r-$band Kron fluxes."
   ]
  },
  {
   "cell_type": "code",
   "execution_count": 33,
   "id": "ecea878f-83be-4a6c-acad-65272567ef33",
   "metadata": {
    "execution": {
     "iopub.execute_input": "2025-05-06T18:46:55.661296Z",
     "iopub.status.busy": "2025-05-06T18:46:55.660249Z",
     "iopub.status.idle": "2025-05-06T18:46:55.675021Z",
     "shell.execute_reply": "2025-05-06T18:46:55.674137Z",
     "shell.execute_reply.started": "2025-05-06T18:46:55.661251Z"
    }
   },
   "outputs": [
    {
     "name": "stdout",
     "output_type": "stream",
     "text": [
      "unflagged values [10716     0     2     3     1     0     0     0     0     1] unflagged bins [-1.60122808e+02  1.95632031e+05  3.91424186e+05  5.87216340e+05\n",
      "  7.83008494e+05  9.78800648e+05  1.17459280e+06  1.37038496e+06\n",
      "  1.56617711e+06  1.76196926e+06  1.95776142e+06]\n",
      "flagged values [  2  28 185 284 125  56  35  11   3   1] unflagged bins [-158.2223317   -74.04158638   10.13915894   94.31990426  178.50064958\n",
      "  262.6813949   346.86214022  431.04288554  515.22363086  599.40437618\n",
      "  683.5851215 ]\n"
     ]
    }
   ],
   "source": [
    "r_kronFlux_unflagged = results[\n",
    "    (results['r_kronFlux_flag'] == False) & \n",
    "    (results['r_kronFlux'].notna())\n",
    "]['r_kronFlux']\n",
    "r_kronFlux_flagged = results[\n",
    "    (results['r_kronFlux_flag'] == True) & \n",
    "    (results['r_kronFlux'].notna())\n",
    "]['r_kronFlux']\n",
    "values, bins = np.histogram(r_kronFlux_unflagged)\n",
    "print('unflagged values', values, 'unflagged bins', bins)\n",
    "values, bins = np.histogram(r_kronFlux_flagged)\n",
    "print('flagged values', values, 'unflagged bins', bins)\n"
   ]
  },
  {
   "cell_type": "code",
   "execution_count": 31,
   "id": "dddfd1e7-3faa-465f-ade4-dc136ae39262",
   "metadata": {
    "execution": {
     "iopub.execute_input": "2025-05-06T18:41:12.884727Z",
     "iopub.status.busy": "2025-05-06T18:41:12.884243Z",
     "iopub.status.idle": "2025-05-06T18:41:13.111692Z",
     "shell.execute_reply": "2025-05-06T18:41:13.110702Z",
     "shell.execute_reply.started": "2025-05-06T18:41:12.884686Z"
    }
   },
   "outputs": [
    {
     "name": "stdout",
     "output_type": "stream",
     "text": [
      "[10716     0     2     3     1     0     0     0     0     1] [-1.60122808e+02  1.95632031e+05  3.91424186e+05  5.87216340e+05\n",
      "  7.83008494e+05  9.78800648e+05  1.17459280e+06  1.37038496e+06\n",
      "  1.56617711e+06  1.76196926e+06  1.95776142e+06]\n",
      "-160.1228083 1957761.4190416\n"
     ]
    },
    {
     "data": {
      "image/png": "[encoded data removed]",
      "text/plain": [
       "<Figure size 640x480 with 1 Axes>"
      ]
     },
     "metadata": {},
     "output_type": "display_data"
    }
   ],
   "source": [
    "plt.clf()\n",
    "print(bins, values)\n",
    "plt.hist(results[results['r_kronFlux_flag']]['r_kronFlux'],\n",
    "         label='Flagged', density=True, alpha=0.5)\n",
    "plt.hist(results[(results['r_kronFlux_flag']==False) & (results['r_kronFlux']<4000)]['r_kronFlux'],\n",
    "         label='Not flagged', density=True, alpha=0.5)\n",
    "print(np.min(results[results['r_kronFlux_flag']==False]['r_kronFlux']),\n",
    "      np.max(results[results['r_kronFlux_flag']==False]['r_kronFlux']))\n",
    "plt.legend()\n",
    "plt.show()"
   ]
  },
  {
   "cell_type": "markdown",
   "id": "24e94c30-66b3-4b9c-b79b-bcf024d5f214",
   "metadata": {},
   "source": [
    "Okay what about the `r_kronFlux` measurement?"
   ]
  },
  {
   "cell_type": "code",
   "execution_count": 15,
   "id": "0e66ccb2-3922-471b-8c15-7fb055d02a10",
   "metadata": {
    "execution": {
     "iopub.execute_input": "2024-12-03T00:04:41.925819Z",
     "iopub.status.busy": "2024-12-03T00:04:41.925606Z",
     "iopub.status.idle": "2024-12-03T00:04:41.931416Z",
     "shell.execute_reply": "2024-12-03T00:04:41.930843Z",
     "shell.execute_reply.started": "2024-12-03T00:04:41.925802Z"
    }
   },
   "outputs": [
    {
     "data": {
      "text/plain": [
       "r_kronFlux_flag\n",
       "False    10723\n",
       "True       841\n",
       "Name: count, dtype: int64"
      ]
     },
     "execution_count": 15,
     "metadata": {},
     "output_type": "execute_result"
    }
   ],
   "source": [
    "results['r_kronFlux_flag'].value_counts()"
   ]
  },
  {
   "cell_type": "markdown",
   "id": "fa7a4ce1-7bd4-47f8-a480-188b2c70579a",
   "metadata": {},
   "source": [
    "Perform an intersection to see if the flagged entries overlap between these two photometric bands."
   ]
  },
  {
   "cell_type": "code",
   "execution_count": 16,
   "id": "06786c33-2563-4237-9d0f-22d6308c0d7b",
   "metadata": {
    "execution": {
     "iopub.execute_input": "2024-12-03T00:04:41.932301Z",
     "iopub.status.busy": "2024-12-03T00:04:41.932089Z",
     "iopub.status.idle": "2024-12-03T00:04:41.970411Z",
     "shell.execute_reply": "2024-12-03T00:04:41.969900Z",
     "shell.execute_reply.started": "2024-12-03T00:04:41.932283Z"
    }
   },
   "outputs": [
    {
     "name": "stdout",
     "output_type": "stream",
     "text": [
      "        coord_ra  coord_dec  g_kronFlux  g_kronFlux_flag  r_kronFlux  \\\n",
      "1749   61.916451 -37.018987  232.455339             True  380.415747   \n",
      "1758   61.910063 -37.017256  115.486047             True  105.318235   \n",
      "1774   61.950787 -37.015252  132.207788             True  193.917364   \n",
      "...          ...        ...         ...              ...         ...   \n",
      "11466  61.956032 -37.074942   59.901381             True  315.077832   \n",
      "11471  61.942023 -37.073313  145.759753             True  120.304211   \n",
      "11494  61.924542 -37.071842  248.013148             True  273.729756   \n",
      "\n",
      "       r_kronFlux_flag  i_kronFlux  i_kronFlux_flag  \n",
      "1749              True  562.754481            False  \n",
      "1758              True  218.924537             True  \n",
      "1774              True  522.751057            False  \n",
      "...                ...         ...              ...  \n",
      "11466             True         NaN             True  \n",
      "11471             True  243.456290             True  \n",
      "11494             True  257.108970             True  \n",
      "\n",
      "[328 rows x 8 columns]\n"
     ]
    }
   ],
   "source": [
    "# get the unique values (which will be True or False)\n",
    "r_values = set(results['r_kronFlux_flag'].unique())\n",
    "g_values = set(results['g_kronFlux_flag'].unique())\n",
    "\n",
    "# find the intersection\n",
    "overlap = r_values & g_values\n",
    "\n",
    "overlap_true_rows = results[\n",
    "    (results['r_kronFlux_flag'].isin(overlap)) & \n",
    "    (results['g_kronFlux_flag'].isin(overlap)) & \n",
    "    (results['r_kronFlux_flag'] == True) & \n",
    "    (results['g_kronFlux_flag'] == True)\n",
    "]\n",
    "\n",
    "print(overlap_true_rows)"
   ]
  },
  {
   "cell_type": "markdown",
   "id": "ec13b104-ad8d-4bd6-8a93-b6d1d57b921e",
   "metadata": {},
   "source": [
    "There are six overlapping true rows, meaning that in six cases, we cannot use the $r-$band kronFlux to predict the $g-$band kronFlux."
   ]
  },
  {
   "cell_type": "code",
   "execution_count": 17,
   "id": "d29499cf-cab9-4a5c-8811-ffd1e5c9d82f",
   "metadata": {
    "execution": {
     "iopub.execute_input": "2024-12-03T00:04:41.971139Z",
     "iopub.status.busy": "2024-12-03T00:04:41.970965Z",
     "iopub.status.idle": "2024-12-03T00:04:41.978973Z",
     "shell.execute_reply": "2024-12-03T00:04:41.978503Z",
     "shell.execute_reply.started": "2024-12-03T00:04:41.971124Z"
    }
   },
   "outputs": [
    {
     "name": "stdout",
     "output_type": "stream",
     "text": [
      "        coord_ra  coord_dec  g_kronFlux  g_kronFlux_flag  r_kronFlux  \\\n",
      "46     62.036008 -36.904244   60.546756            False    0.103155   \n",
      "347    62.072778 -36.964144   15.582472            False    0.000000   \n",
      "700    62.067443 -36.954921   94.684525            False         NaN   \n",
      "...          ...        ...         ...              ...         ...   \n",
      "11477  61.984400 -37.069348   63.584932            False   85.069624   \n",
      "11483  61.911589 -37.067708  159.077697            False  139.900920   \n",
      "11493  61.957278 -37.071416  165.461776            False  182.058161   \n",
      "\n",
      "       r_kronFlux_flag  i_kronFlux  i_kronFlux_flag  \n",
      "46                True   68.234239            False  \n",
      "347               True  100.430859            False  \n",
      "700               True  259.766837            False  \n",
      "...                ...         ...              ...  \n",
      "11477             True  100.221708             True  \n",
      "11483             True  279.320760             True  \n",
      "11493             True  349.606659             True  \n",
      "\n",
      "[513 rows x 8 columns]\n"
     ]
    }
   ],
   "source": [
    "g_false_r_true = results[\n",
    "    (results['r_kronFlux_flag'] == True) & \n",
    "    (results['g_kronFlux_flag'] == False)\n",
    "]\n",
    "\n",
    "print(g_false_r_true)"
   ]
  },
  {
   "cell_type": "markdown",
   "id": "69b67af5-de80-414c-985d-8f6cdccfc3a3",
   "metadata": {},
   "source": [
    "For the unflagged values, let's look at the relationship between these fluxes."
   ]
  },
  {
   "cell_type": "code",
   "execution_count": 18,
   "id": "e6294681-9c60-4ec6-805c-d378300acaa3",
   "metadata": {
    "execution": {
     "iopub.execute_input": "2024-12-03T00:04:41.979744Z",
     "iopub.status.busy": "2024-12-03T00:04:41.979551Z",
     "iopub.status.idle": "2024-12-03T00:04:42.213955Z",
     "shell.execute_reply": "2024-12-03T00:04:42.213438Z",
     "shell.execute_reply.started": "2024-12-03T00:04:41.979728Z"
    }
   },
   "outputs": [
    {
     "data": {
      "image/png": "[encoded data removed]",
      "text/plain": [
       "<Figure size 640x480 with 1 Axes>"
      ]
     },
     "metadata": {},
     "output_type": "display_data"
    }
   ],
   "source": [
    "clean = results[\n",
    "    (results['r_kronFlux_flag'] == False) & \n",
    "    (results['g_kronFlux_flag'] == False) &\n",
    "    (results['i_kronFlux_flag'] == False)\n",
    "]\n",
    "\n",
    "plt.scatter(clean['g_kronFlux'], clean['r_kronFlux'])\n",
    "plt.xlabel(r'$g-$band kronFlux [nJy]')\n",
    "plt.ylabel(r'$r-$band kronFlux [nJy]');"
   ]
  },
  {
   "cell_type": "code",
   "execution_count": 19,
   "id": "5afedb17-6478-4f2b-bdfc-38e73cd4a65e",
   "metadata": {
    "execution": {
     "iopub.execute_input": "2024-12-03T00:04:42.215968Z",
     "iopub.status.busy": "2024-12-03T00:04:42.215730Z",
     "iopub.status.idle": "2024-12-03T00:04:42.382817Z",
     "shell.execute_reply": "2024-12-03T00:04:42.382256Z",
     "shell.execute_reply.started": "2024-12-03T00:04:42.215949Z"
    }
   },
   "outputs": [
    {
     "data": {
      "image/png": "[encoded data removed]",
      "text/plain": [
       "<Figure size 640x480 with 1 Axes>"
      ]
     },
     "metadata": {},
     "output_type": "display_data"
    }
   ],
   "source": [
    "plt.scatter(clean['g_kronFlux'], clean['r_kronFlux'])\n",
    "plt.xlabel(r'$g-$band kronFlux [nJy]')\n",
    "plt.ylabel(r'$r-$band kronFlux [nJy]')\n",
    "plt.xlim([0,30000])\n",
    "plt.ylim([0,0.5e5]);"
   ]
  },
  {
   "cell_type": "markdown",
   "id": "2f503394-3816-4d31-9cf0-9de88e229f87",
   "metadata": {},
   "source": [
    "Zooming in on this relationship, it looks roughly linear, so we should be able to do some predictive work here."
   ]
  },
  {
   "cell_type": "markdown",
   "id": "4704605a-4665-4ccc-bd7e-cefaf5e09828",
   "metadata": {},
   "source": [
    "## 6. Prepare the training and test sets"
   ]
  },
  {
   "cell_type": "markdown",
   "id": "0b3c8d4e-0541-49c7-9fa1-f9b3b5d29aac",
   "metadata": {},
   "source": [
    "The first step is to define the training and validation data."
   ]
  },
  {
   "cell_type": "markdown",
   "id": "1ab2c517-125b-4c70-ad2d-b447f7e6721e",
   "metadata": {},
   "source": [
    "The `.to_frame()` argument is required to input the X data as a 2D shape, as expected by scikit-learn."
   ]
  },
  {
   "cell_type": "code",
   "execution_count": 20,
   "id": "fc90feca-ede1-44b0-929b-2fec1ddf5ad4",
   "metadata": {
    "execution": {
     "iopub.execute_input": "2024-12-03T00:04:42.383760Z",
     "iopub.status.busy": "2024-12-03T00:04:42.383543Z",
     "iopub.status.idle": "2024-12-03T00:04:42.389713Z",
     "shell.execute_reply": "2024-12-03T00:04:42.389149Z",
     "shell.execute_reply.started": "2024-12-03T00:04:42.383742Z"
    }
   },
   "outputs": [],
   "source": [
    "X_train, X_test, y_train, y_test = train_test_split(\n",
    "    clean['g_kronFlux'].to_frame(), clean['r_kronFlux'].to_frame(), test_size=0.2, random_state=42)"
   ]
  },
  {
   "cell_type": "markdown",
   "id": "ecb487df-ce82-4d2d-9821-64620e1e922b",
   "metadata": {},
   "source": [
    "Good practice to use a scaler."
   ]
  },
  {
   "cell_type": "code",
   "execution_count": 21,
   "id": "8e675e27-74f0-43e8-91af-8652e2710609",
   "metadata": {
    "execution": {
     "iopub.execute_input": "2024-12-03T00:04:42.390439Z",
     "iopub.status.busy": "2024-12-03T00:04:42.390274Z",
     "iopub.status.idle": "2024-12-03T00:04:42.404155Z",
     "shell.execute_reply": "2024-12-03T00:04:42.403690Z",
     "shell.execute_reply.started": "2024-12-03T00:04:42.390426Z"
    }
   },
   "outputs": [],
   "source": [
    "scaler = StandardScaler()\n",
    "X_train = scaler.fit_transform(X_train)\n",
    "X_test = scaler.transform(X_test)"
   ]
  },
  {
   "cell_type": "code",
   "execution_count": 22,
   "id": "4771e145-2649-4eda-8891-987c7e9c9009",
   "metadata": {
    "execution": {
     "iopub.execute_input": "2024-12-03T00:04:42.404900Z",
     "iopub.status.busy": "2024-12-03T00:04:42.404711Z",
     "iopub.status.idle": "2024-12-03T00:04:42.413985Z",
     "shell.execute_reply": "2024-12-03T00:04:42.413340Z",
     "shell.execute_reply.started": "2024-12-03T00:04:42.404885Z"
    }
   },
   "outputs": [
    {
     "data": {
      "text/plain": [
       "array([[-0.05664546],\n",
       "       [ 0.0240961 ],\n",
       "       [-0.06126054],\n",
       "       ...,\n",
       "       [ 0.51047933],\n",
       "       [-0.01411049],\n",
       "       [-0.03585177]])"
      ]
     },
     "execution_count": 22,
     "metadata": {},
     "output_type": "execute_result"
    }
   ],
   "source": [
    "X_test"
   ]
  },
  {
   "cell_type": "markdown",
   "id": "6011b2e6-5197-4475-8eb4-3a8841b3bd28",
   "metadata": {},
   "source": [
    "## 7. Model (using `scikit-learn`)"
   ]
  },
  {
   "cell_type": "markdown",
   "id": "48c8d648-288f-4635-a961-248f127fe524",
   "metadata": {},
   "source": [
    "## 7.1 Start with a linear regression"
   ]
  },
  {
   "cell_type": "code",
   "execution_count": 23,
   "id": "e02ca479-6105-442b-9879-2eb215dc4d66",
   "metadata": {
    "execution": {
     "iopub.execute_input": "2024-12-03T00:04:42.414746Z",
     "iopub.status.busy": "2024-12-03T00:04:42.414553Z",
     "iopub.status.idle": "2024-12-03T00:04:42.430795Z",
     "shell.execute_reply": "2024-12-03T00:04:42.430269Z",
     "shell.execute_reply.started": "2024-12-03T00:04:42.414730Z"
    }
   },
   "outputs": [
    {
     "data": {
      "text/html": [
       "<style>#sk-container-id-1 {\n",
       "  /* Definition of color scheme common for light and dark mode */\n",
       "  --sklearn-color-text: black;\n",
       "  --sklearn-color-line: gray;\n",
       "  /* Definition of color scheme for unfitted estimators */\n",
       "  --sklearn-color-unfitted-level-0: #fff5e6;\n",
       "  --sklearn-color-unfitted-level-1: #f6e4d2;\n",
       "  --sklearn-color-unfitted-level-2: #ffe0b3;\n",
       "  --sklearn-color-unfitted-level-3: chocolate;\n",
       "  /* Definition of color scheme for fitted estimators */\n",
       "  --sklearn-color-fitted-level-0: #f0f8ff;\n",
       "  --sklearn-color-fitted-level-1: #d4ebff;\n",
       "  --sklearn-color-fitted-level-2: #b3dbfd;\n",
       "  --sklearn-color-fitted-level-3: cornflowerblue;\n",
       "\n",
       "  /* Specific color for light theme */\n",
       "  --sklearn-color-text-on-default-background: var(--sg-text-color, var(--theme-code-foreground, var(--jp-content-font-color1, black)));\n",
       "  --sklearn-color-background: var(--sg-background-color, var(--theme-background, var(--jp-layout-color0, white)));\n",
       "  --sklearn-color-border-box: var(--sg-text-color, var(--theme-code-foreground, var(--jp-content-font-color1, black)));\n",
       "  --sklearn-color-icon: #696969;\n",
       "\n",
       "  @media (prefers-color-scheme: dark) {\n",
       "    /* Redefinition of color scheme for dark theme */\n",
       "    --sklearn-color-text-on-default-background: var(--sg-text-color, var(--theme-code-foreground, var(--jp-content-font-color1, white)));\n",
       "    --sklearn-color-background: var(--sg-background-color, var(--theme-background, var(--jp-layout-color0, #111)));\n",
       "    --sklearn-color-border-box: var(--sg-text-color, var(--theme-code-foreground, var(--jp-content-font-color1, white)));\n",
       "    --sklearn-color-icon: #878787;\n",
       "  }\n",
       "}\n",
       "\n",
       "#sk-container-id-1 {\n",
       "  color: var(--sklearn-color-text);\n",
       "}\n",
       "\n",
       "#sk-container-id-1 pre {\n",
       "  padding: 0;\n",
       "}\n",
       "\n",
       "#sk-container-id-1 input.sk-hidden--visually {\n",
       "  border: 0;\n",
       "  clip: rect(1px 1px 1px 1px);\n",
       "  clip: rect(1px, 1px, 1px, 1px);\n",
       "  height: 1px;\n",
       "  margin: -1px;\n",
       "  overflow: hidden;\n",
       "  padding: 0;\n",
       "  position: absolute;\n",
       "  width: 1px;\n",
       "}\n",
       "\n",
       "#sk-container-id-1 div.sk-dashed-wrapped {\n",
       "  border: 1px dashed var(--sklearn-color-line);\n",
       "  margin: 0 0.4em 0.5em 0.4em;\n",
       "  box-sizing: border-box;\n",
       "  padding-bottom: 0.4em;\n",
       "  background-color: var(--sklearn-color-background);\n",
       "}\n",
       "\n",
       "#sk-container-id-1 div.sk-container {\n",
       "  /* jupyter's `normalize.less` sets `[hidden] { display: none; }`\n",
       "     but bootstrap.min.css set `[hidden] { display: none !important; }`\n",
       "     so we also need the `!important` here to be able to override the\n",
       "     default hidden behavior on the sphinx rendered scikit-learn.org.\n",
       "     See: https://github.com/scikit-learn/scikit-learn/issues/21755 */\n",
       "  display: inline-block !important;\n",
       "  position: relative;\n",
       "}\n",
       "\n",
       "#sk-container-id-1 div.sk-text-repr-fallback {\n",
       "  display: none;\n",
       "}\n",
       "\n",
       "div.sk-parallel-item,\n",
       "div.sk-serial,\n",
       "div.sk-item {\n",
       "  /* draw centered vertical line to link estimators */\n",
       "  background-image: linear-gradient(var(--sklearn-color-text-on-default-background), var(--sklearn-color-text-on-default-background));\n",
       "  background-size: 2px 100%;\n",
       "  background-repeat: no-repeat;\n",
       "  background-position: center center;\n",
       "}\n",
       "\n",
       "/* Parallel-specific style estimator block */\n",
       "\n",
       "#sk-container-id-1 div.sk-parallel-item::after {\n",
       "  content: \"\";\n",
       "  width: 100%;\n",
       "  border-bottom: 2px solid var(--sklearn-color-text-on-default-background);\n",
       "  flex-grow: 1;\n",
       "}\n",
       "\n",
       "#sk-container-id-1 div.sk-parallel {\n",
       "  display: flex;\n",
       "  align-items: stretch;\n",
       "  justify-content: center;\n",
       "  background-color: var(--sklearn-color-background);\n",
       "  position: relative;\n",
       "}\n",
       "\n",
       "#sk-container-id-1 div.sk-parallel-item {\n",
       "  display: flex;\n",
       "  flex-direction: column;\n",
       "}\n",
       "\n",
       "#sk-container-id-1 div.sk-parallel-item:first-child::after {\n",
       "  align-self: flex-end;\n",
       "  width: 50%;\n",
       "}\n",
       "\n",
       "#sk-container-id-1 div.sk-parallel-item:last-child::after {\n",
       "  align-self: flex-start;\n",
       "  width: 50%;\n",
       "}\n",
       "\n",
       "#sk-container-id-1 div.sk-parallel-item:only-child::after {\n",
       "  width: 0;\n",
       "}\n",
       "\n",
       "/* Serial-specific style estimator block */\n",
       "\n",
       "#sk-container-id-1 div.sk-serial {\n",
       "  display: flex;\n",
       "  flex-direction: column;\n",
       "  align-items: center;\n",
       "  background-color: var(--sklearn-color-background);\n",
       "  padding-right: 1em;\n",
       "  padding-left: 1em;\n",
       "}\n",
       "\n",
       "\n",
       "/* Toggleable style: style used for estimator/Pipeline/ColumnTransformer box that is\n",
       "clickable and can be expanded/collapsed.\n",
       "- Pipeline and ColumnTransformer use this feature and define the default style\n",
       "- Estimators will overwrite some part of the style using the `sk-estimator` class\n",
       "*/\n",
       "\n",
       "/* Pipeline and ColumnTransformer style (default) */\n",
       "\n",
       "#sk-container-id-1 div.sk-toggleable {\n",
       "  /* Default theme specific background. It is overwritten whether we have a\n",
       "  specific estimator or a Pipeline/ColumnTransformer */\n",
       "  background-color: var(--sklearn-color-background);\n",
       "}\n",
       "\n",
       "/* Toggleable label */\n",
       "#sk-container-id-1 label.sk-toggleable__label {\n",
       "  cursor: pointer;\n",
       "  display: block;\n",
       "  width: 100%;\n",
       "  margin-bottom: 0;\n",
       "  padding: 0.5em;\n",
       "  box-sizing: border-box;\n",
       "  text-align: center;\n",
       "}\n",
       "\n",
       "#sk-container-id-1 label.sk-toggleable__label-arrow:before {\n",
       "  /* Arrow on the left of the label */\n",
       "  content: \"▸\";\n",
       "  float: left;\n",
       "  margin-right: 0.25em;\n",
       "  color: var(--sklearn-color-icon);\n",
       "}\n",
       "\n",
       "#sk-container-id-1 label.sk-toggleable__label-arrow:hover:before {\n",
       "  color: var(--sklearn-color-text);\n",
       "}\n",
       "\n",
       "/* Toggleable content - dropdown */\n",
       "\n",
       "#sk-container-id-1 div.sk-toggleable__content {\n",
       "  max-height: 0;\n",
       "  max-width: 0;\n",
       "  overflow: hidden;\n",
       "  text-align: left;\n",
       "  /* unfitted */\n",
       "  background-color: var(--sklearn-color-unfitted-level-0);\n",
       "}\n",
       "\n",
       "#sk-container-id-1 div.sk-toggleable__content.fitted {\n",
       "  /* fitted */\n",
       "  background-color: var(--sklearn-color-fitted-level-0);\n",
       "}\n",
       "\n",
       "#sk-container-id-1 div.sk-toggleable__content pre {\n",
       "  margin: 0.2em;\n",
       "  border-radius: 0.25em;\n",
       "  color: var(--sklearn-color-text);\n",
       "  /* unfitted */\n",
       "  background-color: var(--sklearn-color-unfitted-level-0);\n",
       "}\n",
       "\n",
       "#sk-container-id-1 div.sk-toggleable__content.fitted pre {\n",
       "  /* unfitted */\n",
       "  background-color: var(--sklearn-color-fitted-level-0);\n",
       "}\n",
       "\n",
       "#sk-container-id-1 input.sk-toggleable__control:checked~div.sk-toggleable__content {\n",
       "  /* Expand drop-down */\n",
       "  max-height: 200px;\n",
       "  max-width: 100%;\n",
       "  overflow: auto;\n",
       "}\n",
       "\n",
       "#sk-container-id-1 input.sk-toggleable__control:checked~label.sk-toggleable__label-arrow:before {\n",
       "  content: \"▾\";\n",
       "}\n",
       "\n",
       "/* Pipeline/ColumnTransformer-specific style */\n",
       "\n",
       "#sk-container-id-1 div.sk-label input.sk-toggleable__control:checked~label.sk-toggleable__label {\n",
       "  color: var(--sklearn-color-text);\n",
       "  background-color: var(--sklearn-color-unfitted-level-2);\n",
       "}\n",
       "\n",
       "#sk-container-id-1 div.sk-label.fitted input.sk-toggleable__control:checked~label.sk-toggleable__label {\n",
       "  background-color: var(--sklearn-color-fitted-level-2);\n",
       "}\n",
       "\n",
       "/* Estimator-specific style */\n",
       "\n",
       "/* Colorize estimator box */\n",
       "#sk-container-id-1 div.sk-estimator input.sk-toggleable__control:checked~label.sk-toggleable__label {\n",
       "  /* unfitted */\n",
       "  background-color: var(--sklearn-color-unfitted-level-2);\n",
       "}\n",
       "\n",
       "#sk-container-id-1 div.sk-estimator.fitted input.sk-toggleable__control:checked~label.sk-toggleable__label {\n",
       "  /* fitted */\n",
       "  background-color: var(--sklearn-color-fitted-level-2);\n",
       "}\n",
       "\n",
       "#sk-container-id-1 div.sk-label label.sk-toggleable__label,\n",
       "#sk-container-id-1 div.sk-label label {\n",
       "  /* The background is the default theme color */\n",
       "  color: var(--sklearn-color-text-on-default-background);\n",
       "}\n",
       "\n",
       "/* On hover, darken the color of the background */\n",
       "#sk-container-id-1 div.sk-label:hover label.sk-toggleable__label {\n",
       "  color: var(--sklearn-color-text);\n",
       "  background-color: var(--sklearn-color-unfitted-level-2);\n",
       "}\n",
       "\n",
       "/* Label box, darken color on hover, fitted */\n",
       "#sk-container-id-1 div.sk-label.fitted:hover label.sk-toggleable__label.fitted {\n",
       "  color: var(--sklearn-color-text);\n",
       "  background-color: var(--sklearn-color-fitted-level-2);\n",
       "}\n",
       "\n",
       "/* Estimator label */\n",
       "\n",
       "#sk-container-id-1 div.sk-label label {\n",
       "  font-family: monospace;\n",
       "  font-weight: bold;\n",
       "  display: inline-block;\n",
       "  line-height: 1.2em;\n",
       "}\n",
       "\n",
       "#sk-container-id-1 div.sk-label-container {\n",
       "  text-align: center;\n",
       "}\n",
       "\n",
       "/* Estimator-specific */\n",
       "#sk-container-id-1 div.sk-estimator {\n",
       "  font-family: monospace;\n",
       "  border: 1px dotted var(--sklearn-color-border-box);\n",
       "  border-radius: 0.25em;\n",
       "  box-sizing: border-box;\n",
       "  margin-bottom: 0.5em;\n",
       "  /* unfitted */\n",
       "  background-color: var(--sklearn-color-unfitted-level-0);\n",
       "}\n",
       "\n",
       "#sk-container-id-1 div.sk-estimator.fitted {\n",
       "  /* fitted */\n",
       "  background-color: var(--sklearn-color-fitted-level-0);\n",
       "}\n",
       "\n",
       "/* on hover */\n",
       "#sk-container-id-1 div.sk-estimator:hover {\n",
       "  /* unfitted */\n",
       "  background-color: var(--sklearn-color-unfitted-level-2);\n",
       "}\n",
       "\n",
       "#sk-container-id-1 div.sk-estimator.fitted:hover {\n",
       "  /* fitted */\n",
       "  background-color: var(--sklearn-color-fitted-level-2);\n",
       "}\n",
       "\n",
       "/* Specification for estimator info (e.g. \"i\" and \"?\") */\n",
       "\n",
       "/* Common style for \"i\" and \"?\" */\n",
       "\n",
       ".sk-estimator-doc-link,\n",
       "a:link.sk-estimator-doc-link,\n",
       "a:visited.sk-estimator-doc-link {\n",
       "  float: right;\n",
       "  font-size: smaller;\n",
       "  line-height: 1em;\n",
       "  font-family: monospace;\n",
       "  background-color: var(--sklearn-color-background);\n",
       "  border-radius: 1em;\n",
       "  height: 1em;\n",
       "  width: 1em;\n",
       "  text-decoration: none !important;\n",
       "  margin-left: 1ex;\n",
       "  /* unfitted */\n",
       "  border: var(--sklearn-color-unfitted-level-1) 1pt solid;\n",
       "  color: var(--sklearn-color-unfitted-level-1);\n",
       "}\n",
       "\n",
       ".sk-estimator-doc-link.fitted,\n",
       "a:link.sk-estimator-doc-link.fitted,\n",
       "a:visited.sk-estimator-doc-link.fitted {\n",
       "  /* fitted */\n",
       "  border: var(--sklearn-color-fitted-level-1) 1pt solid;\n",
       "  color: var(--sklearn-color-fitted-level-1);\n",
       "}\n",
       "\n",
       "/* On hover */\n",
       "div.sk-estimator:hover .sk-estimator-doc-link:hover,\n",
       ".sk-estimator-doc-link:hover,\n",
       "div.sk-label-container:hover .sk-estimator-doc-link:hover,\n",
       ".sk-estimator-doc-link:hover {\n",
       "  /* unfitted */\n",
       "  background-color: var(--sklearn-color-unfitted-level-3);\n",
       "  color: var(--sklearn-color-background);\n",
       "  text-decoration: none;\n",
       "}\n",
       "\n",
       "div.sk-estimator.fitted:hover .sk-estimator-doc-link.fitted:hover,\n",
       ".sk-estimator-doc-link.fitted:hover,\n",
       "div.sk-label-container:hover .sk-estimator-doc-link.fitted:hover,\n",
       ".sk-estimator-doc-link.fitted:hover {\n",
       "  /* fitted */\n",
       "  background-color: var(--sklearn-color-fitted-level-3);\n",
       "  color: var(--sklearn-color-background);\n",
       "  text-decoration: none;\n",
       "}\n",
       "\n",
       "/* Span, style for the box shown on hovering the info icon */\n",
       ".sk-estimator-doc-link span {\n",
       "  display: none;\n",
       "  z-index: 9999;\n",
       "  position: relative;\n",
       "  font-weight: normal;\n",
       "  right: .2ex;\n",
       "  padding: .5ex;\n",
       "  margin: .5ex;\n",
       "  width: min-content;\n",
       "  min-width: 20ex;\n",
       "  max-width: 50ex;\n",
       "  color: var(--sklearn-color-text);\n",
       "  box-shadow: 2pt 2pt 4pt #999;\n",
       "  /* unfitted */\n",
       "  background: var(--sklearn-color-unfitted-level-0);\n",
       "  border: .5pt solid var(--sklearn-color-unfitted-level-3);\n",
       "}\n",
       "\n",
       ".sk-estimator-doc-link.fitted span {\n",
       "  /* fitted */\n",
       "  background: var(--sklearn-color-fitted-level-0);\n",
       "  border: var(--sklearn-color-fitted-level-3);\n",
       "}\n",
       "\n",
       ".sk-estimator-doc-link:hover span {\n",
       "  display: block;\n",
       "}\n",
       "\n",
       "/* \"?\"-specific style due to the `<a>` HTML tag */\n",
       "\n",
       "#sk-container-id-1 a.estimator_doc_link {\n",
       "  float: right;\n",
       "  font-size: 1rem;\n",
       "  line-height: 1em;\n",
       "  font-family: monospace;\n",
       "  background-color: var(--sklearn-color-background);\n",
       "  border-radius: 1rem;\n",
       "  height: 1rem;\n",
       "  width: 1rem;\n",
       "  text-decoration: none;\n",
       "  /* unfitted */\n",
       "  color: var(--sklearn-color-unfitted-level-1);\n",
       "  border: var(--sklearn-color-unfitted-level-1) 1pt solid;\n",
       "}\n",
       "\n",
       "#sk-container-id-1 a.estimator_doc_link.fitted {\n",
       "  /* fitted */\n",
       "  border: var(--sklearn-color-fitted-level-1) 1pt solid;\n",
       "  color: var(--sklearn-color-fitted-level-1);\n",
       "}\n",
       "\n",
       "/* On hover */\n",
       "#sk-container-id-1 a.estimator_doc_link:hover {\n",
       "  /* unfitted */\n",
       "  background-color: var(--sklearn-color-unfitted-level-3);\n",
       "  color: var(--sklearn-color-background);\n",
       "  text-decoration: none;\n",
       "}\n",
       "\n",
       "#sk-container-id-1 a.estimator_doc_link.fitted:hover {\n",
       "  /* fitted */\n",
       "  background-color: var(--sklearn-color-fitted-level-3);\n",
       "}\n",
       "</style><div id=\"sk-container-id-1\" class=\"sk-top-container\"><div class=\"sk-text-repr-fallback\"><pre>LinearRegression()</pre><b>In a Jupyter environment, please rerun this cell to show the HTML representation or trust the notebook. <br />On GitHub, the HTML representation is unable to render, please try loading this page with nbviewer.org.</b></div><div class=\"sk-container\" hidden><div class=\"sk-item\"><div class=\"sk-estimator fitted sk-toggleable\"><input class=\"sk-toggleable__control sk-hidden--visually\" id=\"sk-estimator-id-1\" type=\"checkbox\" checked><label for=\"sk-estimator-id-1\" class=\"sk-toggleable__label fitted sk-toggleable__label-arrow fitted\">&nbsp;&nbsp;LinearRegression<a class=\"sk-estimator-doc-link fitted\" rel=\"noreferrer\" target=\"_blank\" href=\"https://scikit-learn.org/1.5/modules/generated/sklearn.linear_model.LinearRegression.html\">?<span>Documentation for LinearRegression</span></a><span class=\"sk-estimator-doc-link fitted\">i<span>Fitted</span></span></label><div class=\"sk-toggleable__content fitted\"><pre>LinearRegression()</pre></div> </div></div></div></div>"
      ],
      "text/plain": [
       "LinearRegression()"
      ]
     },
     "execution_count": 23,
     "metadata": {},
     "output_type": "execute_result"
    }
   ],
   "source": [
    "model = LinearRegression()\n",
    "model.fit(X_train, y_train)"
   ]
  },
  {
   "cell_type": "code",
   "execution_count": 24,
   "id": "aca8064a-c94f-4792-86b3-62ec2130471b",
   "metadata": {
    "execution": {
     "iopub.execute_input": "2024-12-03T00:04:42.431529Z",
     "iopub.status.busy": "2024-12-03T00:04:42.431336Z",
     "iopub.status.idle": "2024-12-03T00:04:42.438736Z",
     "shell.execute_reply": "2024-12-03T00:04:42.438086Z",
     "shell.execute_reply.started": "2024-12-03T00:04:42.431514Z"
    }
   },
   "outputs": [
    {
     "name": "stdout",
     "output_type": "stream",
     "text": [
      "MSE: 81831676.75317723\n"
     ]
    }
   ],
   "source": [
    "y_pred = model.predict(X_test)\n",
    "mse = mean_squared_error(y_test, y_pred)\n",
    "print(\"MSE:\", mse)"
   ]
  },
  {
   "cell_type": "markdown",
   "id": "c9086695-43c6-49e5-a751-bcabc275172d",
   "metadata": {},
   "source": [
    "Plot how the predicted values compare to the true values."
   ]
  },
  {
   "cell_type": "code",
   "execution_count": 25,
   "id": "ee8bd887-928e-4a41-bd77-149b344ab238",
   "metadata": {
    "execution": {
     "iopub.execute_input": "2024-12-03T00:04:42.439562Z",
     "iopub.status.busy": "2024-12-03T00:04:42.439353Z",
     "iopub.status.idle": "2024-12-03T00:04:42.606543Z",
     "shell.execute_reply": "2024-12-03T00:04:42.605896Z",
     "shell.execute_reply.started": "2024-12-03T00:04:42.439546Z"
    }
   },
   "outputs": [
    {
     "data": {
      "image/png": "[encoded data removed]",
      "text/plain": [
       "<Figure size 640x480 with 1 Axes>"
      ]
     },
     "metadata": {},
     "output_type": "display_data"
    }
   ],
   "source": [
    "plt.clf()\n",
    "plt.scatter(y_test, y_pred)\n",
    "plt.plot([0,1e6],[0,1e6], color='black', ls='--')\n",
    "plt.xlabel('True')\n",
    "plt.ylabel('Predicted')\n",
    "plt.xlim([0,2e4])\n",
    "plt.ylim([0,2e4]);"
   ]
  },
  {
   "cell_type": "markdown",
   "id": "1de26eb9-e7cf-4e94-bf14-0fda5d8efe18",
   "metadata": {},
   "source": [
    "## 7.2 Improve the model with more features\n",
    "Let's see if this will improve with more predictive values, this time including the i band information."
   ]
  },
  {
   "cell_type": "code",
   "execution_count": 26,
   "id": "d80e56eb-6e3d-4110-bee6-3681ee4a923b",
   "metadata": {
    "execution": {
     "iopub.execute_input": "2024-12-03T00:04:43.535589Z",
     "iopub.status.busy": "2024-12-03T00:04:43.535315Z",
     "iopub.status.idle": "2024-12-03T00:04:43.657195Z",
     "shell.execute_reply": "2024-12-03T00:04:43.656652Z",
     "shell.execute_reply.started": "2024-12-03T00:04:43.535570Z"
    }
   },
   "outputs": [
    {
     "name": "stdout",
     "output_type": "stream",
     "text": [
      "MSE: 409962.71379404626\n"
     ]
    },
    {
     "data": {
      "image/png": "[encoded data removed]",
      "text/plain": [
       "<Figure size 640x480 with 1 Axes>"
      ]
     },
     "metadata": {},
     "output_type": "display_data"
    }
   ],
   "source": [
    "# Train-test split\n",
    "X_train, X_test, y_train, y_test = train_test_split(\n",
    "    clean[['g_kronFlux', 'i_kronFlux']],  # Use these two features\n",
    "    clean['r_kronFlux'],                 # Target variable\n",
    "    test_size=0.2,\n",
    "    random_state=42\n",
    ")\n",
    "\n",
    "# Standardize the features\n",
    "scaler = StandardScaler()\n",
    "X_train = scaler.fit_transform(X_train)\n",
    "X_test = scaler.transform(X_test)\n",
    "\n",
    "# Train the model\n",
    "model = LinearRegression()\n",
    "model.fit(X_train, y_train)\n",
    "\n",
    "# Make predictions\n",
    "y_pred = model.predict(X_test)\n",
    "\n",
    "# Evaluate the model\n",
    "mse = mean_squared_error(y_test, y_pred)\n",
    "print(\"MSE:\", mse)\n",
    "\n",
    "# Scatter plot: True vs Predicted\n",
    "plt.clf()\n",
    "plt.scatter(y_test, y_pred)\n",
    "plt.plot([0, 1e6], [0, 1e6], color='black', ls='--')\n",
    "plt.xlabel('True')\n",
    "plt.ylabel('Predicted')\n",
    "plt.xlim([0, 2e4])\n",
    "plt.ylim([0, 2e4])\n",
    "plt.show()"
   ]
  },
  {
   "cell_type": "markdown",
   "id": "30cd4c78-35e5-4459-84bf-9642068da002",
   "metadata": {},
   "source": [
    "Test for the reader: try to improve this further by including more features."
   ]
  },
  {
   "cell_type": "markdown",
   "id": "89e92033-ff41-4662-b5aa-ece41c216a07",
   "metadata": {},
   "source": [
    "## 7.3 Random forest regressor\n",
    "These are great"
   ]
  },
  {
   "cell_type": "code",
   "execution_count": 27,
   "id": "efb56f9d-6487-444d-b283-6d60c1694948",
   "metadata": {
    "execution": {
     "iopub.execute_input": "2024-12-03T00:04:45.724451Z",
     "iopub.status.busy": "2024-12-03T00:04:45.723900Z",
     "iopub.status.idle": "2024-12-03T00:04:48.635415Z",
     "shell.execute_reply": "2024-12-03T00:04:48.634885Z",
     "shell.execute_reply.started": "2024-12-03T00:04:45.724427Z"
    }
   },
   "outputs": [
    {
     "name": "stdout",
     "output_type": "stream",
     "text": [
      "MSE: 33565886.06951628\n"
     ]
    },
    {
     "data": {
      "image/png": "[encoded data removed]",
      "text/plain": [
       "<Figure size 640x480 with 1 Axes>"
      ]
     },
     "metadata": {},
     "output_type": "display_data"
    }
   ],
   "source": [
    "model = RandomForestRegressor()\n",
    "model.fit(X_train, y_train)\n",
    "\n",
    "# Make predictions\n",
    "y_pred = model.predict(X_test)\n",
    "\n",
    "# Evaluate the model\n",
    "mse = mean_squared_error(y_test, y_pred)\n",
    "print(\"MSE:\", mse)\n",
    "\n",
    "# Scatter plot: True vs Predicted\n",
    "plt.clf()\n",
    "plt.scatter(y_test, y_pred)\n",
    "plt.plot([0, 1e6], [0, 1e6], color='black', ls='--')\n",
    "plt.xlabel('True')\n",
    "plt.ylabel('Predicted')\n",
    "plt.xlim([0, 2e4])\n",
    "plt.ylim([0, 2e4])\n",
    "plt.show()"
   ]
  },
  {
   "cell_type": "markdown",
   "id": "4ed0b4e6-904a-4af8-8bfe-cad402de09a4",
   "metadata": {},
   "source": [
    "## 8. Hyperparameter tuning\n",
    "With any `scikit-learn` model, it's possible to tune the hyperparameters to achieve better performance."
   ]
  },
  {
   "cell_type": "code",
   "execution_count": null,
   "id": "e6420904-44bb-40cf-8ce0-92b22a802e59",
   "metadata": {
    "execution": {
     "iopub.execute_input": "2024-12-03T17:29:45.803252Z",
     "iopub.status.busy": "2024-12-03T17:29:45.802663Z"
    }
   },
   "outputs": [],
   "source": [
    "from sklearn.model_selection import GridSearchCV\n",
    "param_grid = {'n_estimators': [1, 10, 50, 100, 200, 1000, 10000]} # default 100 for n_estimators\n",
    "\n",
    "# Create GridSearchCV object\n",
    "grid = GridSearchCV(model, param_grid, cv=5)\n",
    "\n",
    "grid.fit(X_train, y_train)\n",
    "\n",
    "# Get the best parameters\n",
    "print(grid.best_params_)"
   ]
  },
  {
   "cell_type": "markdown",
   "id": "8445ad22-4275-4a56-ace7-ce1a678dd900",
   "metadata": {},
   "source": [
    "### 8.2 Now retrieve the best fit model"
   ]
  },
  {
   "cell_type": "code",
   "execution_count": 43,
   "id": "89167a5d-e835-4f8d-8d57-ac82f0df6239",
   "metadata": {
    "execution": {
     "iopub.execute_input": "2024-12-03T00:19:21.191881Z",
     "iopub.status.busy": "2024-12-03T00:19:21.191156Z",
     "iopub.status.idle": "2024-12-03T00:19:21.944107Z",
     "shell.execute_reply": "2024-12-03T00:19:21.943414Z",
     "shell.execute_reply.started": "2024-12-03T00:19:21.191857Z"
    }
   },
   "outputs": [
    {
     "name": "stdout",
     "output_type": "stream",
     "text": [
      "Best Model: RandomForestRegressor(n_estimators=1000)\n"
     ]
    },
    {
     "data": {
      "image/png": "[encoded data removed]",
      "text/plain": [
       "<Figure size 640x480 with 1 Axes>"
      ]
     },
     "metadata": {},
     "output_type": "display_data"
    },
    {
     "name": "stdout",
     "output_type": "stream",
     "text": [
      "MSE: 19817809.291009396\n"
     ]
    }
   ],
   "source": [
    "best_model = grid.best_estimator_\n",
    "print(\"Best Model:\", best_model)\n",
    "y_pred = best_model.predict(X_test)\n",
    "plt.clf()\n",
    "plt.scatter(y_test, y_pred)\n",
    "plt.plot([0, 1e6], [0, 1e6], color='black', ls='--')\n",
    "plt.xlabel('True')\n",
    "plt.ylabel('Predicted')\n",
    "plt.xlim([0, 2e4])\n",
    "plt.ylim([0, 2e4])\n",
    "plt.show()\n",
    "\n",
    "mse = mean_squared_error(y_test, y_pred)\n",
    "print(\"MSE:\", mse)"
   ]
  },
  {
   "cell_type": "markdown",
   "id": "d5c33bd9-b95e-4ec8-a44d-cf3f219339e8",
   "metadata": {},
   "source": [
    "## 9. Other available `scikit-learn` choices\n",
    "The below two cells explore available options from `scikit-learn` for regression metrics and regression models, respectively. The metric cell is truncated with a `break` statement to only print details of the first metric. The model cell demonstrates printing the class information for the `RandomForestRegressor` class."
   ]
  },
  {
   "cell_type": "code",
   "execution_count": 19,
   "id": "5adca7ed-eb36-4e8b-99e3-3b66833fb3e3",
   "metadata": {
    "execution": {
     "iopub.execute_input": "2024-12-03T17:56:30.644538Z",
     "iopub.status.busy": "2024-12-03T17:56:30.643733Z",
     "iopub.status.idle": "2024-12-03T17:56:30.650634Z",
     "shell.execute_reply": "2024-12-03T17:56:30.649954Z",
     "shell.execute_reply.started": "2024-12-03T17:56:30.644507Z"
    }
   },
   "outputs": [
    {
     "name": "stdout",
     "output_type": "stream",
     "text": [
      "['brier_score_loss', 'check_scoring', 'coverage_error', 'd2_absolute_error_score', 'd2_pinball_score', 'd2_tweedie_score', 'explained_variance_score', 'label_ranking_loss', 'log_loss', 'max_error', 'mean_absolute_error', 'mean_absolute_percentage_error', 'mean_gamma_deviance', 'mean_pinball_loss', 'mean_poisson_deviance', 'mean_squared_error', 'mean_squared_log_error', 'mean_tweedie_deviance', 'median_absolute_error', 'pairwise_distances', 'r2_score', 'root_mean_squared_error', 'root_mean_squared_log_error']\n",
      "--- mean_tweedie_deviance ---\n",
      "Help on function mean_tweedie_deviance in module sklearn.metrics._regression:\n",
      "\n",
      "mean_tweedie_deviance(y_true, y_pred, *, sample_weight=None, power=0)\n",
      "    Mean Tweedie deviance regression loss.\n",
      "    \n",
      "    Read more in the :ref:`User Guide <mean_tweedie_deviance>`.\n",
      "    \n",
      "    Parameters\n",
      "    ----------\n",
      "    y_true : array-like of shape (n_samples,)\n",
      "        Ground truth (correct) target values.\n",
      "    \n",
      "    y_pred : array-like of shape (n_samples,)\n",
      "        Estimated target values.\n",
      "    \n",
      "    sample_weight : array-like of shape (n_samples,), default=None\n",
      "        Sample weights.\n",
      "    \n",
      "    power : float, default=0\n",
      "        Tweedie power parameter. Either power <= 0 or power >= 1.\n",
      "    \n",
      "        The higher `p` the less weight is given to extreme\n",
      "        deviations between true and predicted targets.\n",
      "    \n",
      "        - power < 0: Extreme stable distribution. Requires: y_pred > 0.\n",
      "        - power = 0 : Normal distribution, output corresponds to\n",
      "          mean_squared_error. y_true and y_pred can be any real numbers.\n",
      "        - power = 1 : Poisson distribution. Requires: y_true >= 0 and\n",
      "          y_pred > 0.\n",
      "        - 1 < p < 2 : Compound Poisson distribution. Requires: y_true >= 0\n",
      "          and y_pred > 0.\n",
      "        - power = 2 : Gamma distribution. Requires: y_true > 0 and y_pred > 0.\n",
      "        - power = 3 : Inverse Gaussian distribution. Requires: y_true > 0\n",
      "          and y_pred > 0.\n",
      "        - otherwise : Positive stable distribution. Requires: y_true > 0\n",
      "          and y_pred > 0.\n",
      "    \n",
      "    Returns\n",
      "    -------\n",
      "    loss : float\n",
      "        A non-negative floating point value (the best value is 0.0).\n",
      "    \n",
      "    Examples\n",
      "    --------\n",
      "    >>> from sklearn.metrics import mean_tweedie_deviance\n",
      "    >>> y_true = [2, 0, 1, 4]\n",
      "    >>> y_pred = [0.5, 0.5, 2., 2.]\n",
      "    >>> mean_tweedie_deviance(y_true, y_pred, power=1)\n",
      "    1.4260...\n",
      "\n",
      "================================================================================\n"
     ]
    }
   ],
   "source": [
    "import sklearn.metrics as metrics\n",
    "import inspect\n",
    "regression_metrics = [\n",
    "    name for name, obj in inspect.getmembers(metrics)\n",
    "    if inspect.isfunction(obj)\n",
    "    and ('regression' in (obj.__doc__ or '').lower() or 'error' in (obj.__doc__ or '').lower())\n",
    "    and 'classification' not in (obj.__doc__ or '').lower()\n",
    "]\n",
    "print(regression_metrics)\n",
    "\n",
    "\n",
    "# Print the filtered metrics and their documentation\n",
    "for metric in regression_metrics:\n",
    "    metric_func = getattr(metrics, metric)\n",
    "    if metric == \"mean_tweedie_deviance\":\n",
    "        print(f\"--- {metric} ---\")\n",
    "        help(metric_func)\n",
    "        print(\"=\"*80)"
   ]
  },
  {
   "cell_type": "code",
   "execution_count": 10,
   "id": "de4a41f7-9f4f-4662-9302-2da7d68df434",
   "metadata": {
    "execution": {
     "iopub.execute_input": "2024-12-03T17:40:53.931835Z",
     "iopub.status.busy": "2024-12-03T17:40:53.931115Z",
     "iopub.status.idle": "2024-12-03T17:40:54.007554Z",
     "shell.execute_reply": "2024-12-03T17:40:54.007006Z",
     "shell.execute_reply.started": "2024-12-03T17:40:53.931811Z"
    }
   },
   "outputs": [
    {
     "name": "stdout",
     "output_type": "stream",
     "text": [
      "ARDRegression\n",
      "AdaBoostRegressor\n",
      "BaggingRegressor\n",
      "BayesianRidge\n",
      "CCA\n",
      "DecisionTreeRegressor\n",
      "DummyRegressor\n",
      "ElasticNet\n",
      "ElasticNetCV\n",
      "ExtraTreeRegressor\n",
      "ExtraTreesRegressor\n",
      "GammaRegressor\n",
      "GaussianProcessRegressor\n",
      "GradientBoostingRegressor\n",
      "HistGradientBoostingRegressor\n",
      "HuberRegressor\n",
      "IsotonicRegression\n",
      "KNeighborsRegressor\n",
      "KernelRidge\n",
      "Lars\n",
      "LarsCV\n",
      "Lasso\n",
      "LassoCV\n",
      "LassoLars\n",
      "LassoLarsCV\n",
      "LassoLarsIC\n",
      "LinearRegression\n",
      "LinearSVR\n",
      "MLPRegressor\n",
      "MultiOutputRegressor\n",
      "MultiTaskElasticNet\n",
      "MultiTaskElasticNetCV\n",
      "MultiTaskLasso\n",
      "MultiTaskLassoCV\n",
      "NuSVR\n",
      "OrthogonalMatchingPursuit\n",
      "OrthogonalMatchingPursuitCV\n",
      "PLSCanonical\n",
      "PLSRegression\n",
      "PassiveAggressiveRegressor\n",
      "PoissonRegressor\n",
      "QuantileRegressor\n",
      "RANSACRegressor\n",
      "RadiusNeighborsRegressor\n",
      "RandomForestRegressor\n",
      "Help on class RandomForestRegressor in module sklearn.ensemble._forest:\n",
      "\n",
      "class RandomForestRegressor(ForestRegressor)\n",
      " |  RandomForestRegressor(n_estimators=100, *, criterion='squared_error', max_depth=None, min_samples_split=2, min_samples_leaf=1, min_weight_fraction_leaf=0.0, max_features=1.0, max_leaf_nodes=None, min_impurity_decrease=0.0, bootstrap=True, oob_score=False, n_jobs=None, random_state=None, verbose=0, warm_start=False, ccp_alpha=0.0, max_samples=None, monotonic_cst=None)\n",
      " |  \n",
      " |  A random forest regressor.\n",
      " |  \n",
      " |  A random forest is a meta estimator that fits a number of decision tree\n",
      " |  regressors on various sub-samples of the dataset and uses averaging to\n",
      " |  improve the predictive accuracy and control over-fitting.\n",
      " |  Trees in the forest use the best split strategy, i.e. equivalent to passing\n",
      " |  `splitter=\"best\"` to the underlying :class:`~sklearn.tree.DecisionTreeRegressor`.\n",
      " |  The sub-sample size is controlled with the `max_samples` parameter if\n",
      " |  `bootstrap=True` (default), otherwise the whole dataset is used to build\n",
      " |  each tree.\n",
      " |  \n",
      " |  For a comparison between tree-based ensemble models see the example\n",
      " |  :ref:`sphx_glr_auto_examples_ensemble_plot_forest_hist_grad_boosting_comparison.py`.\n",
      " |  \n",
      " |  Read more in the :ref:`User Guide <forest>`.\n",
      " |  \n",
      " |  Parameters\n",
      " |  ----------\n",
      " |  n_estimators : int, default=100\n",
      " |      The number of trees in the forest.\n",
      " |  \n",
      " |      .. versionchanged:: 0.22\n",
      " |         The default value of ``n_estimators`` changed from 10 to 100\n",
      " |         in 0.22.\n",
      " |  \n",
      " |  criterion : {\"squared_error\", \"absolute_error\", \"friedman_mse\", \"poisson\"},             default=\"squared_error\"\n",
      " |      The function to measure the quality of a split. Supported criteria\n",
      " |      are \"squared_error\" for the mean squared error, which is equal to\n",
      " |      variance reduction as feature selection criterion and minimizes the L2\n",
      " |      loss using the mean of each terminal node, \"friedman_mse\", which uses\n",
      " |      mean squared error with Friedman's improvement score for potential\n",
      " |      splits, \"absolute_error\" for the mean absolute error, which minimizes\n",
      " |      the L1 loss using the median of each terminal node, and \"poisson\" which\n",
      " |      uses reduction in Poisson deviance to find splits.\n",
      " |      Training using \"absolute_error\" is significantly slower\n",
      " |      than when using \"squared_error\".\n",
      " |  \n",
      " |      .. versionadded:: 0.18\n",
      " |         Mean Absolute Error (MAE) criterion.\n",
      " |  \n",
      " |      .. versionadded:: 1.0\n",
      " |         Poisson criterion.\n",
      " |  \n",
      " |  max_depth : int, default=None\n",
      " |      The maximum depth of the tree. If None, then nodes are expanded until\n",
      " |      all leaves are pure or until all leaves contain less than\n",
      " |      min_samples_split samples.\n",
      " |  \n",
      " |  min_samples_split : int or float, default=2\n",
      " |      The minimum number of samples required to split an internal node:\n",
      " |  \n",
      " |      - If int, then consider `min_samples_split` as the minimum number.\n",
      " |      - If float, then `min_samples_split` is a fraction and\n",
      " |        `ceil(min_samples_split * n_samples)` are the minimum\n",
      " |        number of samples for each split.\n",
      " |  \n",
      " |      .. versionchanged:: 0.18\n",
      " |         Added float values for fractions.\n",
      " |  \n",
      " |  min_samples_leaf : int or float, default=1\n",
      " |      The minimum number of samples required to be at a leaf node.\n",
      " |      A split point at any depth will only be considered if it leaves at\n",
      " |      least ``min_samples_leaf`` training samples in each of the left and\n",
      " |      right branches.  This may have the effect of smoothing the model,\n",
      " |      especially in regression.\n",
      " |  \n",
      " |      - If int, then consider `min_samples_leaf` as the minimum number.\n",
      " |      - If float, then `min_samples_leaf` is a fraction and\n",
      " |        `ceil(min_samples_leaf * n_samples)` are the minimum\n",
      " |        number of samples for each node.\n",
      " |  \n",
      " |      .. versionchanged:: 0.18\n",
      " |         Added float values for fractions.\n",
      " |  \n",
      " |  min_weight_fraction_leaf : float, default=0.0\n",
      " |      The minimum weighted fraction of the sum total of weights (of all\n",
      " |      the input samples) required to be at a leaf node. Samples have\n",
      " |      equal weight when sample_weight is not provided.\n",
      " |  \n",
      " |  max_features : {\"sqrt\", \"log2\", None}, int or float, default=1.0\n",
      " |      The number of features to consider when looking for the best split:\n",
      " |  \n",
      " |      - If int, then consider `max_features` features at each split.\n",
      " |      - If float, then `max_features` is a fraction and\n",
      " |        `max(1, int(max_features * n_features_in_))` features are considered at each\n",
      " |        split.\n",
      " |      - If \"sqrt\", then `max_features=sqrt(n_features)`.\n",
      " |      - If \"log2\", then `max_features=log2(n_features)`.\n",
      " |      - If None or 1.0, then `max_features=n_features`.\n",
      " |  \n",
      " |      .. note::\n",
      " |          The default of 1.0 is equivalent to bagged trees and more\n",
      " |          randomness can be achieved by setting smaller values, e.g. 0.3.\n",
      " |  \n",
      " |      .. versionchanged:: 1.1\n",
      " |          The default of `max_features` changed from `\"auto\"` to 1.0.\n",
      " |  \n",
      " |      Note: the search for a split does not stop until at least one\n",
      " |      valid partition of the node samples is found, even if it requires to\n",
      " |      effectively inspect more than ``max_features`` features.\n",
      " |  \n",
      " |  max_leaf_nodes : int, default=None\n",
      " |      Grow trees with ``max_leaf_nodes`` in best-first fashion.\n",
      " |      Best nodes are defined as relative reduction in impurity.\n",
      " |      If None then unlimited number of leaf nodes.\n",
      " |  \n",
      " |  min_impurity_decrease : float, default=0.0\n",
      " |      A node will be split if this split induces a decrease of the impurity\n",
      " |      greater than or equal to this value.\n",
      " |  \n",
      " |      The weighted impurity decrease equation is the following::\n",
      " |  \n",
      " |          N_t / N * (impurity - N_t_R / N_t * right_impurity\n",
      " |                              - N_t_L / N_t * left_impurity)\n",
      " |  \n",
      " |      where ``N`` is the total number of samples, ``N_t`` is the number of\n",
      " |      samples at the current node, ``N_t_L`` is the number of samples in the\n",
      " |      left child, and ``N_t_R`` is the number of samples in the right child.\n",
      " |  \n",
      " |      ``N``, ``N_t``, ``N_t_R`` and ``N_t_L`` all refer to the weighted sum,\n",
      " |      if ``sample_weight`` is passed.\n",
      " |  \n",
      " |      .. versionadded:: 0.19\n",
      " |  \n",
      " |  bootstrap : bool, default=True\n",
      " |      Whether bootstrap samples are used when building trees. If False, the\n",
      " |      whole dataset is used to build each tree.\n",
      " |  \n",
      " |  oob_score : bool or callable, default=False\n",
      " |      Whether to use out-of-bag samples to estimate the generalization score.\n",
      " |      By default, :func:`~sklearn.metrics.r2_score` is used.\n",
      " |      Provide a callable with signature `metric(y_true, y_pred)` to use a\n",
      " |      custom metric. Only available if `bootstrap=True`.\n",
      " |  \n",
      " |  n_jobs : int, default=None\n",
      " |      The number of jobs to run in parallel. :meth:`fit`, :meth:`predict`,\n",
      " |      :meth:`decision_path` and :meth:`apply` are all parallelized over the\n",
      " |      trees. ``None`` means 1 unless in a :obj:`joblib.parallel_backend`\n",
      " |      context. ``-1`` means using all processors. See :term:`Glossary\n",
      " |      <n_jobs>` for more details.\n",
      " |  \n",
      " |  random_state : int, RandomState instance or None, default=None\n",
      " |      Controls both the randomness of the bootstrapping of the samples used\n",
      " |      when building trees (if ``bootstrap=True``) and the sampling of the\n",
      " |      features to consider when looking for the best split at each node\n",
      " |      (if ``max_features < n_features``).\n",
      " |      See :term:`Glossary <random_state>` for details.\n",
      " |  \n",
      " |  verbose : int, default=0\n",
      " |      Controls the verbosity when fitting and predicting.\n",
      " |  \n",
      " |  warm_start : bool, default=False\n",
      " |      When set to ``True``, reuse the solution of the previous call to fit\n",
      " |      and add more estimators to the ensemble, otherwise, just fit a whole\n",
      " |      new forest. See :term:`Glossary <warm_start>` and\n",
      " |      :ref:`tree_ensemble_warm_start` for details.\n",
      " |  \n",
      " |  ccp_alpha : non-negative float, default=0.0\n",
      " |      Complexity parameter used for Minimal Cost-Complexity Pruning. The\n",
      " |      subtree with the largest cost complexity that is smaller than\n",
      " |      ``ccp_alpha`` will be chosen. By default, no pruning is performed. See\n",
      " |      :ref:`minimal_cost_complexity_pruning` for details.\n",
      " |  \n",
      " |      .. versionadded:: 0.22\n",
      " |  \n",
      " |  max_samples : int or float, default=None\n",
      " |      If bootstrap is True, the number of samples to draw from X\n",
      " |      to train each base estimator.\n",
      " |  \n",
      " |      - If None (default), then draw `X.shape[0]` samples.\n",
      " |      - If int, then draw `max_samples` samples.\n",
      " |      - If float, then draw `max(round(n_samples * max_samples), 1)` samples. Thus,\n",
      " |        `max_samples` should be in the interval `(0.0, 1.0]`.\n",
      " |  \n",
      " |      .. versionadded:: 0.22\n",
      " |  \n",
      " |  monotonic_cst : array-like of int of shape (n_features), default=None\n",
      " |      Indicates the monotonicity constraint to enforce on each feature.\n",
      " |        - 1: monotonically increasing\n",
      " |        - 0: no constraint\n",
      " |        - -1: monotonically decreasing\n",
      " |  \n",
      " |      If monotonic_cst is None, no constraints are applied.\n",
      " |  \n",
      " |      Monotonicity constraints are not supported for:\n",
      " |        - multioutput regressions (i.e. when `n_outputs_ > 1`),\n",
      " |        - regressions trained on data with missing values.\n",
      " |  \n",
      " |      Read more in the :ref:`User Guide <monotonic_cst_gbdt>`.\n",
      " |  \n",
      " |      .. versionadded:: 1.4\n",
      " |  \n",
      " |  Attributes\n",
      " |  ----------\n",
      " |  estimator_ : :class:`~sklearn.tree.DecisionTreeRegressor`\n",
      " |      The child estimator template used to create the collection of fitted\n",
      " |      sub-estimators.\n",
      " |  \n",
      " |      .. versionadded:: 1.2\n",
      " |         `base_estimator_` was renamed to `estimator_`.\n",
      " |  \n",
      " |  estimators_ : list of DecisionTreeRegressor\n",
      " |      The collection of fitted sub-estimators.\n",
      " |  \n",
      " |  feature_importances_ : ndarray of shape (n_features,)\n",
      " |      The impurity-based feature importances.\n",
      " |      The higher, the more important the feature.\n",
      " |      The importance of a feature is computed as the (normalized)\n",
      " |      total reduction of the criterion brought by that feature.  It is also\n",
      " |      known as the Gini importance.\n",
      " |  \n",
      " |      Warning: impurity-based feature importances can be misleading for\n",
      " |      high cardinality features (many unique values). See\n",
      " |      :func:`sklearn.inspection.permutation_importance` as an alternative.\n",
      " |  \n",
      " |  n_features_in_ : int\n",
      " |      Number of features seen during :term:`fit`.\n",
      " |  \n",
      " |      .. versionadded:: 0.24\n",
      " |  \n",
      " |  feature_names_in_ : ndarray of shape (`n_features_in_`,)\n",
      " |      Names of features seen during :term:`fit`. Defined only when `X`\n",
      " |      has feature names that are all strings.\n",
      " |  \n",
      " |      .. versionadded:: 1.0\n",
      " |  \n",
      " |  n_outputs_ : int\n",
      " |      The number of outputs when ``fit`` is performed.\n",
      " |  \n",
      " |  oob_score_ : float\n",
      " |      Score of the training dataset obtained using an out-of-bag estimate.\n",
      " |      This attribute exists only when ``oob_score`` is True.\n",
      " |  \n",
      " |  oob_prediction_ : ndarray of shape (n_samples,) or (n_samples, n_outputs)\n",
      " |      Prediction computed with out-of-bag estimate on the training set.\n",
      " |      This attribute exists only when ``oob_score`` is True.\n",
      " |  \n",
      " |  estimators_samples_ : list of arrays\n",
      " |      The subset of drawn samples (i.e., the in-bag samples) for each base\n",
      " |      estimator. Each subset is defined by an array of the indices selected.\n",
      " |  \n",
      " |      .. versionadded:: 1.4\n",
      " |  \n",
      " |  See Also\n",
      " |  --------\n",
      " |  sklearn.tree.DecisionTreeRegressor : A decision tree regressor.\n",
      " |  sklearn.ensemble.ExtraTreesRegressor : Ensemble of extremely randomized\n",
      " |      tree regressors.\n",
      " |  sklearn.ensemble.HistGradientBoostingRegressor : A Histogram-based Gradient\n",
      " |      Boosting Regression Tree, very fast for big datasets (n_samples >=\n",
      " |      10_000).\n",
      " |  \n",
      " |  Notes\n",
      " |  -----\n",
      " |  The default values for the parameters controlling the size of the trees\n",
      " |  (e.g. ``max_depth``, ``min_samples_leaf``, etc.) lead to fully grown and\n",
      " |  unpruned trees which can potentially be very large on some data sets. To\n",
      " |  reduce memory consumption, the complexity and size of the trees should be\n",
      " |  controlled by setting those parameter values.\n",
      " |  \n",
      " |  The features are always randomly permuted at each split. Therefore,\n",
      " |  the best found split may vary, even with the same training data,\n",
      " |  ``max_features=n_features`` and ``bootstrap=False``, if the improvement\n",
      " |  of the criterion is identical for several splits enumerated during the\n",
      " |  search of the best split. To obtain a deterministic behaviour during\n",
      " |  fitting, ``random_state`` has to be fixed.\n",
      " |  \n",
      " |  The default value ``max_features=1.0`` uses ``n_features``\n",
      " |  rather than ``n_features / 3``. The latter was originally suggested in\n",
      " |  [1], whereas the former was more recently justified empirically in [2].\n",
      " |  \n",
      " |  References\n",
      " |  ----------\n",
      " |  .. [1] L. Breiman, \"Random Forests\", Machine Learning, 45(1), 5-32, 2001.\n",
      " |  \n",
      " |  .. [2] P. Geurts, D. Ernst., and L. Wehenkel, \"Extremely randomized\n",
      " |         trees\", Machine Learning, 63(1), 3-42, 2006.\n",
      " |  \n",
      " |  Examples\n",
      " |  --------\n",
      " |  >>> from sklearn.ensemble import RandomForestRegressor\n",
      " |  >>> from sklearn.datasets import make_regression\n",
      " |  >>> X, y = make_regression(n_features=4, n_informative=2,\n",
      " |  ...                        random_state=0, shuffle=False)\n",
      " |  >>> regr = RandomForestRegressor(max_depth=2, random_state=0)\n",
      " |  >>> regr.fit(X, y)\n",
      " |  RandomForestRegressor(...)\n",
      " |  >>> print(regr.predict([[0, 0, 0, 0]]))\n",
      " |  [-8.32987858]\n",
      " |  \n",
      " |  Method resolution order:\n",
      " |      RandomForestRegressor\n",
      " |      ForestRegressor\n",
      " |      sklearn.base.RegressorMixin\n",
      " |      BaseForest\n",
      " |      sklearn.base.MultiOutputMixin\n",
      " |      sklearn.ensemble._base.BaseEnsemble\n",
      " |      sklearn.base.MetaEstimatorMixin\n",
      " |      sklearn.base.BaseEstimator\n",
      " |      sklearn.utils._estimator_html_repr._HTMLDocumentationLinkMixin\n",
      " |      sklearn.utils._metadata_requests._MetadataRequester\n",
      " |      builtins.object\n",
      " |  \n",
      " |  Methods defined here:\n",
      " |  \n",
      " |  __init__(self, n_estimators=100, *, criterion='squared_error', max_depth=None, min_samples_split=2, min_samples_leaf=1, min_weight_fraction_leaf=0.0, max_features=1.0, max_leaf_nodes=None, min_impurity_decrease=0.0, bootstrap=True, oob_score=False, n_jobs=None, random_state=None, verbose=0, warm_start=False, ccp_alpha=0.0, max_samples=None, monotonic_cst=None)\n",
      " |      Initialize self.  See help(type(self)) for accurate signature.\n",
      " |  \n",
      " |  set_fit_request(self: sklearn.ensemble._forest.RandomForestRegressor, *, sample_weight: Union[bool, NoneType, str] = '$UNCHANGED$') -> sklearn.ensemble._forest.RandomForestRegressor from sklearn.utils._metadata_requests.RequestMethod.__get__.<locals>\n",
      " |      Request metadata passed to the ``fit`` method.\n",
      " |      \n",
      " |      Note that this method is only relevant if\n",
      " |      ``enable_metadata_routing=True`` (see :func:`sklearn.set_config`).\n",
      " |      Please see :ref:`User Guide <metadata_routing>` on how the routing\n",
      " |      mechanism works.\n",
      " |      \n",
      " |      The options for each parameter are:\n",
      " |      \n",
      " |      - ``True``: metadata is requested, and passed to ``fit`` if provided. The request is ignored if metadata is not provided.\n",
      " |      \n",
      " |      - ``False``: metadata is not requested and the meta-estimator will not pass it to ``fit``.\n",
      " |      \n",
      " |      - ``None``: metadata is not requested, and the meta-estimator will raise an error if the user provides it.\n",
      " |      \n",
      " |      - ``str``: metadata should be passed to the meta-estimator with this given alias instead of the original name.\n",
      " |      \n",
      " |      The default (``sklearn.utils.metadata_routing.UNCHANGED``) retains the\n",
      " |      existing request. This allows you to change the request for some\n",
      " |      parameters and not others.\n",
      " |      \n",
      " |      .. versionadded:: 1.3\n",
      " |      \n",
      " |      .. note::\n",
      " |          This method is only relevant if this estimator is used as a\n",
      " |          sub-estimator of a meta-estimator, e.g. used inside a\n",
      " |          :class:`~sklearn.pipeline.Pipeline`. Otherwise it has no effect.\n",
      " |      \n",
      " |      Parameters\n",
      " |      ----------\n",
      " |      sample_weight : str, True, False, or None,                     default=sklearn.utils.metadata_routing.UNCHANGED\n",
      " |          Metadata routing for ``sample_weight`` parameter in ``fit``.\n",
      " |      \n",
      " |      Returns\n",
      " |      -------\n",
      " |      self : object\n",
      " |          The updated object.\n",
      " |  \n",
      " |  set_score_request(self: sklearn.ensemble._forest.RandomForestRegressor, *, sample_weight: Union[bool, NoneType, str] = '$UNCHANGED$') -> sklearn.ensemble._forest.RandomForestRegressor from sklearn.utils._metadata_requests.RequestMethod.__get__.<locals>\n",
      " |      Request metadata passed to the ``score`` method.\n",
      " |      \n",
      " |      Note that this method is only relevant if\n",
      " |      ``enable_metadata_routing=True`` (see :func:`sklearn.set_config`).\n",
      " |      Please see :ref:`User Guide <metadata_routing>` on how the routing\n",
      " |      mechanism works.\n",
      " |      \n",
      " |      The options for each parameter are:\n",
      " |      \n",
      " |      - ``True``: metadata is requested, and passed to ``score`` if provided. The request is ignored if metadata is not provided.\n",
      " |      \n",
      " |      - ``False``: metadata is not requested and the meta-estimator will not pass it to ``score``.\n",
      " |      \n",
      " |      - ``None``: metadata is not requested, and the meta-estimator will raise an error if the user provides it.\n",
      " |      \n",
      " |      - ``str``: metadata should be passed to the meta-estimator with this given alias instead of the original name.\n",
      " |      \n",
      " |      The default (``sklearn.utils.metadata_routing.UNCHANGED``) retains the\n",
      " |      existing request. This allows you to change the request for some\n",
      " |      parameters and not others.\n",
      " |      \n",
      " |      .. versionadded:: 1.3\n",
      " |      \n",
      " |      .. note::\n",
      " |          This method is only relevant if this estimator is used as a\n",
      " |          sub-estimator of a meta-estimator, e.g. used inside a\n",
      " |          :class:`~sklearn.pipeline.Pipeline`. Otherwise it has no effect.\n",
      " |      \n",
      " |      Parameters\n",
      " |      ----------\n",
      " |      sample_weight : str, True, False, or None,                     default=sklearn.utils.metadata_routing.UNCHANGED\n",
      " |          Metadata routing for ``sample_weight`` parameter in ``score``.\n",
      " |      \n",
      " |      Returns\n",
      " |      -------\n",
      " |      self : object\n",
      " |          The updated object.\n",
      " |  \n",
      " |  ----------------------------------------------------------------------\n",
      " |  Data and other attributes defined here:\n",
      " |  \n",
      " |  __abstractmethods__ = frozenset()\n",
      " |  \n",
      " |  __annotations__ = {'_parameter_constraints': <class 'dict'>}\n",
      " |  \n",
      " |  ----------------------------------------------------------------------\n",
      " |  Methods inherited from ForestRegressor:\n",
      " |  \n",
      " |  predict(self, X)\n",
      " |      Predict regression target for X.\n",
      " |      \n",
      " |      The predicted regression target of an input sample is computed as the\n",
      " |      mean predicted regression targets of the trees in the forest.\n",
      " |      \n",
      " |      Parameters\n",
      " |      ----------\n",
      " |      X : {array-like, sparse matrix} of shape (n_samples, n_features)\n",
      " |          The input samples. Internally, its dtype will be converted to\n",
      " |          ``dtype=np.float32``. If a sparse matrix is provided, it will be\n",
      " |          converted into a sparse ``csr_matrix``.\n",
      " |      \n",
      " |      Returns\n",
      " |      -------\n",
      " |      y : ndarray of shape (n_samples,) or (n_samples, n_outputs)\n",
      " |          The predicted values.\n",
      " |  \n",
      " |  ----------------------------------------------------------------------\n",
      " |  Methods inherited from sklearn.base.RegressorMixin:\n",
      " |  \n",
      " |  score(self, X, y, sample_weight=None)\n",
      " |      Return the coefficient of determination of the prediction.\n",
      " |      \n",
      " |      The coefficient of determination :math:`R^2` is defined as\n",
      " |      :math:`(1 - \\frac{u}{v})`, where :math:`u` is the residual\n",
      " |      sum of squares ``((y_true - y_pred)** 2).sum()`` and :math:`v`\n",
      " |      is the total sum of squares ``((y_true - y_true.mean()) ** 2).sum()``.\n",
      " |      The best possible score is 1.0 and it can be negative (because the\n",
      " |      model can be arbitrarily worse). A constant model that always predicts\n",
      " |      the expected value of `y`, disregarding the input features, would get\n",
      " |      a :math:`R^2` score of 0.0.\n",
      " |      \n",
      " |      Parameters\n",
      " |      ----------\n",
      " |      X : array-like of shape (n_samples, n_features)\n",
      " |          Test samples. For some estimators this may be a precomputed\n",
      " |          kernel matrix or a list of generic objects instead with shape\n",
      " |          ``(n_samples, n_samples_fitted)``, where ``n_samples_fitted``\n",
      " |          is the number of samples used in the fitting for the estimator.\n",
      " |      \n",
      " |      y : array-like of shape (n_samples,) or (n_samples, n_outputs)\n",
      " |          True values for `X`.\n",
      " |      \n",
      " |      sample_weight : array-like of shape (n_samples,), default=None\n",
      " |          Sample weights.\n",
      " |      \n",
      " |      Returns\n",
      " |      -------\n",
      " |      score : float\n",
      " |          :math:`R^2` of ``self.predict(X)`` w.r.t. `y`.\n",
      " |      \n",
      " |      Notes\n",
      " |      -----\n",
      " |      The :math:`R^2` score used when calling ``score`` on a regressor uses\n",
      " |      ``multioutput='uniform_average'`` from version 0.23 to keep consistent\n",
      " |      with default value of :func:`~sklearn.metrics.r2_score`.\n",
      " |      This influences the ``score`` method of all the multioutput\n",
      " |      regressors (except for\n",
      " |      :class:`~sklearn.multioutput.MultiOutputRegressor`).\n",
      " |  \n",
      " |  ----------------------------------------------------------------------\n",
      " |  Data descriptors inherited from sklearn.base.RegressorMixin:\n",
      " |  \n",
      " |  __dict__\n",
      " |      dictionary for instance variables\n",
      " |  \n",
      " |  __weakref__\n",
      " |      list of weak references to the object\n",
      " |  \n",
      " |  ----------------------------------------------------------------------\n",
      " |  Methods inherited from BaseForest:\n",
      " |  \n",
      " |  apply(self, X)\n",
      " |      Apply trees in the forest to X, return leaf indices.\n",
      " |      \n",
      " |      Parameters\n",
      " |      ----------\n",
      " |      X : {array-like, sparse matrix} of shape (n_samples, n_features)\n",
      " |          The input samples. Internally, its dtype will be converted to\n",
      " |          ``dtype=np.float32``. If a sparse matrix is provided, it will be\n",
      " |          converted into a sparse ``csr_matrix``.\n",
      " |      \n",
      " |      Returns\n",
      " |      -------\n",
      " |      X_leaves : ndarray of shape (n_samples, n_estimators)\n",
      " |          For each datapoint x in X and for each tree in the forest,\n",
      " |          return the index of the leaf x ends up in.\n",
      " |  \n",
      " |  decision_path(self, X)\n",
      " |      Return the decision path in the forest.\n",
      " |      \n",
      " |      .. versionadded:: 0.18\n",
      " |      \n",
      " |      Parameters\n",
      " |      ----------\n",
      " |      X : {array-like, sparse matrix} of shape (n_samples, n_features)\n",
      " |          The input samples. Internally, its dtype will be converted to\n",
      " |          ``dtype=np.float32``. If a sparse matrix is provided, it will be\n",
      " |          converted into a sparse ``csr_matrix``.\n",
      " |      \n",
      " |      Returns\n",
      " |      -------\n",
      " |      indicator : sparse matrix of shape (n_samples, n_nodes)\n",
      " |          Return a node indicator matrix where non zero elements indicates\n",
      " |          that the samples goes through the nodes. The matrix is of CSR\n",
      " |          format.\n",
      " |      \n",
      " |      n_nodes_ptr : ndarray of shape (n_estimators + 1,)\n",
      " |          The columns from indicator[n_nodes_ptr[i]:n_nodes_ptr[i+1]]\n",
      " |          gives the indicator value for the i-th estimator.\n",
      " |  \n",
      " |  fit(self, X, y, sample_weight=None)\n",
      " |      Build a forest of trees from the training set (X, y).\n",
      " |      \n",
      " |      Parameters\n",
      " |      ----------\n",
      " |      X : {array-like, sparse matrix} of shape (n_samples, n_features)\n",
      " |          The training input samples. Internally, its dtype will be converted\n",
      " |          to ``dtype=np.float32``. If a sparse matrix is provided, it will be\n",
      " |          converted into a sparse ``csc_matrix``.\n",
      " |      \n",
      " |      y : array-like of shape (n_samples,) or (n_samples, n_outputs)\n",
      " |          The target values (class labels in classification, real numbers in\n",
      " |          regression).\n",
      " |      \n",
      " |      sample_weight : array-like of shape (n_samples,), default=None\n",
      " |          Sample weights. If None, then samples are equally weighted. Splits\n",
      " |          that would create child nodes with net zero or negative weight are\n",
      " |          ignored while searching for a split in each node. In the case of\n",
      " |          classification, splits are also ignored if they would result in any\n",
      " |          single class carrying a negative weight in either child node.\n",
      " |      \n",
      " |      Returns\n",
      " |      -------\n",
      " |      self : object\n",
      " |          Fitted estimator.\n",
      " |  \n",
      " |  ----------------------------------------------------------------------\n",
      " |  Readonly properties inherited from BaseForest:\n",
      " |  \n",
      " |  estimators_samples_\n",
      " |      The subset of drawn samples for each base estimator.\n",
      " |      \n",
      " |      Returns a dynamically generated list of indices identifying\n",
      " |      the samples used for fitting each member of the ensemble, i.e.,\n",
      " |      the in-bag samples.\n",
      " |      \n",
      " |      Note: the list is re-created at each call to the property in order\n",
      " |      to reduce the object memory footprint by not storing the sampling\n",
      " |      data. Thus fetching the property may be slower than expected.\n",
      " |  \n",
      " |  feature_importances_\n",
      " |      The impurity-based feature importances.\n",
      " |      \n",
      " |      The higher, the more important the feature.\n",
      " |      The importance of a feature is computed as the (normalized)\n",
      " |      total reduction of the criterion brought by that feature.  It is also\n",
      " |      known as the Gini importance.\n",
      " |      \n",
      " |      Warning: impurity-based feature importances can be misleading for\n",
      " |      high cardinality features (many unique values). See\n",
      " |      :func:`sklearn.inspection.permutation_importance` as an alternative.\n",
      " |      \n",
      " |      Returns\n",
      " |      -------\n",
      " |      feature_importances_ : ndarray of shape (n_features,)\n",
      " |          The values of this array sum to 1, unless all trees are single node\n",
      " |          trees consisting of only the root node, in which case it will be an\n",
      " |          array of zeros.\n",
      " |  \n",
      " |  ----------------------------------------------------------------------\n",
      " |  Methods inherited from sklearn.ensemble._base.BaseEnsemble:\n",
      " |  \n",
      " |  __getitem__(self, index)\n",
      " |      Return the index'th estimator in the ensemble.\n",
      " |  \n",
      " |  __iter__(self)\n",
      " |      Return iterator over estimators in the ensemble.\n",
      " |  \n",
      " |  __len__(self)\n",
      " |      Return the number of estimators in the ensemble.\n",
      " |  \n",
      " |  ----------------------------------------------------------------------\n",
      " |  Methods inherited from sklearn.base.BaseEstimator:\n",
      " |  \n",
      " |  __getstate__(self)\n",
      " |      Helper for pickle.\n",
      " |  \n",
      " |  __repr__(self, N_CHAR_MAX=700)\n",
      " |      Return repr(self).\n",
      " |  \n",
      " |  __setstate__(self, state)\n",
      " |  \n",
      " |  __sklearn_clone__(self)\n",
      " |  \n",
      " |  get_params(self, deep=True)\n",
      " |      Get parameters for this estimator.\n",
      " |      \n",
      " |      Parameters\n",
      " |      ----------\n",
      " |      deep : bool, default=True\n",
      " |          If True, will return the parameters for this estimator and\n",
      " |          contained subobjects that are estimators.\n",
      " |      \n",
      " |      Returns\n",
      " |      -------\n",
      " |      params : dict\n",
      " |          Parameter names mapped to their values.\n",
      " |  \n",
      " |  set_params(self, **params)\n",
      " |      Set the parameters of this estimator.\n",
      " |      \n",
      " |      The method works on simple estimators as well as on nested objects\n",
      " |      (such as :class:`~sklearn.pipeline.Pipeline`). The latter have\n",
      " |      parameters of the form ``<component>__<parameter>`` so that it's\n",
      " |      possible to update each component of a nested object.\n",
      " |      \n",
      " |      Parameters\n",
      " |      ----------\n",
      " |      **params : dict\n",
      " |          Estimator parameters.\n",
      " |      \n",
      " |      Returns\n",
      " |      -------\n",
      " |      self : estimator instance\n",
      " |          Estimator instance.\n",
      " |  \n",
      " |  ----------------------------------------------------------------------\n",
      " |  Methods inherited from sklearn.utils._metadata_requests._MetadataRequester:\n",
      " |  \n",
      " |  get_metadata_routing(self)\n",
      " |      Get metadata routing of this object.\n",
      " |      \n",
      " |      Please check :ref:`User Guide <metadata_routing>` on how the routing\n",
      " |      mechanism works.\n",
      " |      \n",
      " |      Returns\n",
      " |      -------\n",
      " |      routing : MetadataRequest\n",
      " |          A :class:`~sklearn.utils.metadata_routing.MetadataRequest` encapsulating\n",
      " |          routing information.\n",
      " |  \n",
      " |  ----------------------------------------------------------------------\n",
      " |  Class methods inherited from sklearn.utils._metadata_requests._MetadataRequester:\n",
      " |  \n",
      " |  __init_subclass__(**kwargs)\n",
      " |      Set the ``set_{method}_request`` methods.\n",
      " |      \n",
      " |      This uses PEP-487 [1]_ to set the ``set_{method}_request`` methods. It\n",
      " |      looks for the information available in the set default values which are\n",
      " |      set using ``__metadata_request__*`` class attributes, or inferred\n",
      " |      from method signatures.\n",
      " |      \n",
      " |      The ``__metadata_request__*`` class attributes are used when a method\n",
      " |      does not explicitly accept a metadata through its arguments or if the\n",
      " |      developer would like to specify a request value for those metadata\n",
      " |      which are different from the default ``None``.\n",
      " |      \n",
      " |      References\n",
      " |      ----------\n",
      " |      .. [1] https://www.python.org/dev/peps/pep-0487\n",
      "\n",
      "None\n",
      "RegressorChain\n",
      "Ridge\n",
      "RidgeCV\n",
      "SGDRegressor\n",
      "SVR\n",
      "StackingRegressor\n",
      "TheilSenRegressor\n",
      "TransformedTargetRegressor\n",
      "TweedieRegressor\n",
      "VotingRegressor\n"
     ]
    }
   ],
   "source": [
    "from sklearn.utils import all_estimators\n",
    "\n",
    "# Get all regression models\n",
    "regressors = all_estimators(type_filter='regressor')\n",
    "\n",
    "# Print the names of all available regression models\n",
    "for name, estimator in regressors:\n",
    "    print(name)\n",
    "\n",
    "for name, estimator in regressors:\n",
    "    if name == \"RandomForestRegressor\":\n",
    "        print(help(estimator))"
   ]
  },
  {
   "cell_type": "code",
   "execution_count": null,
   "id": "be44f0da-e766-4bd0-9312-4b1977397c8d",
   "metadata": {},
   "outputs": [],
   "source": []
  }
 ],
 "metadata": {
  "kernelspec": {
   "display_name": "LSST",
   "language": "python",
   "name": "lsst"
  },
  "language_info": {
   "codemirror_mode": {
    "name": "ipython",
    "version": 3
   },
   "file_extension": ".py",
   "mimetype": "text/x-python",
   "name": "python",
   "nbconvert_exporter": "python",
   "pygments_lexer": "ipython3",
   "version": "3.12.9"
  }
 },
 "nbformat": 4,
 "nbformat_minor": 5
}
