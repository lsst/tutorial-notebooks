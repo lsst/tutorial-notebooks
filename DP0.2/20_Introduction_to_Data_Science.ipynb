{
 "cells": [
  {
   "cell_type": "markdown",
   "id": "5eb2606b-2724-43be-83bb-fb4df67d0b35",
   "metadata": {},
   "source": [
    "# Introduction to Data Science\n",
    "<img align=\"left\" src = https://project.lsst.org/sites/default/files/Rubin-O-Logo_0.png width=250 style=\"padding: 10px\"> \n",
    "<br>\n",
    "Contact author(s): Becky Nevin, Brian Nord<br>\n",
    "Last verified to run: 2025-05-09 <br>\n",
    "LSST Science Pipelines version: Weekly 2025_09 <br>\n",
    "Container size: small <br>\n",
    "Targeted learning level: intermediate <br>"
   ]
  },
  {
   "cell_type": "code",
   "execution_count": null,
   "id": "4a4e60f3-a825-4dcc-8cd5-37ed43b7373b",
   "metadata": {},
   "outputs": [],
   "source": [
    "%load_ext pycodestyle_magic\n",
    "%flake8_on\n",
    "import logging\n",
    "logging.getLogger(\"flake8\").setLevel(logging.FATAL)"
   ]
  },
  {
   "cell_type": "markdown",
   "id": "05e4d2c6-9774-48db-930e-58536bd69de0",
   "metadata": {},
   "source": [
    "**Description:** This notebook guides a PI through the process of using python's data science and machine learning libraries to explore data from complex ADQL queries with the TAP service. The goal is to build a predictive model to estimate missing $r-$band Kron Flux values when the other bands are available, and visualize the results and quantify the model performance."
   ]
  },
  {
   "cell_type": "markdown",
   "id": "242eb338-4d88-4a17-8e35-20d80774ec1b",
   "metadata": {},
   "source": [
    "**Skills:** Use of data science and machine learning tools such as scikit-learn, pandas, and seaborn."
   ]
  },
  {
   "cell_type": "markdown",
   "id": "76ffcb7f-a070-47b7-8545-f10813ff78ae",
   "metadata": {},
   "source": [
    "**LSST Data Products:** Object, Forcedsource, and CcdVisit tables."
   ]
  },
  {
   "cell_type": "markdown",
   "id": "bf4d0080-92f9-4a67-a829-5a772e428ac4",
   "metadata": {},
   "source": [
    "**Packages:** lsst.rsp, pandas, scikit-learn, seaborn"
   ]
  },
  {
   "cell_type": "markdown",
   "id": "e354c692-b8b4-425f-bcbe-a35221a9993a",
   "metadata": {},
   "source": [
    "**Credits:** Developed by Becky Nevin in collaboration with Melissa Graham, Brian Nord, and the Rubin Community Science Team for DP0.2. Based on notebooks developed by Leanne Guy (TAP query) and Alex Drlica-Wagner and Melissa Graham (Butler query).\n",
    "Please consider acknowledging them if this notebook is used for the preparation of journal articles, software releases, or other notebooks."
   ]
  },
  {
   "cell_type": "markdown",
   "id": "2e3e438c-a028-417f-a21f-1d31c5946376",
   "metadata": {},
   "source": [
    "**Get Support:**\n",
    "Find DP0-related documentation and resources at <a href=\"https://dp0.lsst.io\">dp0.lsst.io</a>. Questions are welcome as new topics in the <a href=\"https://community.lsst.org/c/support/dp0\">Support - Data Preview 0 Category</a> of the Rubin Community Forum. Rubin staff will respond to all questions posted there."
   ]
  },
  {
   "cell_type": "markdown",
   "id": "ca5378d1-00fe-44ad-be88-5f1a0a85b404",
   "metadata": {},
   "source": [
    "# 1. Introduction\n",
    "\n",
    "This notebook provides an intermediate-level demonstration of how to use the Table Access Protocol (TAP) server and ADQL (Astronomy Data Query Language) to query and retrieve data from the DP0.2 catalogs.\n",
    "\n",
    "TAP provides standardized access to catalog data for discovery, search, and retrieval.\n",
    "Full <a href=\"http://www.ivoa.net/documents/TAP\">documentation for TAP</a> is provided by the International Virtual Observatory Alliance (IVOA).\n",
    "ADQL is similar to SQL (Structured Query Langage).\n",
    "The <a href=\"http://www.ivoa.net/documents/latest/ADQL.html\">documentation for ADQL</a> includes more information about syntax and keywords.\n",
    "Note that not all ADQL functionality is supported yet in the DP0-era RSP.\n",
    "\n",
    "**See the recommendations for TAP queries in DP0.2 tutorial 02a \"Introduction to the TAP Service\".**\n",
    "\n",
    "The [documentation for Data Preview 0.2](https://dp0-2.lsst.io/) includes definitions\n",
    "of the data products, descriptions of catalog contents, and ADQL recipes.\n",
    "\n",
    "## 1.1. Package imports\n",
    "\n",
    "Import general python packages, the Rubin TAP service utilities, and various scikit-learn utilities."
   ]
  },
  {
   "cell_type": "code",
   "execution_count": null,
   "id": "3f4900a4-3358-472a-b9ba-c42e3f2f0771",
   "metadata": {},
   "outputs": [],
   "source": [
    "import numpy as np\n",
    "import matplotlib.pyplot as plt\n",
    "import seaborn as sns\n",
    "import pandas\n",
    "\n",
    "from astropy import units as u\n",
    "from astropy.coordinates import SkyCoord\n",
    "\n",
    "from sklearn.model_selection import train_test_split, GridSearchCV\n",
    "from sklearn.preprocessing import FunctionTransformer, StandardScaler\n",
    "from sklearn.pipeline import make_pipeline\n",
    "from sklearn.linear_model import LinearRegression\n",
    "from sklearn.metrics import mean_squared_error\n",
    "from sklearn.ensemble import RandomForestRegressor\n",
    "import sklearn.metrics as metrics\n",
    "import inspect\n",
    "from sklearn.utils import all_estimators\n",
    "\n",
    "from lsst.rsp import get_tap_service, retrieve_query"
   ]
  },
  {
   "cell_type": "markdown",
   "id": "90251edc-e77a-4f2c-aef3-935381faebc9",
   "metadata": {},
   "source": [
    "Set up seaborn to use a friendly palette."
   ]
  },
  {
   "cell_type": "code",
   "execution_count": null,
   "id": "94acc9f6-2033-4ace-aefd-d036a35f4221",
   "metadata": {},
   "outputs": [],
   "source": [
    "sns.set_style(\"whitegrid\")\n",
    "palette = sns.color_palette(\"colorblind\")\n",
    "sns.set_palette(palette)"
   ]
  },
  {
   "cell_type": "markdown",
   "id": "ca1e28f4-805e-4480-a7c6-0473b7e2b088",
   "metadata": {},
   "source": [
    "## 1.2. Define functions and parameters\n",
    "\n",
    "Instantiate the TAP service."
   ]
  },
  {
   "cell_type": "code",
   "execution_count": null,
   "id": "caf56589-100a-4481-8f24-5f5058b6671f",
   "metadata": {},
   "outputs": [],
   "source": [
    "service = get_tap_service(\"tap\")\n",
    "assert service is not None"
   ]
  },
  {
   "cell_type": "markdown",
   "id": "9eb0f20e-6c28-404f-8032-acc00f73405a",
   "metadata": {},
   "source": [
    "Set the maximum number of rows to display from pandas."
   ]
  },
  {
   "cell_type": "code",
   "execution_count": null,
   "id": "2b7b6002-2457-4c20-a03e-6bfa24a0aa27",
   "metadata": {},
   "outputs": [],
   "source": [
    "pandas.set_option(\"display.max_rows\", 6)"
   ]
  },
  {
   "cell_type": "markdown",
   "id": "cd325fe4-6c7c-4803-ad79-f30d7edc23e3",
   "metadata": {},
   "source": [
    "# 2. Query for Kron fluxes around extended (galaxy) objects.\n",
    "The Kron flux is a measurement of the total flux (or brightness) of an astronomical object, typically a galaxy or extended source, obtained using an elliptical aperture that scales with the object's light profile. It’s designed to include most of the object’s light while minimizing background contamination.\n",
    "\n",
    "The aperture is defined based on the Kron radius, which is calculated from the first moment of the light distribution. The resulting aperture is adaptive - it changes in size and shape depending on the morphology of the source."
   ]
  },
  {
   "cell_type": "markdown",
   "id": "6b4f495d-1215-421d-bdb0-bc32fec92c25",
   "metadata": {},
   "source": [
    "Define the coordinates and radius to use for the example queries in Sections 2 and 3."
   ]
  },
  {
   "cell_type": "code",
   "execution_count": null,
   "id": "7ddd0344-b354-45a0-9e5a-755149c9bc54",
   "metadata": {},
   "outputs": [],
   "source": [
    "center_ra = 62\n",
    "center_dec = -37\n",
    "radius = 0.1\n",
    "\n",
    "str_center_coords = str(center_ra) + \", \" + str(center_dec)\n",
    "str_radius = str(radius)"
   ]
  },
  {
   "cell_type": "markdown",
   "id": "dd80babb-ee05-49e9-9f9c-923d5c0cee31",
   "metadata": {},
   "source": [
    "Start with the same query as used in the beginner TAP tutorial notebook 02a. Note that the extendedness flag in the $g-$band is used to select for galaxies."
   ]
  },
  {
   "cell_type": "code",
   "execution_count": null,
   "id": "985e3b62-8065-42ec-a40c-1232c4c45f17",
   "metadata": {},
   "outputs": [],
   "source": [
    "query = \"SELECT coord_ra, coord_dec, g_kronFlux, g_kronFlux_flag, \"\\\n",
    "        \"r_kronFlux, r_kronFlux_flag, i_kronFlux, i_kronFlux_flag \"\\\n",
    "        \"FROM dp02_dc2_catalogs.Object \"\\\n",
    "        \"WHERE CONTAINS(POINT('ICRS', coord_ra, coord_dec), \"\\\n",
    "        \"CIRCLE('ICRS', \" + str_center_coords + \", \" + str_radius + \")) = 1 \"\\\n",
    "        \"AND detect_isPrimary = 1 AND g_extendedness = 1\"\n",
    "print(query)"
   ]
  },
  {
   "cell_type": "markdown",
   "id": "f024085b-0f7f-45c6-8184-41b528c15396",
   "metadata": {},
   "source": [
    "Run the query job asynchronously."
   ]
  },
  {
   "cell_type": "code",
   "execution_count": null,
   "id": "c02adc91-5f5e-418b-87a3-cba8beba7dd2",
   "metadata": {},
   "outputs": [],
   "source": [
    "job = service.submit_job(query)\n",
    "job.run()\n",
    "job.wait(phases=[\"COMPLETED\", \"ERROR\"])\n",
    "print(\"Job phase is\", job.phase)"
   ]
  },
  {
   "cell_type": "markdown",
   "id": "80b28a39-bd12-49d6-9cce-f8ddfc31296c",
   "metadata": {},
   "source": [
    "# 3. Explore the data using a `pandas` DataFrame object.\n",
    "From the `pandas` docs:\n",
    "> A DataFrame is a two-dimensional, size-mutable, heterogeneous tabular data structure with labeled axes (rows and columns)."
   ]
  },
  {
   "cell_type": "markdown",
   "id": "07d1cfb1-589b-402b-8b8f-c2c70652b6c6",
   "metadata": {},
   "source": [
    "Return the results as a `pandas` DataFrame, and then delete the query to save space."
   ]
  },
  {
   "cell_type": "code",
   "execution_count": null,
   "id": "8cd2f538-c2d7-44ca-ab4d-825120b8f2e7",
   "metadata": {},
   "outputs": [],
   "source": [
    "results = job.fetch_result().to_table().to_pandas()\n",
    "job.delete()\n",
    "del query"
   ]
  },
  {
   "cell_type": "markdown",
   "id": "27888222-8fca-4620-a838-9260b0f5f47f",
   "metadata": {},
   "source": [
    "Display `results`."
   ]
  },
  {
   "cell_type": "code",
   "execution_count": null,
   "id": "ee4d121e-6b4d-4371-afae-4f7587b95d51",
   "metadata": {},
   "outputs": [],
   "source": [
    "results"
   ]
  },
  {
   "cell_type": "code",
   "execution_count": null,
   "id": "db2168fe-593a-423d-b2f4-26ac0db60e8c",
   "metadata": {},
   "outputs": [],
   "source": [
    "type(results)"
   ]
  },
  {
   "cell_type": "markdown",
   "id": "9c59c4e8-90bd-4aa8-8ce2-9a14c09988a0",
   "metadata": {},
   "source": [
    "There's a lot of options for investigating DataFrame objects. Some options are inspection- and summary-oriented, such as the `.head()`, `.tail()`, and `.describe()` attributes.\n",
    "\n",
    "Check these out now. `.head()` and `.tail()` show the first and last five rows, respectively, but can be modified to print out a different number of rows. `.describe()` provides statistics of the distribution of values in each column, including the mean and standard deviation."
   ]
  },
  {
   "cell_type": "code",
   "execution_count": null,
   "id": "eec25f58-d3f3-4ef4-b3e2-ab105c4718fd",
   "metadata": {},
   "outputs": [],
   "source": [
    "print(results.head())\n",
    "print(results.tail(10))\n",
    "print(results.describe())"
   ]
  },
  {
   "cell_type": "markdown",
   "id": "1b37fc18-e00b-4ef2-8d18-85d823d60d9e",
   "metadata": {},
   "source": [
    "# 4. Visualize the data using `seaborn`\n",
    "Use the boxplot tool from `seaborn` to visualize the distribution of the values in each column of the DataFrame."
   ]
  },
  {
   "cell_type": "code",
   "execution_count": null,
   "id": "4fc9b578-2be4-4fb2-8d74-ebca809ea99f",
   "metadata": {},
   "outputs": [],
   "source": [
    "plt.figure(figsize=(8, 6))\n",
    "sns.boxplot(data=results)\n",
    "plt.title('Box Plot of Data Distributions')\n",
    "plt.xlabel('Feature')\n",
    "plt.ylabel('Value')\n",
    "plt.xticks(rotation=90);"
   ]
  },
  {
   "cell_type": "markdown",
   "id": "5a1199ac-f06b-46be-8a98-9b6ca175eb8f",
   "metadata": {},
   "source": [
    "> A boxplot of the following columns: `coord_ra`, `coord_dec`, `g_kronFlux`, `g_kronflux_flag`, `r_kronFlux`, `r_kronFlux_flag`, `i_kronFlux`, and `i_kronFlux_flag`. The scaling only allows us to see the outlier circles for all of these columns, not the actual boxplot. This will need to be rescaled."
   ]
  },
  {
   "cell_type": "markdown",
   "id": "ef5f20de-0fd6-4ba1-9cab-9d59cd05df99",
   "metadata": {},
   "source": [
    "The outliers (points far from the majority of the distribution) are dominant in the visualization. Hide these and also only plot the Kron Flux values."
   ]
  },
  {
   "cell_type": "code",
   "execution_count": null,
   "id": "bacf5114-6a64-4100-8eb6-f1d9ddc36f89",
   "metadata": {},
   "outputs": [],
   "source": [
    "plt.figure(figsize=(8, 6))\n",
    "sns.boxplot(data=results[['g_kronFlux','r_kronFlux','i_kronFlux']], showfliers=False)\n",
    "plt.title('Box Plot of Data Distributions')\n",
    "plt.xlabel('Feature')\n",
    "plt.ylabel('Value')\n",
    "plt.xticks(rotation=90);"
   ]
  },
  {
   "cell_type": "markdown",
   "id": "22a861da-38af-47c9-a29a-782fea694615",
   "metadata": {},
   "source": [
    "> A boxplot of the following columns: `g_kronFlux`, `r_kronFlux`, and `i_kronFlux`. The boxplots have greater weight to lower values (<1000), with the whiskers extending for all columns to negative values."
   ]
  },
  {
   "cell_type": "markdown",
   "id": "75d6336b-1068-46cf-8105-b945fd18020e",
   "metadata": {},
   "source": [
    "Boxplots show a box and whiskers.\n",
    "- The \"box\" is the interquartile range (IQR), which is the 25th percentile of the distribution of a value to the 75th percentile.\n",
    "- The horizontal line inside the box is the median of the distribution.\n",
    "- The whisker extends from the IQR to 1.5*IQR away from the edge of the box.\n",
    "- Points outside the whisker are considered outliers (hidden here).\n"
   ]
  },
  {
   "cell_type": "markdown",
   "id": "448bec6a-15e1-49b5-a52e-bdd743ff207a",
   "metadata": {},
   "source": [
    "Use `seaborn`'s violinplot tool to visualize the distribution for these same Kron flux values."
   ]
  },
  {
   "cell_type": "code",
   "execution_count": null,
   "id": "39521ac6-0bec-42e7-9062-8fc9ce5edc55",
   "metadata": {},
   "outputs": [],
   "source": [
    "plt.figure(figsize=(8, 6))\n",
    "filtered_results = results[['g_kronFlux', 'r_kronFlux', 'i_kronFlux']].apply(lambda x: x[(x > x.quantile(0.05)) & (x < x.quantile(0.95))])\n",
    "sns.violinplot(data=filtered_results,\n",
    "              cut=0)\n",
    "plt.title('Box Plot of Data Distributions')\n",
    "plt.xlabel('Feature')\n",
    "plt.ylabel('Value')\n",
    "plt.xticks(rotation=90);"
   ]
  },
  {
   "cell_type": "markdown",
   "id": "9e2aa0ec-7ea6-4d65-94ee-b44ef7a673b6",
   "metadata": {},
   "source": [
    "> A violinplot of the following columns: `g_kronFlux`, `r_kronFlux`, and `i_kronFlux`. The violinplots have greater weight to lower values (<1000), and also include boxplots inside."
   ]
  },
  {
   "cell_type": "markdown",
   "id": "4f2c50a8-098e-4230-b122-3880c8bb1883",
   "metadata": {},
   "source": [
    "A violinplot gives a lot of the same information as a boxplot, in fact, there are little boxplots within the violinplot; the horizontal white line is the median, the thicker grey box is the IQR and the thin line shows the 1.5*IQR span. A violinplot also uses a kernel density extimator to visualize the distribution of each feature. These plots reveal that most of the data are clustered around relatively low values for all of the Kron fluxes."
   ]
  },
  {
   "cell_type": "markdown",
   "id": "3ec470a9-8db0-403a-89ba-32e0dd9bef15",
   "metadata": {},
   "source": [
    "# 5. Clean the data"
   ]
  },
  {
   "cell_type": "markdown",
   "id": "18dba188-ea4c-47e9-8faf-62e3552add1e",
   "metadata": {},
   "source": [
    "Use `pandas` to investigate if there are any flags on the `kronFlux` measurement. The `.value_counts()` method will show the number of True and False columns, where True are rows for which the `g_kronFlux` measurement was flagged for a variety of reasons. There are many other columns that investigate specific reasons why this measurement is untrustworthy; the `g_kronFlux_flag` is a way to combine all of the individual flags. When this flag is set to `True`, the row is flagged."
   ]
  },
  {
   "cell_type": "code",
   "execution_count": null,
   "id": "0be4535d-cc89-45ef-98e9-591b9f459fae",
   "metadata": {},
   "outputs": [],
   "source": [
    "results['g_kronFlux_flag'].value_counts()"
   ]
  },
  {
   "cell_type": "markdown",
   "id": "24e94c30-66b3-4b9c-b79b-bcf024d5f214",
   "metadata": {},
   "source": [
    "Okay what about the `r_kronFlux` measurement?"
   ]
  },
  {
   "cell_type": "code",
   "execution_count": null,
   "id": "0e66ccb2-3922-471b-8c15-7fb055d02a10",
   "metadata": {},
   "outputs": [],
   "source": [
    "results['r_kronFlux_flag'].value_counts()"
   ]
  },
  {
   "cell_type": "markdown",
   "id": "fa7a4ce1-7bd4-47f8-a480-188b2c70579a",
   "metadata": {},
   "source": [
    "Perform an intersection to see if the flagged entries overlap between these two photometric bands."
   ]
  },
  {
   "cell_type": "code",
   "execution_count": null,
   "id": "06786c33-2563-4237-9d0f-22d6308c0d7b",
   "metadata": {},
   "outputs": [],
   "source": [
    "r_values = set(results['r_kronFlux_flag'].unique())\n",
    "g_values = set(results['g_kronFlux_flag'].unique())\n",
    "\n",
    "overlap = r_values & g_values\n",
    "\n",
    "overlap_true_rows = results[\n",
    "    (results['r_kronFlux_flag'].isin(overlap)) & \n",
    "    (results['g_kronFlux_flag'].isin(overlap)) & \n",
    "    (results['r_kronFlux_flag'] == True) & \n",
    "    (results['g_kronFlux_flag'] == True)\n",
    "]\n",
    "\n",
    "print(overlap_true_rows)"
   ]
  },
  {
   "cell_type": "markdown",
   "id": "ec13b104-ad8d-4bd6-8a93-b6d1d57b921e",
   "metadata": {},
   "source": [
    "There are many overlapping rows, meaning that in these cases, both photometric bands are flagged. Since the task at hand is a prediction one between three bands ($g$, $r$, and $i$) the bigger concern is the cases where any of these individual three Kron fluxes are flagged. Exclude rows where this is the case and build an \"unflagged\" DataFrame."
   ]
  },
  {
   "cell_type": "code",
   "execution_count": null,
   "id": "e6294681-9c60-4ec6-805c-d378300acaa3",
   "metadata": {},
   "outputs": [],
   "source": [
    "unflagged_df = results[\n",
    "    (results['r_kronFlux_flag'] == False) & \n",
    "    (results['g_kronFlux_flag'] == False) &\n",
    "    (results['i_kronFlux_flag'] == False)\n",
    "]"
   ]
  },
  {
   "cell_type": "markdown",
   "id": "38a84cda-eedb-4238-9d27-f91cb9f56531",
   "metadata": {},
   "source": [
    "Visualize the relationship between $g$ and $r$ in this unflagged DataFrame."
   ]
  },
  {
   "cell_type": "code",
   "execution_count": null,
   "id": "61a66274-c3e1-4e41-b743-649fc00d69b7",
   "metadata": {},
   "outputs": [],
   "source": [
    "plt.scatter(unflagged_df['g_kronFlux'], unflagged_df['r_kronFlux'])\n",
    "plt.xlabel(r'$g-$band kronFlux [nJy]')\n",
    "plt.ylabel(r'$r-$band kronFlux [nJy]');"
   ]
  },
  {
   "cell_type": "markdown",
   "id": "ae55eb3a-8a47-44e5-8242-38467b215cde",
   "metadata": {},
   "source": [
    "> Scatter plot of $g-$gand kronFlux [nJy] (x-axis) versus $r-$band kronFlux [nJy] (y-axis). The blue points appear to be roungly linear in this space with more concentration towards lower values and spread at higher values. The few points at high value have values on order 1e6 and there is a concentration around values less than 0.5e5 (in both axes)."
   ]
  },
  {
   "cell_type": "markdown",
   "id": "1b76242e-6a0d-4f0c-ac35-fa27d4fef24a",
   "metadata": {},
   "source": [
    "Zoom in."
   ]
  },
  {
   "cell_type": "code",
   "execution_count": null,
   "id": "5afedb17-6478-4f2b-bdfc-38e73cd4a65e",
   "metadata": {},
   "outputs": [],
   "source": [
    "plt.scatter(unflagged_df['g_kronFlux'], unflagged_df['r_kronFlux'])\n",
    "plt.xlabel(r'$g-$band kronFlux [nJy]')\n",
    "plt.ylabel(r'$r-$band kronFlux [nJy]')\n",
    "plt.xlim([0,30000])\n",
    "plt.ylim([0,0.5e5]);"
   ]
  },
  {
   "cell_type": "markdown",
   "id": "efffb2cf-1874-42f3-a646-fbe8753774c6",
   "metadata": {},
   "source": [
    "> Scatter plot of $g-$gand kronFlux [nJy] (x-axis) versus $r-$band kronFlux [nJy] (y-axis). The blue points appear to be roungly linear in this space with more concentration towards lower values and spread at higher values."
   ]
  },
  {
   "cell_type": "markdown",
   "id": "2f503394-3816-4d31-9cf0-9de88e229f87",
   "metadata": {},
   "source": [
    "There does seem to be a relationship between $g-$ and $r-$band Kron fluxes, meaning that it should be possible to do some predictive work here."
   ]
  },
  {
   "cell_type": "markdown",
   "id": "ca8c22a0-485a-4525-af2f-1e4c8bf74cd0",
   "metadata": {},
   "source": [
    "Another thing to check before starting to fit is if there are any nans in these Series. (A Series is a single column of a DataFrame.)"
   ]
  },
  {
   "cell_type": "code",
   "execution_count": null,
   "id": "01fcf2a8-7f85-4ec0-8ebe-b69b76da7294",
   "metadata": {},
   "outputs": [],
   "source": [
    "print(unflagged_df['g_kronFlux'].isna().any(), unflagged_df['r_kronFlux'].isna().any())"
   ]
  },
  {
   "cell_type": "markdown",
   "id": "62479245-028e-4709-9c46-bc244463176c",
   "metadata": {},
   "source": [
    "Both outputs should be `False`."
   ]
  },
  {
   "cell_type": "markdown",
   "id": "2309022c-3530-4f3c-9f7a-7d51f3537afe",
   "metadata": {},
   "source": [
    "Another important step is to check for negative (or zero) values in these data; they are fluxes so they should not be negative or equal to zero. First, count the number of these values in each of the $g-$ and $r-$band Series."
   ]
  },
  {
   "cell_type": "code",
   "execution_count": null,
   "id": "47a125c4-77fa-4712-be40-241318966774",
   "metadata": {},
   "outputs": [],
   "source": [
    "neg_g = (unflagged_df['g_kronFlux'] <= 0).sum()\n",
    "neg_r = (unflagged_df['r_kronFlux'] <= 0).sum()\n",
    "\n",
    "print(f\"Negative or zero values in g_kronFlux: {neg_g}\")\n",
    "print(f\"Negative or zero values in r_kronFlux: {neg_r}\")"
   ]
  },
  {
   "cell_type": "markdown",
   "id": "7a5d982a-939d-4e84-afbb-abe48975d502",
   "metadata": {},
   "source": [
    "Uh oh! This is a big problem, let's mask all rows of the dataframe where any individual flux measurement is negative, making a \"clean\" DataFrame."
   ]
  },
  {
   "cell_type": "code",
   "execution_count": null,
   "id": "ffbe5670-6de4-4a92-99f7-4e480789b596",
   "metadata": {},
   "outputs": [],
   "source": [
    "mask = (unflagged_df['g_kronFlux'] > 0) & (unflagged_df['r_kronFlux'] > 0) & (unflagged_df['i_kronFlux'] > 0)\n",
    "clean_df = unflagged_df[mask]"
   ]
  },
  {
   "cell_type": "markdown",
   "id": "20799ed0-9d75-4a85-8a7c-57cebbda85f6",
   "metadata": {},
   "source": [
    "It's always good to double check if the above mask worked. Below, there should be zero values in the `clean_df`."
   ]
  },
  {
   "cell_type": "code",
   "execution_count": null,
   "id": "782e7e2e-372e-4fcb-b837-a19a3bc83511",
   "metadata": {},
   "outputs": [],
   "source": [
    "neg_g = (clean_df['g_kronFlux'] <= 0).sum()\n",
    "neg_r = (clean_df['r_kronFlux'] <= 0).sum()\n",
    "print(f\"Negative or zero values in g_kronFlux: {neg_g}\")\n",
    "print(f\"Negative or zero values in r_kronFlux: {neg_r}\")"
   ]
  },
  {
   "cell_type": "markdown",
   "id": "4704605a-4665-4ccc-bd7e-cefaf5e09828",
   "metadata": {},
   "source": [
    "# 6. Prepare the training and test sets\n",
    "The goal is to predict the $r-$band Kron flux using the $g-$band Kron flux. The first step is to define the training and validation data."
   ]
  },
  {
   "cell_type": "code",
   "execution_count": null,
   "id": "fc90feca-ede1-44b0-929b-2fec1ddf5ad4",
   "metadata": {},
   "outputs": [],
   "source": [
    "X_train, X_test, y_train, y_test = train_test_split(\n",
    "    clean_df['g_kronFlux'].to_frame(),\n",
    "    clean_df['r_kronFlux'].to_frame(),\n",
    "    test_size=0.2, random_state=42)"
   ]
  },
  {
   "cell_type": "markdown",
   "id": "37d77db2-1a91-4696-831f-d426f3ca7539",
   "metadata": {},
   "source": [
    "The `.to_frame()` argument is required to input the X data as a 2D shape, as expected by `scikit-learn`."
   ]
  },
  {
   "cell_type": "markdown",
   "id": "ecb487df-ce82-4d2d-9821-64620e1e922b",
   "metadata": {},
   "source": [
    "It's best practice to use a standard scaler when training machine learning models. Transform the training and test data, scaling to a mean of zero and a standard deviation of one by default.\n",
    "\n",
    "**Note to future developer of this notebook: I (Becky) was wondering if a log transform is also necessary because the data seems logarithmically scaled. I'm not sure if it's needed, but I've set this up to also include an invertible log transform if you want to test it.**"
   ]
  },
  {
   "cell_type": "code",
   "execution_count": null,
   "id": "f09a28c9-f868-4cfa-a309-c53b26193e01",
   "metadata": {},
   "outputs": [],
   "source": [
    "log_scaler = FunctionTransformer(func=np.log, inverse_func=np.exp, validate=True)\n",
    "\n",
    "X_scaler = make_pipeline(\n",
    "    #log_scaler,\n",
    "    StandardScaler()\n",
    ")\n",
    "\n",
    "y_scaler = make_pipeline(\n",
    "    #log_scaler,\n",
    "    StandardScaler()\n",
    ")"
   ]
  },
  {
   "cell_type": "markdown",
   "id": "9c8aeb31-3cbd-461f-88de-3e60e9acb4a7",
   "metadata": {},
   "source": [
    "Fit to the transform and then also transform the test data according to the scaler."
   ]
  },
  {
   "cell_type": "code",
   "execution_count": null,
   "id": "ec1efab7-be4c-4bdc-9ead-78fd6b400345",
   "metadata": {},
   "outputs": [],
   "source": [
    "X_train_scaled = X_scaler.fit_transform(X_train)\n",
    "X_test_scaled = X_scaler.transform(X_test)\n",
    "\n",
    "y_train_scaled = y_scaler.fit_transform(y_train)\n",
    "y_test_scaled = y_scaler.transform(y_test)"
   ]
  },
  {
   "cell_type": "markdown",
   "id": "f990ce31-fb46-4c64-b56c-b26781c8e571",
   "metadata": {},
   "source": [
    "Check that the resultant distribution for training data has a center of roughly zero."
   ]
  },
  {
   "cell_type": "code",
   "execution_count": null,
   "id": "5be7b1b1-2177-46e5-ad41-607e55d12949",
   "metadata": {},
   "outputs": [],
   "source": [
    "plt.clf()\n",
    "plt.hist(X_train_scaled, range=[-2,2]);"
   ]
  },
  {
   "cell_type": "markdown",
   "id": "5e0d7b9a-b383-43c2-bb4a-826586326484",
   "metadata": {},
   "source": [
    "> A histogram with a x-axis range from -2 to 2 for the distribution of the rescaled `X_train` data."
   ]
  },
  {
   "cell_type": "markdown",
   "id": "8dfc5412-e4a5-4f32-a27c-25acb1a8c54c",
   "metadata": {},
   "source": [
    "Perform the inverse transform to check if the twice transformed data is the same as the original."
   ]
  },
  {
   "cell_type": "code",
   "execution_count": null,
   "id": "f4086f5f-7c2d-4d6c-a2d4-8dff42e2fc84",
   "metadata": {},
   "outputs": [],
   "source": [
    "X_train_tt = X_scaler.inverse_transform(X_train_scaled)\n",
    "X_test_tt = X_scaler.inverse_transform(X_test_scaled)\n",
    "\n",
    "y_train_tt = y_scaler.inverse_transform(y_train_scaled)\n",
    "y_test_tt = y_scaler.inverse_transform(y_test_scaled)"
   ]
  },
  {
   "cell_type": "markdown",
   "id": "46ca963a-c142-438b-91a7-c6e30904e45e",
   "metadata": {},
   "source": [
    "Check that the original `X_train` is the same as the twice transformed `X_train_tt`."
   ]
  },
  {
   "cell_type": "code",
   "execution_count": null,
   "id": "fc4cecc6-f256-4f55-8d54-f585630e8b4f",
   "metadata": {},
   "outputs": [],
   "source": [
    "plt.clf()\n",
    "plt.hist(X_train_tt, range=[0,1500], label='twice transformed', alpha=0.5, color='red')\n",
    "plt.hist(X_train, range=[0,1500], label='original', alpha=0.5, color='orange')\n",
    "plt.legend();"
   ]
  },
  {
   "cell_type": "markdown",
   "id": "ad501069-4509-40d2-b05d-03d800e40296",
   "metadata": {},
   "source": [
    "> Overlapping histograms for `X_train` and `X_train_tt` with an x-axis range of 0 to 1500."
   ]
  },
  {
   "cell_type": "markdown",
   "id": "6011b2e6-5197-4475-8eb4-3a8841b3bd28",
   "metadata": {},
   "source": [
    "# 7. Model (using `scikit-learn`)"
   ]
  },
  {
   "cell_type": "markdown",
   "id": "48c8d648-288f-4635-a961-248f127fe524",
   "metadata": {},
   "source": [
    "## 7.1 Start with a linear regression"
   ]
  },
  {
   "cell_type": "markdown",
   "id": "b99ff86e-f364-4edb-8c4f-bdd645a525ae",
   "metadata": {},
   "source": [
    "Instantiate the model and then fit it with the training data."
   ]
  },
  {
   "cell_type": "code",
   "execution_count": null,
   "id": "e02ca479-6105-442b-9879-2eb215dc4d66",
   "metadata": {},
   "outputs": [],
   "source": [
    "model_lr = LinearRegression()\n",
    "model_lr.fit(X_train_scaled, y_train_scaled)"
   ]
  },
  {
   "cell_type": "markdown",
   "id": "b2fe11b4-a9ad-45f9-9c1e-e25bb3a0301c",
   "metadata": {},
   "source": [
    "Now predict the test data. Compare the prediction to the true value. Use the mean squared error function to get a diagnostic on how well the fit is behaving for the test set."
   ]
  },
  {
   "cell_type": "code",
   "execution_count": null,
   "id": "aca8064a-c94f-4792-86b3-62ec2130471b",
   "metadata": {},
   "outputs": [],
   "source": [
    "y_pred = model_lr.predict(X_test_scaled)\n",
    "mse = mean_squared_error(y_test_scaled, y_pred)\n",
    "print(\"MSE:\", mse)"
   ]
  },
  {
   "cell_type": "markdown",
   "id": "c9086695-43c6-49e5-a751-bcabc275172d",
   "metadata": {},
   "source": [
    "Plot how the predicted values compare to the true values."
   ]
  },
  {
   "cell_type": "code",
   "execution_count": null,
   "id": "ee8bd887-928e-4a41-bd77-149b344ab238",
   "metadata": {},
   "outputs": [],
   "source": [
    "plt.clf()\n",
    "plt.scatter(y_test_scaled, y_pred)\n",
    "plt.plot([-4,6],[-4,6], color='black', ls='--')\n",
    "plt.xlabel('True')\n",
    "plt.ylabel('Predicted')\n",
    "plt.xlim([-5,5])\n",
    "plt.ylim([-5,5]);"
   ]
  },
  {
   "cell_type": "markdown",
   "id": "f33c5476-7662-4e5d-95e5-a2103e6ab2d8",
   "metadata": {},
   "source": [
    "> Scatter plot of true versus predicted value for the scaled $r-$band Kron flux. A 1:1 line shows the expected value if the linear regression were a perfect predictor."
   ]
  },
  {
   "cell_type": "markdown",
   "id": "8367d3db-3527-4cab-abdb-51391259ec02",
   "metadata": {},
   "source": [
    "Transform the predictions back to the true values (remember the current scaling is standardized) and look at the results in that space."
   ]
  },
  {
   "cell_type": "code",
   "execution_count": null,
   "id": "6770c381-1f34-44a7-b93b-b7f915013620",
   "metadata": {},
   "outputs": [],
   "source": [
    "y_pred_tt = y_scaler.inverse_transform(y_pred)"
   ]
  },
  {
   "cell_type": "code",
   "execution_count": null,
   "id": "f83cf984-ffa7-4486-98ec-bce890b91bad",
   "metadata": {},
   "outputs": [],
   "source": [
    "plt.clf()\n",
    "plt.scatter(y_test_tt, y_pred_tt)\n",
    "plt.plot([-1e3,2e4],[-1e3,2e4], color='black', ls='--')\n",
    "plt.xlabel('True')\n",
    "plt.ylabel('Predicted');\n",
    "plt.xlim([-1e3,2e4])\n",
    "plt.ylim([-1e3,2e4]);"
   ]
  },
  {
   "cell_type": "markdown",
   "id": "c2b12a25-236e-4a1b-804b-03b97960712c",
   "metadata": {},
   "source": [
    "> A scatterplot of the true versus predicted value for the $r-$band Kron flux scaled back to the original values. The x- and y-axes scale between -1000 to 2e4."
   ]
  },
  {
   "cell_type": "markdown",
   "id": "da4c11bc-53bb-48b5-a89f-aeb2628fd77d",
   "metadata": {},
   "source": [
    "Also get the MSE for the rescaled y value."
   ]
  },
  {
   "cell_type": "code",
   "execution_count": null,
   "id": "fb653dbd-4e77-4099-80ac-781f20cb38eb",
   "metadata": {},
   "outputs": [],
   "source": [
    "mse = mean_squared_error(y_test_tt, y_pred_tt)\n",
    "print(\"MSE:\", mse)"
   ]
  },
  {
   "cell_type": "markdown",
   "id": "1de26eb9-e7cf-4e94-bf14-0fda5d8efe18",
   "metadata": {},
   "source": [
    "## 7.2 Improve the model with more features\n",
    "Let's see if this will improve with more predictive values, this time including the $i-$band Kron flux. Split the training/test sets, perform the standard scaling, and linear regression. This time, do not scale the y-value $r-$band Kron flux."
   ]
  },
  {
   "cell_type": "code",
   "execution_count": null,
   "id": "d80e56eb-6e3d-4110-bee6-3681ee4a923b",
   "metadata": {},
   "outputs": [],
   "source": [
    "X_train_i, X_test_i, y_train_i, y_test_i = train_test_split(\n",
    "    clean_df[['g_kronFlux', 'i_kronFlux']],\n",
    "    clean_df['r_kronFlux'],\n",
    "    test_size=0.2,\n",
    "    random_state=42\n",
    ")\n",
    "\n",
    "scaler = StandardScaler()\n",
    "X_train_i_scaled = scaler.fit_transform(X_train_i)\n",
    "X_test_i_scaled = scaler.transform(X_test_i)\n",
    "\n",
    "model_mlr = LinearRegression()\n",
    "model_mlr.fit(X_train_i_scaled, y_train_i)\n",
    "\n",
    "y_pred_i = model_mlr.predict(X_test_i_scaled)\n",
    "\n",
    "mse = mean_squared_error(y_test_i, y_pred_i)\n",
    "print(\"MSE:\", mse)\n",
    "\n",
    "plt.clf()\n",
    "plt.scatter(y_test_i, y_pred_i)\n",
    "plt.plot([0, 1e6], [0, 1e6], color='black', ls='--')\n",
    "plt.xlabel('True')\n",
    "plt.ylabel('Predicted')\n",
    "plt.xlim([0, 2e4])\n",
    "plt.ylim([0, 2e4]);"
   ]
  },
  {
   "cell_type": "markdown",
   "id": "5f72c9ad-547a-455a-8b0e-39674e94fe43",
   "metadata": {},
   "source": [
    "> A scatter plot demonstrating a tighter fit when the $i-$band Kron flux is included as a predictive feature."
   ]
  },
  {
   "cell_type": "markdown",
   "id": "30cd4c78-35e5-4459-84bf-9642068da002",
   "metadata": {},
   "source": [
    "Test for the reader: try to improve this further by including more features. The MSE has already improved from the above value!"
   ]
  },
  {
   "cell_type": "markdown",
   "id": "89e92033-ff41-4662-b5aa-ece41c216a07",
   "metadata": {},
   "source": [
    "## 7.3 Random forest regressor\n",
    "These are a great type of model for regression or classification. Use it here to perform regression, again, also including the $i-$band Kron fluxes."
   ]
  },
  {
   "cell_type": "code",
   "execution_count": null,
   "id": "efb56f9d-6487-444d-b283-6d60c1694948",
   "metadata": {},
   "outputs": [],
   "source": [
    "model_rf = RandomForestRegressor()\n",
    "model_rf.fit(X_train_i_scaled, y_train_i)\n",
    "\n",
    "y_pred_i_rf = model_rf.predict(X_test_i_scaled)\n",
    "\n",
    "\n",
    "mse = mean_squared_error(y_test_i, y_pred_i_rf)\n",
    "print(\"MSE:\", mse)\n",
    "\n",
    "plt.clf()\n",
    "plt.scatter(y_test_i, y_pred_i_rf)\n",
    "plt.plot([0, 1e6], [0, 1e6], color='black', ls='--')\n",
    "plt.xlabel('True')\n",
    "plt.ylabel('Predicted')\n",
    "plt.xlim([0, 2e4])\n",
    "plt.ylim([0, 2e4]);"
   ]
  },
  {
   "cell_type": "markdown",
   "id": "21b186b9-80b7-455e-8433-78c531050100",
   "metadata": {},
   "source": [
    "> Another scatterplot of true versus predicted y-values."
   ]
  },
  {
   "cell_type": "markdown",
   "id": "13845e03-08fe-4f80-8883-a671e8afd9d5",
   "metadata": {},
   "source": [
    "**Strange that the MSE is actually worse than linear regression.**"
   ]
  },
  {
   "cell_type": "markdown",
   "id": "4ed0b4e6-904a-4af8-8bfe-cad402de09a4",
   "metadata": {},
   "source": [
    "# 8. Hyperparameter tuning\n",
    "With any `scikit-learn` model, it's possible to tune the hyperparameters to achieve better performance. Define the grid to search over, here test the `n_estimators` parameter from random forest estimators, which defines the number of trees in the random forest. The default setting is 100."
   ]
  },
  {
   "cell_type": "code",
   "execution_count": null,
   "id": "e6420904-44bb-40cf-8ce0-92b22a802e59",
   "metadata": {},
   "outputs": [],
   "source": [
    "param_grid = {'n_estimators': [1, 10, 50, 100, 200, 1000]}"
   ]
  },
  {
   "cell_type": "markdown",
   "id": "e337134d-22fe-42d3-83d2-9f22bb93e70e",
   "metadata": {},
   "source": [
    "Now define the `GridSearchCV` object and fit the model, wrapped in this grid search object."
   ]
  },
  {
   "cell_type": "code",
   "execution_count": null,
   "id": "48a166c2-10b9-470f-bd03-3d7e6d51a1c7",
   "metadata": {},
   "outputs": [],
   "source": [
    "grid = GridSearchCV(model_rf, param_grid, cv=5)\n",
    "\n",
    "grid.fit(X_train_i_scaled, y_train_i)\n",
    "\n",
    "print(grid.best_params_)"
   ]
  },
  {
   "cell_type": "markdown",
   "id": "8445ad22-4275-4a56-ace7-ce1a678dd900",
   "metadata": {},
   "source": [
    "Now retrieve the best model and print out model diagnostics."
   ]
  },
  {
   "cell_type": "code",
   "execution_count": null,
   "id": "89167a5d-e835-4f8d-8d57-ac82f0df6239",
   "metadata": {},
   "outputs": [],
   "source": [
    "best_model = grid.best_estimator_\n",
    "print(\"Best Model:\", best_model)\n",
    "y_pred_grid = best_model.predict(X_test_i_scaled)\n",
    "plt.clf()\n",
    "plt.scatter(y_test_i, y_pred_grid)\n",
    "plt.plot([0, 1e6], [0, 1e6], color='black', ls='--')\n",
    "plt.xlabel('True')\n",
    "plt.ylabel('Predicted')\n",
    "plt.xlim([0, 2e4])\n",
    "plt.ylim([0, 2e4])\n",
    "plt.show()\n",
    "\n",
    "mse = mean_squared_error(y_test_i, y_pred_grid)\n",
    "print(\"MSE:\", mse)"
   ]
  },
  {
   "cell_type": "markdown",
   "id": "e6438d53-e03b-4afa-a417-489064caf51e",
   "metadata": {},
   "source": [
    "**To do: The multiple linear regression currently has a better MSE than this model, investigate why that is a little more.**"
   ]
  },
  {
   "cell_type": "markdown",
   "id": "ec3e2b39-f86e-4dfa-a97a-9e018fc2208c",
   "metadata": {},
   "source": [
    "# 9. Fit the best model to rows where the $r-$band Kron flux is missing."
   ]
  },
  {
   "cell_type": "markdown",
   "id": "98f817da-d4cd-40d2-be10-ba9c1669e68e",
   "metadata": {},
   "source": [
    "First, return to the dataframe and snag rows where the $r-$band flux is flagged but the $g-$ and $i-$band Kron fluxes are intact."
   ]
  },
  {
   "cell_type": "code",
   "execution_count": null,
   "id": "a020b226-289d-4587-9e42-47f64574dbf6",
   "metadata": {},
   "outputs": [],
   "source": [
    "r_missing_df = results[\n",
    "    (results['r_kronFlux_flag'] == True) & \n",
    "    (results['g_kronFlux_flag'] == False) &\n",
    "    (results['i_kronFlux_flag'] == False)\n",
    "]\n",
    "r_missing_df"
   ]
  },
  {
   "cell_type": "code",
   "execution_count": null,
   "id": "dd7a891e-5a56-440e-a721-91af73d74269",
   "metadata": {},
   "outputs": [],
   "source": [
    "X_r_missing = r_missing_df[['g_kronFlux', 'i_kronFlux']]\n",
    "X_r_missing_scaled = scaler.fit_transform(X_r_missing)\n",
    "y_pred_r_missing = best_model.predict(X_r_missing_scaled)"
   ]
  },
  {
   "cell_type": "code",
   "execution_count": null,
   "id": "0e438d24-75ba-4888-b2c9-cb4fa6c6db85",
   "metadata": {},
   "outputs": [],
   "source": [
    "plt.scatter(r_missing_df['r_kronFlux'].values, y_pred_r_missing)\n",
    "plt.xlabel(r'Flagged $r-$band values')\n",
    "plt.ylabel('Predicted $r-$band values');"
   ]
  },
  {
   "cell_type": "markdown",
   "id": "d4c11515-3263-4d8e-bf08-fa60f7cafb9d",
   "metadata": {},
   "source": [
    "> A scatterplot of flagged (original) $r-$band Kron flux values against the predicted values from the best fit model. The spread is much greater in the y-axis."
   ]
  },
  {
   "cell_type": "markdown",
   "id": "68c59d12-a11f-40b7-b7fb-84276d0c7c78",
   "metadata": {},
   "source": [
    "**To do: Also plot against the predictors ($g-$ and $i-$band) Kron fluxes for a better idea of how this model performs.**"
   ]
  },
  {
   "cell_type": "markdown",
   "id": "d5c33bd9-b95e-4ec8-a44d-cf3f219339e8",
   "metadata": {},
   "source": [
    "# 10. Other available `scikit-learn` choices\n",
    "The below two cells explore available options from `scikit-learn` for regression metrics and regression models, respectively. The metric cell is truncated with a `break` statement to only print details of the first metric. The model cell demonstrates printing the class information for the `RandomForestRegressor` class."
   ]
  },
  {
   "cell_type": "code",
   "execution_count": null,
   "id": "5adca7ed-eb36-4e8b-99e3-3b66833fb3e3",
   "metadata": {},
   "outputs": [],
   "source": [
    "regression_metrics = [\n",
    "    name for name, obj in inspect.getmembers(metrics)\n",
    "    if inspect.isfunction(obj)\n",
    "    and ('regression' in (obj.__doc__ or '').lower() or 'error' in (obj.__doc__ or '').lower())\n",
    "    and 'classification' not in (obj.__doc__ or '').lower()\n",
    "]\n",
    "print(regression_metrics)\n",
    "\n",
    "\n",
    "# Print the filtered metrics and their documentation\n",
    "for metric in regression_metrics:\n",
    "    metric_func = getattr(metrics, metric)\n",
    "    if metric == \"mean_tweedie_deviance\":\n",
    "        print(f\"--- {metric} ---\")\n",
    "        help(metric_func)\n",
    "        print(\"=\"*80)"
   ]
  },
  {
   "cell_type": "code",
   "execution_count": null,
   "id": "de4a41f7-9f4f-4662-9302-2da7d68df434",
   "metadata": {},
   "outputs": [],
   "source": [
    "# Get all regression models\n",
    "regressors = all_estimators(type_filter='regressor')\n",
    "\n",
    "# Print the names of all available regression models\n",
    "for name, estimator in regressors:\n",
    "    print(name)\n",
    "\n",
    "for name, estimator in regressors:\n",
    "    if name == \"RandomForestRegressor\":\n",
    "        print(help(estimator))"
   ]
  },
  {
   "cell_type": "markdown",
   "id": "2e205cc2-26f1-4b51-bb36-3ce2ed8cece4",
   "metadata": {},
   "source": [
    "# Exercise for the learner\n",
    "\n",
    "The uncertainty values are also available for each column of Kron fluxes. Use those to run an uncertainty-aware model fit for the $r-$band Kron fluxes."
   ]
  },
  {
   "cell_type": "code",
   "execution_count": null,
   "id": "7877e1b2-e1c8-4d1f-a2b8-60c758cdf61d",
   "metadata": {},
   "outputs": [],
   "source": []
  }
 ],
 "metadata": {
  "kernelspec": {
   "display_name": "LSST",
   "language": "python",
   "name": "lsst"
  },
  "language_info": {
   "codemirror_mode": {
    "name": "ipython",
    "version": 3
   },
   "file_extension": ".py",
   "mimetype": "text/x-python",
   "name": "python",
   "nbconvert_exporter": "python",
   "pygments_lexer": "ipython3",
   "version": "3.12.9"
  }
 },
 "nbformat": 4,
 "nbformat_minor": 5
}
